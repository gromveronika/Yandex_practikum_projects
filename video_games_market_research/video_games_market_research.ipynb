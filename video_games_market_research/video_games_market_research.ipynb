{
 "cells": [
  {
   "cell_type": "markdown",
   "metadata": {},
   "source": [
    "## Структура проекта:\n",
    "1. Открытие файла и изучение общей информации\n",
    "2. Предобработка данных  \n",
    "3. Исследовательский анализ данных\n",
    "4. Составление портрета пользователя каждого региона \n",
    "5. Приверка гипотез\n",
    "6. Общие выводы по проекту"
   ]
  },
  {
   "cell_type": "markdown",
   "metadata": {},
   "source": [
    "### Шаг 1. Открытие файла с данными и изучение общей информации. "
   ]
  },
  {
   "cell_type": "code",
   "execution_count": 1,
   "metadata": {},
   "outputs": [],
   "source": [
    "import numpy as np\n",
    "import pandas as pd\n",
    "import matplotlib.pyplot as plt\n",
    "import seaborn as sns\n",
    "from scipy import stats as st\n",
    "\n",
    "%matplotlib inline"
   ]
  },
  {
   "cell_type": "code",
   "execution_count": 2,
   "metadata": {},
   "outputs": [],
   "source": [
    "df = pd.read_csv('games.csv')"
   ]
  },
  {
   "cell_type": "code",
   "execution_count": 3,
   "metadata": {},
   "outputs": [
    {
     "data": {
      "text/html": [
       "<div>\n",
       "<style scoped>\n",
       "    .dataframe tbody tr th:only-of-type {\n",
       "        vertical-align: middle;\n",
       "    }\n",
       "\n",
       "    .dataframe tbody tr th {\n",
       "        vertical-align: top;\n",
       "    }\n",
       "\n",
       "    .dataframe thead th {\n",
       "        text-align: right;\n",
       "    }\n",
       "</style>\n",
       "<table border=\"1\" class=\"dataframe\">\n",
       "  <thead>\n",
       "    <tr style=\"text-align: right;\">\n",
       "      <th></th>\n",
       "      <th>Name</th>\n",
       "      <th>Platform</th>\n",
       "      <th>Year_of_Release</th>\n",
       "      <th>Genre</th>\n",
       "      <th>NA_sales</th>\n",
       "      <th>EU_sales</th>\n",
       "      <th>JP_sales</th>\n",
       "      <th>Other_sales</th>\n",
       "      <th>Critic_Score</th>\n",
       "      <th>User_Score</th>\n",
       "      <th>Rating</th>\n",
       "    </tr>\n",
       "  </thead>\n",
       "  <tbody>\n",
       "    <tr>\n",
       "      <th>0</th>\n",
       "      <td>Wii Sports</td>\n",
       "      <td>Wii</td>\n",
       "      <td>2006.0</td>\n",
       "      <td>Sports</td>\n",
       "      <td>41.36</td>\n",
       "      <td>28.96</td>\n",
       "      <td>3.77</td>\n",
       "      <td>8.45</td>\n",
       "      <td>76.0</td>\n",
       "      <td>8</td>\n",
       "      <td>E</td>\n",
       "    </tr>\n",
       "    <tr>\n",
       "      <th>1</th>\n",
       "      <td>Super Mario Bros.</td>\n",
       "      <td>NES</td>\n",
       "      <td>1985.0</td>\n",
       "      <td>Platform</td>\n",
       "      <td>29.08</td>\n",
       "      <td>3.58</td>\n",
       "      <td>6.81</td>\n",
       "      <td>0.77</td>\n",
       "      <td>NaN</td>\n",
       "      <td>NaN</td>\n",
       "      <td>NaN</td>\n",
       "    </tr>\n",
       "    <tr>\n",
       "      <th>2</th>\n",
       "      <td>Mario Kart Wii</td>\n",
       "      <td>Wii</td>\n",
       "      <td>2008.0</td>\n",
       "      <td>Racing</td>\n",
       "      <td>15.68</td>\n",
       "      <td>12.76</td>\n",
       "      <td>3.79</td>\n",
       "      <td>3.29</td>\n",
       "      <td>82.0</td>\n",
       "      <td>8.3</td>\n",
       "      <td>E</td>\n",
       "    </tr>\n",
       "    <tr>\n",
       "      <th>3</th>\n",
       "      <td>Wii Sports Resort</td>\n",
       "      <td>Wii</td>\n",
       "      <td>2009.0</td>\n",
       "      <td>Sports</td>\n",
       "      <td>15.61</td>\n",
       "      <td>10.93</td>\n",
       "      <td>3.28</td>\n",
       "      <td>2.95</td>\n",
       "      <td>80.0</td>\n",
       "      <td>8</td>\n",
       "      <td>E</td>\n",
       "    </tr>\n",
       "    <tr>\n",
       "      <th>4</th>\n",
       "      <td>Pokemon Red/Pokemon Blue</td>\n",
       "      <td>GB</td>\n",
       "      <td>1996.0</td>\n",
       "      <td>Role-Playing</td>\n",
       "      <td>11.27</td>\n",
       "      <td>8.89</td>\n",
       "      <td>10.22</td>\n",
       "      <td>1.00</td>\n",
       "      <td>NaN</td>\n",
       "      <td>NaN</td>\n",
       "      <td>NaN</td>\n",
       "    </tr>\n",
       "  </tbody>\n",
       "</table>\n",
       "</div>"
      ],
      "text/plain": [
       "                       Name Platform  Year_of_Release         Genre  NA_sales  \\\n",
       "0                Wii Sports      Wii           2006.0        Sports     41.36   \n",
       "1         Super Mario Bros.      NES           1985.0      Platform     29.08   \n",
       "2            Mario Kart Wii      Wii           2008.0        Racing     15.68   \n",
       "3         Wii Sports Resort      Wii           2009.0        Sports     15.61   \n",
       "4  Pokemon Red/Pokemon Blue       GB           1996.0  Role-Playing     11.27   \n",
       "\n",
       "   EU_sales  JP_sales  Other_sales  Critic_Score User_Score Rating  \n",
       "0     28.96      3.77         8.45          76.0          8      E  \n",
       "1      3.58      6.81         0.77           NaN        NaN    NaN  \n",
       "2     12.76      3.79         3.29          82.0        8.3      E  \n",
       "3     10.93      3.28         2.95          80.0          8      E  \n",
       "4      8.89     10.22         1.00           NaN        NaN    NaN  "
      ]
     },
     "execution_count": 3,
     "metadata": {},
     "output_type": "execute_result"
    }
   ],
   "source": [
    "df.head()"
   ]
  },
  {
   "cell_type": "code",
   "execution_count": 4,
   "metadata": {},
   "outputs": [
    {
     "data": {
      "text/plain": [
       "(16715, 11)"
      ]
     },
     "execution_count": 4,
     "metadata": {},
     "output_type": "execute_result"
    }
   ],
   "source": [
    "df.shape"
   ]
  },
  {
   "cell_type": "code",
   "execution_count": 5,
   "metadata": {},
   "outputs": [
    {
     "name": "stdout",
     "output_type": "stream",
     "text": [
      "<class 'pandas.core.frame.DataFrame'>\n",
      "RangeIndex: 16715 entries, 0 to 16714\n",
      "Data columns (total 11 columns):\n",
      " #   Column           Non-Null Count  Dtype  \n",
      "---  ------           --------------  -----  \n",
      " 0   Name             16713 non-null  object \n",
      " 1   Platform         16715 non-null  object \n",
      " 2   Year_of_Release  16446 non-null  float64\n",
      " 3   Genre            16713 non-null  object \n",
      " 4   NA_sales         16715 non-null  float64\n",
      " 5   EU_sales         16715 non-null  float64\n",
      " 6   JP_sales         16715 non-null  float64\n",
      " 7   Other_sales      16715 non-null  float64\n",
      " 8   Critic_Score     8137 non-null   float64\n",
      " 9   User_Score       10014 non-null  object \n",
      " 10  Rating           9949 non-null   object \n",
      "dtypes: float64(6), object(5)\n",
      "memory usage: 1.4+ MB\n"
     ]
    }
   ],
   "source": [
    "df.info()"
   ]
  },
  {
   "cell_type": "code",
   "execution_count": 6,
   "metadata": {},
   "outputs": [
    {
     "data": {
      "text/html": [
       "<div>\n",
       "<style scoped>\n",
       "    .dataframe tbody tr th:only-of-type {\n",
       "        vertical-align: middle;\n",
       "    }\n",
       "\n",
       "    .dataframe tbody tr th {\n",
       "        vertical-align: top;\n",
       "    }\n",
       "\n",
       "    .dataframe thead th {\n",
       "        text-align: right;\n",
       "    }\n",
       "</style>\n",
       "<table border=\"1\" class=\"dataframe\">\n",
       "  <thead>\n",
       "    <tr style=\"text-align: right;\">\n",
       "      <th></th>\n",
       "      <th>Year_of_Release</th>\n",
       "      <th>NA_sales</th>\n",
       "      <th>EU_sales</th>\n",
       "      <th>JP_sales</th>\n",
       "      <th>Other_sales</th>\n",
       "      <th>Critic_Score</th>\n",
       "    </tr>\n",
       "  </thead>\n",
       "  <tbody>\n",
       "    <tr>\n",
       "      <th>count</th>\n",
       "      <td>16446.000000</td>\n",
       "      <td>16715.000000</td>\n",
       "      <td>16715.000000</td>\n",
       "      <td>16715.000000</td>\n",
       "      <td>16715.000000</td>\n",
       "      <td>8137.000000</td>\n",
       "    </tr>\n",
       "    <tr>\n",
       "      <th>mean</th>\n",
       "      <td>2006.484616</td>\n",
       "      <td>0.263377</td>\n",
       "      <td>0.145060</td>\n",
       "      <td>0.077617</td>\n",
       "      <td>0.047342</td>\n",
       "      <td>68.967679</td>\n",
       "    </tr>\n",
       "    <tr>\n",
       "      <th>std</th>\n",
       "      <td>5.877050</td>\n",
       "      <td>0.813604</td>\n",
       "      <td>0.503339</td>\n",
       "      <td>0.308853</td>\n",
       "      <td>0.186731</td>\n",
       "      <td>13.938165</td>\n",
       "    </tr>\n",
       "    <tr>\n",
       "      <th>min</th>\n",
       "      <td>1980.000000</td>\n",
       "      <td>0.000000</td>\n",
       "      <td>0.000000</td>\n",
       "      <td>0.000000</td>\n",
       "      <td>0.000000</td>\n",
       "      <td>13.000000</td>\n",
       "    </tr>\n",
       "    <tr>\n",
       "      <th>25%</th>\n",
       "      <td>2003.000000</td>\n",
       "      <td>0.000000</td>\n",
       "      <td>0.000000</td>\n",
       "      <td>0.000000</td>\n",
       "      <td>0.000000</td>\n",
       "      <td>60.000000</td>\n",
       "    </tr>\n",
       "    <tr>\n",
       "      <th>50%</th>\n",
       "      <td>2007.000000</td>\n",
       "      <td>0.080000</td>\n",
       "      <td>0.020000</td>\n",
       "      <td>0.000000</td>\n",
       "      <td>0.010000</td>\n",
       "      <td>71.000000</td>\n",
       "    </tr>\n",
       "    <tr>\n",
       "      <th>75%</th>\n",
       "      <td>2010.000000</td>\n",
       "      <td>0.240000</td>\n",
       "      <td>0.110000</td>\n",
       "      <td>0.040000</td>\n",
       "      <td>0.030000</td>\n",
       "      <td>79.000000</td>\n",
       "    </tr>\n",
       "    <tr>\n",
       "      <th>max</th>\n",
       "      <td>2016.000000</td>\n",
       "      <td>41.360000</td>\n",
       "      <td>28.960000</td>\n",
       "      <td>10.220000</td>\n",
       "      <td>10.570000</td>\n",
       "      <td>98.000000</td>\n",
       "    </tr>\n",
       "  </tbody>\n",
       "</table>\n",
       "</div>"
      ],
      "text/plain": [
       "       Year_of_Release      NA_sales      EU_sales      JP_sales  \\\n",
       "count     16446.000000  16715.000000  16715.000000  16715.000000   \n",
       "mean       2006.484616      0.263377      0.145060      0.077617   \n",
       "std           5.877050      0.813604      0.503339      0.308853   \n",
       "min        1980.000000      0.000000      0.000000      0.000000   \n",
       "25%        2003.000000      0.000000      0.000000      0.000000   \n",
       "50%        2007.000000      0.080000      0.020000      0.000000   \n",
       "75%        2010.000000      0.240000      0.110000      0.040000   \n",
       "max        2016.000000     41.360000     28.960000     10.220000   \n",
       "\n",
       "        Other_sales  Critic_Score  \n",
       "count  16715.000000   8137.000000  \n",
       "mean       0.047342     68.967679  \n",
       "std        0.186731     13.938165  \n",
       "min        0.000000     13.000000  \n",
       "25%        0.000000     60.000000  \n",
       "50%        0.010000     71.000000  \n",
       "75%        0.030000     79.000000  \n",
       "max       10.570000     98.000000  "
      ]
     },
     "execution_count": 6,
     "metadata": {},
     "output_type": "execute_result"
    }
   ],
   "source": [
    "df.describe()"
   ]
  },
  {
   "cell_type": "markdown",
   "metadata": {},
   "source": [
    "#### ВЫВОД"
   ]
  },
  {
   "cell_type": "markdown",
   "metadata": {},
   "source": [
    "При первичном изучении данных видим, что в нашем распоряжении данные о почти 17 тыс игр. Мы знаем платформу, для которой игра выпущена, год выпуска, жанр, где она и в каком количестве продана, оценку критиков и пользователей, рейтинг от организации ESRB.\n",
    "\n",
    "\n",
    "Данные содержат пропуски в столбцах: Year_of_Release, Critic_Score, User_Score, Rating. 2 игры не имеют имени и жанра (скорее всего их можно удалить из датафрейма). Пропуски в годе выпуска и рейтингах нужно посмотреть ближе.\n",
    "\n",
    "Что касается типов данных, то год выпуска нужно перевести в целочисленный тип, User_Score - в вещественный.\n",
    "\n",
    "Названия столбцов нужно привести к нижнему регистру, чтобы не путаться при обращении к ним.\n"
   ]
  },
  {
   "cell_type": "markdown",
   "metadata": {},
   "source": [
    "### Шаг 2. Предобработка данных"
   ]
  },
  {
   "cell_type": "markdown",
   "metadata": {},
   "source": [
    "###### Приведем названия столбцов к нижнему регистру, используя List Comprehension"
   ]
  },
  {
   "cell_type": "code",
   "execution_count": 7,
   "metadata": {},
   "outputs": [],
   "source": [
    "df.columns = [column.lower() for column in df.columns]"
   ]
  },
  {
   "cell_type": "markdown",
   "metadata": {},
   "source": [
    "###### Работа с пропускамии и типами данных"
   ]
  },
  {
   "cell_type": "markdown",
   "metadata": {},
   "source": [
    "Удалим 2 игры, у которых пропущено название, 2 строчки не исказят общую картину"
   ]
  },
  {
   "cell_type": "code",
   "execution_count": 8,
   "metadata": {},
   "outputs": [],
   "source": [
    "df = df.dropna(subset=['name'])"
   ]
  },
  {
   "cell_type": "code",
   "execution_count": 9,
   "metadata": {},
   "outputs": [
    {
     "data": {
      "text/plain": [
       "(16713, 11)"
      ]
     },
     "execution_count": 9,
     "metadata": {},
     "output_type": "execute_result"
    }
   ],
   "source": [
    "df.shape"
   ]
  },
  {
   "cell_type": "markdown",
   "metadata": {},
   "source": [
    "**year_of_release**"
   ]
  },
  {
   "cell_type": "markdown",
   "metadata": {},
   "source": [
    "В датафрейме представлены данные с 1980 по 2016 гг. Довольно много пропусков в годе выпуска игры. Думаю, что замена медианой, модой или чем-то еще не корректна и сильно повлияет на результаты, например, прибыль по проданным играм за год. \n",
    "\n",
    "По гистограмме видим, что распределение Пуассоновское. Много игр выпускалось в 2005-2010 гг."
   ]
  },
  {
   "cell_type": "code",
   "execution_count": 11,
   "metadata": {},
   "outputs": [
    {
     "data": {
      "text/plain": [
       "(1980.0, 2016.0)"
      ]
     },
     "execution_count": 11,
     "metadata": {},
     "output_type": "execute_result"
    }
   ],
   "source": [
    "df['year_of_release'].min(), df['year_of_release'].max()"
   ]
  },
  {
   "cell_type": "code",
   "execution_count": 12,
   "metadata": {},
   "outputs": [
    {
     "data": {
      "image/png": "[encoded data removed]",
      "text/plain": [
       "<Figure size 432x288 with 1 Axes>"
      ]
     },
     "metadata": {
      "needs_background": "light"
     },
     "output_type": "display_data"
    }
   ],
   "source": [
    "df['year_of_release'].plot(kind='hist');\n",
    "plt.grid(True)\n",
    "plt.figsize=(10, 6)\n",
    "plt.title(\"Распределение столбца 'Год выпуска'\")\n",
    "plt.xlabel('Год выпуска')\n",
    "plt.ylabel('Частота')\n",
    "plt.show()"
   ]
  },
  {
   "cell_type": "markdown",
   "metadata": {},
   "source": [
    "**user_score**"
   ]
  },
  {
   "cell_type": "markdown",
   "metadata": {},
   "source": [
    "Посмотрим, почему в столбце user_score тип данных object"
   ]
  },
  {
   "cell_type": "code",
   "execution_count": 13,
   "metadata": {},
   "outputs": [
    {
     "data": {
      "text/plain": [
       "tbd    2424\n",
       "7.8     324\n",
       "8       290\n",
       "8.2     282\n",
       "8.3     254\n",
       "       ... \n",
       "1.9       2\n",
       "1.3       2\n",
       "9.6       2\n",
       "9.7       1\n",
       "0         1\n",
       "Name: user_score, Length: 96, dtype: int64"
      ]
     },
     "execution_count": 13,
     "metadata": {},
     "output_type": "execute_result"
    }
   ],
   "source": [
    "df['user_score'].value_counts()"
   ]
  },
  {
   "cell_type": "markdown",
   "metadata": {},
   "source": [
    "2424 строчки столбца user_score заполнены значением tbd, гугл подсказал, что это означает \"to be discussed\" (будет обсуждаться), в данный момент рейтинг не известен - заменим на nan. Тип заменим на float"
   ]
  },
  {
   "cell_type": "code",
   "execution_count": 14,
   "metadata": {},
   "outputs": [],
   "source": [
    "df.loc[df['user_score'] == 'tbd', 'user_score'] = np.nan"
   ]
  },
  {
   "cell_type": "code",
   "execution_count": 15,
   "metadata": {},
   "outputs": [],
   "source": [
    "df['user_score'] = df['user_score'].astype('float64')"
   ]
  },
  {
   "cell_type": "code",
   "execution_count": 16,
   "metadata": {},
   "outputs": [
    {
     "data": {
      "text/plain": [
       "(0.0, 9.7)"
      ]
     },
     "execution_count": 16,
     "metadata": {},
     "output_type": "execute_result"
    }
   ],
   "source": [
    "df['user_score'].min(), df['user_score'].max()"
   ]
  },
  {
   "cell_type": "code",
   "execution_count": 17,
   "metadata": {},
   "outputs": [
    {
     "data": {
      "image/png": "[encoded data removed]",
      "text/plain": [
       "<Figure size 432x288 with 1 Axes>"
      ]
     },
     "metadata": {
      "needs_background": "light"
     },
     "output_type": "display_data"
    }
   ],
   "source": [
    "df['user_score'].plot(kind='hist');\n",
    "plt.grid(True)\n",
    "plt.figsize=(10, 6)\n",
    "plt.title(\"Распределение столбца user_score\")\n",
    "plt.xlabel('user_score')\n",
    "plt.ylabel('Частота')\n",
    "plt.show()"
   ]
  },
  {
   "cell_type": "markdown",
   "metadata": {},
   "source": [
    "**rating**"
   ]
  },
  {
   "cell_type": "markdown",
   "metadata": {},
   "source": [
    "Видим, что у нас есть 8 возможных значений рейтинга. E (everyone) - все возраста, T (teen) - 13 лет и страше, M (mature) - 17 лет и старше, E10+ (everyone 10+) - 10 лет и старше, EC(every childhood) - 3 года и старше, K-A (kids to adults) - для всех, RP(rating pending) - рейтинг ожидается, AO(adults only) - 18 лет и старше.\n",
    "\n",
    "Согласно классификации организации ESRB, рейтинг EC существовал до 2018 года и теперь приравнивается к E, рейтинг K-A существовал до 1998 года и тоже сейчас относится к E. Рейтинг RP - означает, что он еще не определен, думаю его можно заменить на NaN, так как фактически мы его не знаем. EC и K-A заменим на Е, так как, во-первых, их мало, во-вторых, они приравнены к более общей группе и в дальнейшем нам будет удобнее анализировать многочисленные группы, в них более вероятно какие-то тенденции увидеть.\n",
    "\n",
    "В группе AO (adults only) только 1 значение, что не позволит нам сделать адекватный анализ этой группе. Если бы стояла такая задача, нужно было бы запросить коллег о данных на эту группу."
   ]
  },
  {
   "cell_type": "code",
   "execution_count": 18,
   "metadata": {},
   "outputs": [
    {
     "data": {
      "text/plain": [
       "E       3990\n",
       "T       2961\n",
       "M       1563\n",
       "E10+    1420\n",
       "EC         8\n",
       "K-A        3\n",
       "RP         3\n",
       "AO         1\n",
       "Name: rating, dtype: int64"
      ]
     },
     "execution_count": 18,
     "metadata": {},
     "output_type": "execute_result"
    }
   ],
   "source": [
    "df['rating'].value_counts()"
   ]
  },
  {
   "cell_type": "code",
   "execution_count": 19,
   "metadata": {},
   "outputs": [],
   "source": [
    "df.loc[(df['rating'] == 'K-A') | (df['rating'] == 'EC'), 'rating'] = 'E'\n",
    "df.loc[df['rating'] == 'RP', 'rating'] = np.nan"
   ]
  },
  {
   "cell_type": "markdown",
   "metadata": {},
   "source": [
    "Теперь выглядит лучше"
   ]
  },
  {
   "cell_type": "code",
   "execution_count": 20,
   "metadata": {
    "scrolled": false
   },
   "outputs": [
    {
     "data": {
      "text/plain": [
       "E       4001\n",
       "T       2961\n",
       "M       1563\n",
       "E10+    1420\n",
       "AO         1\n",
       "Name: rating, dtype: int64"
      ]
     },
     "execution_count": 20,
     "metadata": {},
     "output_type": "execute_result"
    }
   ],
   "source": [
    "df['rating'].value_counts()"
   ]
  },
  {
   "cell_type": "markdown",
   "metadata": {},
   "source": [
    "**platform, genre, critic_score**"
   ]
  },
  {
   "cell_type": "markdown",
   "metadata": {},
   "source": [
    "Посмотрим на столбцы platform, genre, critic_score"
   ]
  },
  {
   "cell_type": "code",
   "execution_count": 21,
   "metadata": {},
   "outputs": [
    {
     "data": {
      "text/plain": [
       "PS2     2161\n",
       "DS      2151\n",
       "PS3     1331\n",
       "Wii     1320\n",
       "X360    1262\n",
       "PSP     1209\n",
       "PS      1197\n",
       "PC       974\n",
       "XB       824\n",
       "GBA      822\n",
       "GC       556\n",
       "3DS      520\n",
       "PSV      430\n",
       "PS4      392\n",
       "N64      319\n",
       "XOne     247\n",
       "SNES     239\n",
       "SAT      173\n",
       "WiiU     147\n",
       "2600     133\n",
       "NES       98\n",
       "GB        98\n",
       "DC        52\n",
       "GEN       27\n",
       "NG        12\n",
       "SCD        6\n",
       "WS         6\n",
       "3DO        3\n",
       "TG16       2\n",
       "GG         1\n",
       "PCFX       1\n",
       "Name: platform, dtype: int64"
      ]
     },
     "execution_count": 21,
     "metadata": {},
     "output_type": "execute_result"
    }
   ],
   "source": [
    "df['platform'].value_counts()"
   ]
  },
  {
   "cell_type": "code",
   "execution_count": 22,
   "metadata": {},
   "outputs": [
    {
     "data": {
      "text/plain": [
       "Action          3369\n",
       "Sports          2348\n",
       "Misc            1750\n",
       "Role-Playing    1498\n",
       "Shooter         1323\n",
       "Adventure       1303\n",
       "Racing          1249\n",
       "Platform         888\n",
       "Simulation       873\n",
       "Fighting         849\n",
       "Strategy         683\n",
       "Puzzle           580\n",
       "Name: genre, dtype: int64"
      ]
     },
     "execution_count": 22,
     "metadata": {},
     "output_type": "execute_result"
    }
   ],
   "source": [
    "df['genre'].value_counts()"
   ]
  },
  {
   "cell_type": "code",
   "execution_count": 23,
   "metadata": {},
   "outputs": [
    {
     "data": {
      "image/png": "[encoded data removed]",
      "text/plain": [
       "<Figure size 432x288 with 1 Axes>"
      ]
     },
     "metadata": {
      "needs_background": "light"
     },
     "output_type": "display_data"
    }
   ],
   "source": [
    "df['critic_score'].hist();\n",
    "plt.grid(True)\n",
    "plt.figsize=(10, 6)\n",
    "plt.title(\"Распределение столбца critic_score\")\n",
    "plt.xlabel('critic_score')\n",
    "plt.show()"
   ]
  },
  {
   "cell_type": "code",
   "execution_count": 24,
   "metadata": {},
   "outputs": [
    {
     "data": {
      "text/plain": [
       "(13.0, 98.0)"
      ]
     },
     "execution_count": 24,
     "metadata": {},
     "output_type": "execute_result"
    }
   ],
   "source": [
    "df['critic_score'].min(), df['critic_score'].max()"
   ]
  },
  {
   "cell_type": "markdown",
   "metadata": {},
   "source": [
    "В платформах и жанрах выбивающихся значений нет. Рейтинг критингов распределен нормально."
   ]
  },
  {
   "cell_type": "markdown",
   "metadata": {},
   "source": [
    "**Продажи в разных регионах, создание столбца с общими продажами**"
   ]
  },
  {
   "cell_type": "markdown",
   "metadata": {},
   "source": [
    "Данные по продажам в разных регионах выглядят адекватно. Видим Пуассоновское распределение с длинным правым хвотом. Огромное количество игр больших прибылей не приносит, поэтому есть пик около нуля. Единицы дают очень большие прибыли, поэтому распределение поползло вправо к милионным прибылям."
   ]
  },
  {
   "cell_type": "code",
   "execution_count": 25,
   "metadata": {},
   "outputs": [
    {
     "data": {
      "image/png": "[encoded data removed]",
      "text/plain": [
       "<Figure size 576x360 with 1 Axes>"
      ]
     },
     "metadata": {
      "needs_background": "light"
     },
     "output_type": "display_data"
    },
    {
     "data": {
      "image/png": "[encoded data removed]",
      "text/plain": [
       "<Figure size 576x360 with 1 Axes>"
      ]
     },
     "metadata": {
      "needs_background": "light"
     },
     "output_type": "display_data"
    },
    {
     "data": {
      "image/png": "[encoded data removed]",
      "text/plain": [
       "<Figure size 576x360 with 1 Axes>"
      ]
     },
     "metadata": {
      "needs_background": "light"
     },
     "output_type": "display_data"
    },
    {
     "data": {
      "image/png": "[encoded data removed]",
      "text/plain": [
       "<Figure size 576x360 with 1 Axes>"
      ]
     },
     "metadata": {
      "needs_background": "light"
     },
     "output_type": "display_data"
    }
   ],
   "source": [
    "sales_columns = ['na_sales', 'eu_sales', 'jp_sales', 'other_sales']\n",
    "for column in sales_columns:\n",
    "    df[column].plot(kind='hist', bins=25, range=(0, 2), figsize=(8,5))\n",
    "    plt.grid(True)\n",
    "    plt.title(\"Распределение столбца \" + column)\n",
    "    plt.xlabel(column)\n",
    "    plt.show()"
   ]
  },
  {
   "cell_type": "markdown",
   "metadata": {},
   "source": [
    "Создадим столбец с суммарными продажами во всех регионах"
   ]
  },
  {
   "cell_type": "code",
   "execution_count": 26,
   "metadata": {},
   "outputs": [],
   "source": [
    "df['all_sales'] = df['na_sales'] + df['eu_sales'] + df['jp_sales'] + df['other_sales']"
   ]
  },
  {
   "cell_type": "markdown",
   "metadata": {},
   "source": [
    "Проверим, есть ли дублирующие строки"
   ]
  },
  {
   "cell_type": "code",
   "execution_count": 27,
   "metadata": {},
   "outputs": [
    {
     "data": {
      "text/plain": [
       "0"
      ]
     },
     "execution_count": 27,
     "metadata": {},
     "output_type": "execute_result"
    }
   ],
   "source": [
    "df.duplicated().sum()"
   ]
  },
  {
   "cell_type": "code",
   "execution_count": 28,
   "metadata": {},
   "outputs": [
    {
     "name": "stdout",
     "output_type": "stream",
     "text": [
      "<class 'pandas.core.frame.DataFrame'>\n",
      "Int64Index: 16713 entries, 0 to 16714\n",
      "Data columns (total 12 columns):\n",
      " #   Column           Non-Null Count  Dtype  \n",
      "---  ------           --------------  -----  \n",
      " 0   name             16713 non-null  object \n",
      " 1   platform         16713 non-null  object \n",
      " 2   year_of_release  16444 non-null  float64\n",
      " 3   genre            16713 non-null  object \n",
      " 4   na_sales         16713 non-null  float64\n",
      " 5   eu_sales         16713 non-null  float64\n",
      " 6   jp_sales         16713 non-null  float64\n",
      " 7   other_sales      16713 non-null  float64\n",
      " 8   critic_score     8137 non-null   float64\n",
      " 9   user_score       7590 non-null   float64\n",
      " 10  rating           9946 non-null   object \n",
      " 11  all_sales        16713 non-null  float64\n",
      "dtypes: float64(8), object(4)\n",
      "memory usage: 1.7+ MB\n"
     ]
    }
   ],
   "source": [
    "df.info()"
   ]
  },
  {
   "cell_type": "markdown",
   "metadata": {},
   "source": [
    "#### ВЫВОД"
   ]
  },
  {
   "cell_type": "markdown",
   "metadata": {},
   "source": [
    "Таким образом, в ходе предобработки данных проведены следующие действия:\n",
    "- для удобства названия столбцов приведены к нижнему регистру;\n",
    "- проанализированы пропуски в данных. Удалено 2 игры, у которых пропущены название и жанр. Также много пропусков в столбцах Critic_Score, User_Score, Rating. Их заменять на что бы то ни было считаю не корректным, так как эти столбцы необходимы нам для дальнейшего анализа и замены в них сильно исказят наши выводы;\n",
    "- заменены типы данных в столбцах year_of_release (на целочисленный тип, год не может быть вещественным), user_score. В столбце user_score обнаружены строчки со значением \"tbd\", это означает \"to be discussed\" (будет обсуждаться), то есть в данный момент рейтинг не известен - заменили их на nan. Типданных заменили на float;\n",
    "- в столбеце rating неактуальные значения рейтинга заменены на существующие на текущий момент;\n",
    "- данные проверены на логику и здравый смысл;\n",
    "- создан столбец с суммарными продажами во всех регионах.   "
   ]
  },
  {
   "cell_type": "markdown",
   "metadata": {},
   "source": [
    "### Шаг 3. Исследовательский анализ данных"
   ]
  },
  {
   "cell_type": "markdown",
   "metadata": {},
   "source": [
    "Видим, что в первые годы нашей выборки игр выпускалось совсем немного, их популярность только начинает зарождаться, бум игровой индустрии приходится на 2005-2011 гг, далее игр выпускается меньше, но они держатся на показателе 500-600 игр в год. Думаю для анализа 2016 года нам не показательны ранние годы, там вероятно совсем другие платформы и информация на сегодняшний день не актуальна."
   ]
  },
  {
   "cell_type": "code",
   "execution_count": 29,
   "metadata": {},
   "outputs": [
    {
     "data": {
      "text/plain": [
       "year_of_release\n",
       "1980.0       9\n",
       "1981.0      46\n",
       "1982.0      36\n",
       "1983.0      17\n",
       "1984.0      14\n",
       "1985.0      14\n",
       "1986.0      21\n",
       "1987.0      16\n",
       "1988.0      15\n",
       "1989.0      17\n",
       "1990.0      16\n",
       "1991.0      41\n",
       "1992.0      43\n",
       "1993.0      60\n",
       "1994.0     121\n",
       "1995.0     219\n",
       "1996.0     263\n",
       "1997.0     289\n",
       "1998.0     379\n",
       "1999.0     338\n",
       "2000.0     350\n",
       "2001.0     482\n",
       "2002.0     829\n",
       "2003.0     775\n",
       "2004.0     762\n",
       "2005.0     939\n",
       "2006.0    1006\n",
       "2007.0    1197\n",
       "2008.0    1427\n",
       "2009.0    1426\n",
       "2010.0    1255\n",
       "2011.0    1136\n",
       "2012.0     653\n",
       "2013.0     544\n",
       "2014.0     581\n",
       "2015.0     606\n",
       "2016.0     502\n",
       "Name: name, dtype: int64"
      ]
     },
     "execution_count": 29,
     "metadata": {},
     "output_type": "execute_result"
    }
   ],
   "source": [
    "df.groupby('year_of_release')['name'].count()"
   ]
  },
  {
   "cell_type": "code",
   "execution_count": 30,
   "metadata": {},
   "outputs": [
    {
     "data": {
      "image/png": "[encoded data removed]",
      "text/plain": [
       "<Figure size 720x432 with 1 Axes>"
      ]
     },
     "metadata": {
      "needs_background": "light"
     },
     "output_type": "display_data"
    }
   ],
   "source": [
    "df.pivot_table(index='year_of_release', values='name', aggfunc='count') \\\n",
    "  .plot(figsize=(10,6), legend=False)\n",
    "plt.grid(True)\n",
    "plt.title(\"Количество игр, выпущенных с 1980 по 2016 гг\")\n",
    "plt.xlabel(\"Год выпуска игры\")\n",
    "plt.ylabel(\"Количество игр\")\n",
    "plt.show()"
   ]
  },
  {
   "cell_type": "markdown",
   "metadata": {},
   "source": [
    "Проанализируем информацию по платформам. Выделим топ-8 платформ с наибольшими суммарными продажами игр."
   ]
  },
  {
   "cell_type": "code",
   "execution_count": 31,
   "metadata": {},
   "outputs": [
    {
     "data": {
      "text/plain": [
       "Index(['PS2', 'X360', 'PS3', 'Wii', 'DS', 'PS', 'GBA', 'PS4'], dtype='object', name='platform')"
      ]
     },
     "execution_count": 31,
     "metadata": {},
     "output_type": "execute_result"
    }
   ],
   "source": [
    "top_sales_platform = df.pivot_table(index='platform', values='all_sales', aggfunc='sum') \\\n",
    "                       .fillna(0) \\\n",
    "                       .sort_values(by='all_sales', ascending=False) \\\n",
    "                       .head(8).index\n",
    "top_sales_platform"
   ]
  },
  {
   "cell_type": "markdown",
   "metadata": {},
   "source": [
    "Создадим датафрейм, содержащий только выбранные нами 8 платформ. Построим распределение по ним по годам."
   ]
  },
  {
   "cell_type": "code",
   "execution_count": 32,
   "metadata": {},
   "outputs": [],
   "source": [
    "top_sales_platform_df = df.query('platform in @top_sales_platform')"
   ]
  },
  {
   "cell_type": "code",
   "execution_count": 33,
   "metadata": {},
   "outputs": [
    {
     "data": {
      "image/png": "[encoded data removed]",
      "text/plain": [
       "<Figure size 1008x576 with 1 Axes>"
      ]
     },
     "metadata": {
      "needs_background": "light"
     },
     "output_type": "display_data"
    }
   ],
   "source": [
    "top_sales_platform_df.pivot_table(index='year_of_release', \n",
    "                                  columns='platform', \n",
    "                                  values='all_sales', \n",
    "                                  aggfunc='sum') \\\n",
    "                    .fillna(0) \\\n",
    "                    .plot(xlim=1995, \n",
    "                          figsize=(14,8),\n",
    "                          title='Продажи топ-8 прибыльных платформ по годам');"
   ]
  },
  {
   "cell_type": "code",
   "execution_count": 34,
   "metadata": {},
   "outputs": [
    {
     "data": {
      "image/png": "[encoded data removed]",
      "text/plain": [
       "<Figure size 1008x576 with 1 Axes>"
      ]
     },
     "metadata": {
      "needs_background": "light"
     },
     "output_type": "display_data"
    }
   ],
   "source": [
    "plt.figure(figsize=(14,8))\n",
    "sns.boxplot(y='platform', x='year_of_release', data=top_sales_platform_df);\n",
    "plt.title('Продажи топ-8 прибыльных платформ по годам')\n",
    "plt.show()"
   ]
  },
  {
   "cell_type": "markdown",
   "metadata": {},
   "source": [
    "По графикам видим, что в среднем одна игровая платформа \"живёт\" примерно 5-7 лет, дальше продажи от нее затихают и на смену приходят другие. Есть платформы, популярные около 10 лет. Соответсвенно для нашего 2017 года не имеет смысл анализировать данные по платформам, которые уже не доходны."
   ]
  },
  {
   "cell_type": "markdown",
   "metadata": {},
   "source": [
    "Актуальный период - последние 6 лет, то есть с 2011 по 2016 включительно. В 2011 г. появилось восьмое поколение игровых приставок, поэтому вероятно, что в 2017 году самыми прибыльными будут уже приставки 8-го поколения, 7-ое возможно еще будет приносить прибыль, но она будет падать, уступая место более современным играм. Создадим датафрейм, содержащий актуальный период. Помним, что мы заменяли пропуски в годе выпуска игр на 1979 год, эти данные также не попадут в нам датафрейм."
   ]
  },
  {
   "cell_type": "code",
   "execution_count": 36,
   "metadata": {},
   "outputs": [],
   "source": [
    "actual_df = df.query('year_of_release > 2010')"
   ]
  },
  {
   "cell_type": "markdown",
   "metadata": {},
   "source": [
    "Посмотрим, какие платформы лидируют по продажам в актуальном периоде"
   ]
  },
  {
   "cell_type": "code",
   "execution_count": 37,
   "metadata": {},
   "outputs": [
    {
     "data": {
      "text/html": [
       "<div>\n",
       "<style scoped>\n",
       "    .dataframe tbody tr th:only-of-type {\n",
       "        vertical-align: middle;\n",
       "    }\n",
       "\n",
       "    .dataframe tbody tr th {\n",
       "        vertical-align: top;\n",
       "    }\n",
       "\n",
       "    .dataframe thead th {\n",
       "        text-align: right;\n",
       "    }\n",
       "</style>\n",
       "<table border=\"1\" class=\"dataframe\">\n",
       "  <thead>\n",
       "    <tr style=\"text-align: right;\">\n",
       "      <th></th>\n",
       "      <th>all_sales</th>\n",
       "    </tr>\n",
       "    <tr>\n",
       "      <th>platform</th>\n",
       "      <th></th>\n",
       "    </tr>\n",
       "  </thead>\n",
       "  <tbody>\n",
       "    <tr>\n",
       "      <th>PS3</th>\n",
       "      <td>445.57</td>\n",
       "    </tr>\n",
       "    <tr>\n",
       "      <th>X360</th>\n",
       "      <td>380.38</td>\n",
       "    </tr>\n",
       "    <tr>\n",
       "      <th>PS4</th>\n",
       "      <td>314.14</td>\n",
       "    </tr>\n",
       "    <tr>\n",
       "      <th>3DS</th>\n",
       "      <td>257.81</td>\n",
       "    </tr>\n",
       "    <tr>\n",
       "      <th>XOne</th>\n",
       "      <td>159.32</td>\n",
       "    </tr>\n",
       "    <tr>\n",
       "      <th>PC</th>\n",
       "      <td>97.68</td>\n",
       "    </tr>\n",
       "    <tr>\n",
       "      <th>Wii</th>\n",
       "      <td>95.02</td>\n",
       "    </tr>\n",
       "    <tr>\n",
       "      <th>WiiU</th>\n",
       "      <td>82.19</td>\n",
       "    </tr>\n",
       "    <tr>\n",
       "      <th>PSV</th>\n",
       "      <td>53.81</td>\n",
       "    </tr>\n",
       "    <tr>\n",
       "      <th>DS</th>\n",
       "      <td>38.73</td>\n",
       "    </tr>\n",
       "    <tr>\n",
       "      <th>PSP</th>\n",
       "      <td>29.01</td>\n",
       "    </tr>\n",
       "    <tr>\n",
       "      <th>PS2</th>\n",
       "      <td>0.45</td>\n",
       "    </tr>\n",
       "  </tbody>\n",
       "</table>\n",
       "</div>"
      ],
      "text/plain": [
       "          all_sales\n",
       "platform           \n",
       "PS3          445.57\n",
       "X360         380.38\n",
       "PS4          314.14\n",
       "3DS          257.81\n",
       "XOne         159.32\n",
       "PC            97.68\n",
       "Wii           95.02\n",
       "WiiU          82.19\n",
       "PSV           53.81\n",
       "DS            38.73\n",
       "PSP           29.01\n",
       "PS2            0.45"
      ]
     },
     "execution_count": 37,
     "metadata": {},
     "output_type": "execute_result"
    }
   ],
   "source": [
    "actual_sales_for_platform = actual_df.pivot_table(index='platform', values='all_sales', aggfunc='sum') \\\n",
    "                                     .sort_values(by='all_sales', ascending=False)\n",
    "actual_sales_for_platform"
   ]
  },
  {
   "cell_type": "markdown",
   "metadata": {},
   "source": [
    "Посмотрим на графике, как изменяются прибыли с актуальных платформ с 2011 года"
   ]
  },
  {
   "cell_type": "code",
   "execution_count": 38,
   "metadata": {},
   "outputs": [
    {
     "data": {
      "image/png": "[encoded data removed]",
      "text/plain": [
       "<Figure size 1008x576 with 1 Axes>"
      ]
     },
     "metadata": {
      "needs_background": "light"
     },
     "output_type": "display_data"
    }
   ],
   "source": [
    "actual_df.pivot_table(index='year_of_release', columns='platform', values='all_sales', aggfunc='sum') \\\n",
    "         .plot(figsize=(14,8), title='Прибыли платформ по годам');"
   ]
  },
  {
   "cell_type": "markdown",
   "metadata": {},
   "source": [
    "Посмотрим ближе на платформы 'PS4', 'XOne', '3DS', 'PC', 'PSV', 'WiiU"
   ]
  },
  {
   "cell_type": "code",
   "execution_count": 39,
   "metadata": {},
   "outputs": [
    {
     "data": {
      "image/png": "[encoded data removed]",
      "text/plain": [
       "<Figure size 1008x576 with 1 Axes>"
      ]
     },
     "metadata": {
      "needs_background": "light"
     },
     "output_type": "display_data"
    }
   ],
   "source": [
    "profited_platform= ['PS4', 'XOne', '3DS', 'PC', 'PSV', 'WiiU']\n",
    "actual_top_sales_platform = actual_df.query('platform in @profited_platform')\n",
    "plt.figure(figsize=(14,8))\n",
    "sns.boxplot(x='platform', y='all_sales', data=actual_top_sales_platform);\n",
    "plt.title('Продажи по перспективным платформам')\n",
    "plt.show()"
   ]
  },
  {
   "cell_type": "markdown",
   "metadata": {},
   "source": [
    "По продажам лидируют PS3, X360, PS4, XOne. Из них продажи резко падают у PS3, X360 (это платформы 7-го поколения). Платформы PS4, XOne (8 поколение платформ) тоже падают, но уже не так стремительно, довольно плавно и еще дают по последним годам выборки максимальные выручки производителям игр. Судя по графикам продажи на данных платформах еще несколько лет будут постепенно снижаться, пока не выйдет новое 9-ое поколение и даст всплеск продажам. Остальные платформы не имеют таких ярких пиков продаж, но все же дают неплохую выручку, их графики более горизонтальные, стабильные. Это 3DS, PC, Wii, WiiU.\n",
    "\n",
    "\n",
    "В целом, как уже видно было ранее в 2005-2011 гг был пик игровой индустрии с максимальным количеством выпущенных игр и соответсвенно прибылей. Поэтому в периоде после 2011 г мы видим, что продажи всё же меньше предыдущего периода.\n",
    "\n",
    "**Потенциально прибыльными в 2017 году можно считать PS4, XOne, 3DS. Менее прибыльными -  PC, PSV, WiiU**\n",
    "\n",
    "Причем по ящику с усами видно, что у платформы 3DS много значений-выбросов по прибыли, хоть в среднем она приносит меньше прибыли, но есть очень популярные и прибыльные игры на данной платформе, XOne в этом параметре уступает."
   ]
  },
  {
   "cell_type": "markdown",
   "metadata": {},
   "source": [
    "Посмотрим, как влияют на продажи внутри платформы \"PS4\" отзывы пользователей и критиков. "
   ]
  },
  {
   "cell_type": "code",
   "execution_count": 40,
   "metadata": {},
   "outputs": [],
   "source": [
    "ps4_df = actual_df.query('platform == \"PS4\"')"
   ]
  },
  {
   "cell_type": "code",
   "execution_count": 41,
   "metadata": {},
   "outputs": [
    {
     "data": {
      "image/png": "[encoded data removed]",
      "text/plain": [
       "<Figure size 720x432 with 1 Axes>"
      ]
     },
     "metadata": {
      "needs_background": "light"
     },
     "output_type": "display_data"
    }
   ],
   "source": [
    "plt.figure(figsize=(10,6))\n",
    "plt.title('Зависимость оценки критиков от продаж внутри платформы \"PS4\"')\n",
    "plt.xlabel('Продано, млн')\n",
    "plt.ylabel('Оценка критиков')\n",
    "plt.scatter(ps4_df['all_sales'], ps4_df['critic_score']);\n",
    "plt.show()"
   ]
  },
  {
   "cell_type": "code",
   "execution_count": 42,
   "metadata": {},
   "outputs": [
    {
     "data": {
      "image/png": "[encoded data removed]",
      "text/plain": [
       "<Figure size 720x432 with 1 Axes>"
      ]
     },
     "metadata": {
      "needs_background": "light"
     },
     "output_type": "display_data"
    }
   ],
   "source": [
    "plt.figure(figsize=(10,6))\n",
    "plt.title('Зависимость оценки пользователей от продаж внутри платформы \"PS4\"')\n",
    "plt.xlabel('Продано, млн')\n",
    "plt.ylabel('Оценка пользователей')\n",
    "plt.scatter(ps4_df['all_sales'], ps4_df['user_score']);\n",
    "plt.show()"
   ]
  },
  {
   "cell_type": "markdown",
   "metadata": {},
   "source": [
    "Посмотрим на тепловую карту, показывающую корреляцию между имеющимися признаками нашего датафрейма, содержащего данные о платформе \"PS4\""
   ]
  },
  {
   "cell_type": "code",
   "execution_count": 43,
   "metadata": {
    "scrolled": true
   },
   "outputs": [
    {
     "data": {
      "image/png": "[encoded data removed]",
      "text/plain": [
       "<Figure size 432x288 with 2 Axes>"
      ]
     },
     "metadata": {
      "needs_background": "light"
     },
     "output_type": "display_data"
    }
   ],
   "source": [
    "sns.heatmap(ps4_df.corr());"
   ]
  },
  {
   "cell_type": "markdown",
   "metadata": {},
   "source": [
    "И на тепловую карту, показывающую корреляцию между имеющимися признаками всего датафрейма"
   ]
  },
  {
   "cell_type": "code",
   "execution_count": 44,
   "metadata": {},
   "outputs": [
    {
     "data": {
      "image/png": "[encoded data removed]",
      "text/plain": [
       "<Figure size 432x288 with 2 Axes>"
      ]
     },
     "metadata": {
      "needs_background": "light"
     },
     "output_type": "display_data"
    }
   ],
   "source": [
    "sns.heatmap(actual_df.corr());"
   ]
  },
  {
   "cell_type": "markdown",
   "metadata": {},
   "source": [
    "Корреляция есть, но не очень сильная. Так как есть много игр с высоким рейтингом, но имеющие маленькую выручку. Возможно, это игры не для широкого круга пользователей. Они заслуживают любовь критиков, но пользователей, покупающих такие игры в процентном соотношении мало.\n",
    "Отзывы критиков лучше коррелируют с продажами, чем отзывы пользователей. На диаграмме рассеяния отзывов пользователей и продаж точки нет четкого тренда, точки разбросаны по графику. Критикам можно доверять больше.\n",
    "\n",
    "Что касается продажи игр на других платформах, видим, что корреляция между пользовательским рейтингом и продажами также отсутсвует, а корреляция между рейтингом критиков и продажами еще меньше."
   ]
  },
  {
   "cell_type": "code",
   "execution_count": 45,
   "metadata": {},
   "outputs": [
    {
     "data": {
      "text/html": [
       "<div>\n",
       "<style scoped>\n",
       "    .dataframe tbody tr th:only-of-type {\n",
       "        vertical-align: middle;\n",
       "    }\n",
       "\n",
       "    .dataframe tbody tr th {\n",
       "        vertical-align: top;\n",
       "    }\n",
       "\n",
       "    .dataframe thead th {\n",
       "        text-align: right;\n",
       "    }\n",
       "</style>\n",
       "<table border=\"1\" class=\"dataframe\">\n",
       "  <thead>\n",
       "    <tr style=\"text-align: right;\">\n",
       "      <th></th>\n",
       "      <th>year_of_release</th>\n",
       "      <th>na_sales</th>\n",
       "      <th>eu_sales</th>\n",
       "      <th>jp_sales</th>\n",
       "      <th>other_sales</th>\n",
       "      <th>critic_score</th>\n",
       "      <th>user_score</th>\n",
       "      <th>all_sales</th>\n",
       "    </tr>\n",
       "  </thead>\n",
       "  <tbody>\n",
       "    <tr>\n",
       "      <th>year_of_release</th>\n",
       "      <td>1.000000</td>\n",
       "      <td>-0.248961</td>\n",
       "      <td>-0.208306</td>\n",
       "      <td>-0.060993</td>\n",
       "      <td>-0.234796</td>\n",
       "      <td>-0.021142</td>\n",
       "      <td>0.152447</td>\n",
       "      <td>-0.235032</td>\n",
       "    </tr>\n",
       "    <tr>\n",
       "      <th>na_sales</th>\n",
       "      <td>-0.248961</td>\n",
       "      <td>1.000000</td>\n",
       "      <td>0.785362</td>\n",
       "      <td>0.472981</td>\n",
       "      <td>0.944259</td>\n",
       "      <td>0.415008</td>\n",
       "      <td>-0.020933</td>\n",
       "      <td>0.928160</td>\n",
       "    </tr>\n",
       "    <tr>\n",
       "      <th>eu_sales</th>\n",
       "      <td>-0.208306</td>\n",
       "      <td>0.785362</td>\n",
       "      <td>1.000000</td>\n",
       "      <td>0.464563</td>\n",
       "      <td>0.944698</td>\n",
       "      <td>0.346720</td>\n",
       "      <td>-0.048925</td>\n",
       "      <td>0.958157</td>\n",
       "    </tr>\n",
       "    <tr>\n",
       "      <th>jp_sales</th>\n",
       "      <td>-0.060993</td>\n",
       "      <td>0.472981</td>\n",
       "      <td>0.464563</td>\n",
       "      <td>1.000000</td>\n",
       "      <td>0.496467</td>\n",
       "      <td>0.322358</td>\n",
       "      <td>0.171332</td>\n",
       "      <td>0.527129</td>\n",
       "    </tr>\n",
       "    <tr>\n",
       "      <th>other_sales</th>\n",
       "      <td>-0.234796</td>\n",
       "      <td>0.944259</td>\n",
       "      <td>0.944698</td>\n",
       "      <td>0.496467</td>\n",
       "      <td>1.000000</td>\n",
       "      <td>0.409191</td>\n",
       "      <td>-0.035639</td>\n",
       "      <td>0.998051</td>\n",
       "    </tr>\n",
       "    <tr>\n",
       "      <th>critic_score</th>\n",
       "      <td>-0.021142</td>\n",
       "      <td>0.415008</td>\n",
       "      <td>0.346720</td>\n",
       "      <td>0.322358</td>\n",
       "      <td>0.409191</td>\n",
       "      <td>1.000000</td>\n",
       "      <td>0.557654</td>\n",
       "      <td>0.406568</td>\n",
       "    </tr>\n",
       "    <tr>\n",
       "      <th>user_score</th>\n",
       "      <td>0.152447</td>\n",
       "      <td>-0.020933</td>\n",
       "      <td>-0.048925</td>\n",
       "      <td>0.171332</td>\n",
       "      <td>-0.035639</td>\n",
       "      <td>0.557654</td>\n",
       "      <td>1.000000</td>\n",
       "      <td>-0.031957</td>\n",
       "    </tr>\n",
       "    <tr>\n",
       "      <th>all_sales</th>\n",
       "      <td>-0.235032</td>\n",
       "      <td>0.928160</td>\n",
       "      <td>0.958157</td>\n",
       "      <td>0.527129</td>\n",
       "      <td>0.998051</td>\n",
       "      <td>0.406568</td>\n",
       "      <td>-0.031957</td>\n",
       "      <td>1.000000</td>\n",
       "    </tr>\n",
       "  </tbody>\n",
       "</table>\n",
       "</div>"
      ],
      "text/plain": [
       "                 year_of_release  na_sales  eu_sales  jp_sales  other_sales  \\\n",
       "year_of_release         1.000000 -0.248961 -0.208306 -0.060993    -0.234796   \n",
       "na_sales               -0.248961  1.000000  0.785362  0.472981     0.944259   \n",
       "eu_sales               -0.208306  0.785362  1.000000  0.464563     0.944698   \n",
       "jp_sales               -0.060993  0.472981  0.464563  1.000000     0.496467   \n",
       "other_sales            -0.234796  0.944259  0.944698  0.496467     1.000000   \n",
       "critic_score           -0.021142  0.415008  0.346720  0.322358     0.409191   \n",
       "user_score              0.152447 -0.020933 -0.048925  0.171332    -0.035639   \n",
       "all_sales              -0.235032  0.928160  0.958157  0.527129     0.998051   \n",
       "\n",
       "                 critic_score  user_score  all_sales  \n",
       "year_of_release     -0.021142    0.152447  -0.235032  \n",
       "na_sales             0.415008   -0.020933   0.928160  \n",
       "eu_sales             0.346720   -0.048925   0.958157  \n",
       "jp_sales             0.322358    0.171332   0.527129  \n",
       "other_sales          0.409191   -0.035639   0.998051  \n",
       "critic_score         1.000000    0.557654   0.406568  \n",
       "user_score           0.557654    1.000000  -0.031957  \n",
       "all_sales            0.406568   -0.031957   1.000000  "
      ]
     },
     "execution_count": 45,
     "metadata": {},
     "output_type": "execute_result"
    }
   ],
   "source": [
    "ps4_df.corr()"
   ]
  },
  {
   "cell_type": "code",
   "execution_count": 46,
   "metadata": {},
   "outputs": [
    {
     "data": {
      "text/html": [
       "<div>\n",
       "<style scoped>\n",
       "    .dataframe tbody tr th:only-of-type {\n",
       "        vertical-align: middle;\n",
       "    }\n",
       "\n",
       "    .dataframe tbody tr th {\n",
       "        vertical-align: top;\n",
       "    }\n",
       "\n",
       "    .dataframe thead th {\n",
       "        text-align: right;\n",
       "    }\n",
       "</style>\n",
       "<table border=\"1\" class=\"dataframe\">\n",
       "  <thead>\n",
       "    <tr style=\"text-align: right;\">\n",
       "      <th></th>\n",
       "      <th>year_of_release</th>\n",
       "      <th>na_sales</th>\n",
       "      <th>eu_sales</th>\n",
       "      <th>jp_sales</th>\n",
       "      <th>other_sales</th>\n",
       "      <th>critic_score</th>\n",
       "      <th>user_score</th>\n",
       "      <th>all_sales</th>\n",
       "    </tr>\n",
       "  </thead>\n",
       "  <tbody>\n",
       "    <tr>\n",
       "      <th>year_of_release</th>\n",
       "      <td>1.000000</td>\n",
       "      <td>-0.055772</td>\n",
       "      <td>-0.009561</td>\n",
       "      <td>-0.009525</td>\n",
       "      <td>-0.018231</td>\n",
       "      <td>0.096359</td>\n",
       "      <td>-0.009793</td>\n",
       "      <td>-0.033917</td>\n",
       "    </tr>\n",
       "    <tr>\n",
       "      <th>na_sales</th>\n",
       "      <td>-0.055772</td>\n",
       "      <td>1.000000</td>\n",
       "      <td>0.779714</td>\n",
       "      <td>0.273743</td>\n",
       "      <td>0.800580</td>\n",
       "      <td>0.308113</td>\n",
       "      <td>0.014490</td>\n",
       "      <td>0.927913</td>\n",
       "    </tr>\n",
       "    <tr>\n",
       "      <th>eu_sales</th>\n",
       "      <td>-0.009561</td>\n",
       "      <td>0.779714</td>\n",
       "      <td>1.000000</td>\n",
       "      <td>0.278540</td>\n",
       "      <td>0.944273</td>\n",
       "      <td>0.310098</td>\n",
       "      <td>0.003727</td>\n",
       "      <td>0.931263</td>\n",
       "    </tr>\n",
       "    <tr>\n",
       "      <th>jp_sales</th>\n",
       "      <td>-0.009525</td>\n",
       "      <td>0.273743</td>\n",
       "      <td>0.278540</td>\n",
       "      <td>1.000000</td>\n",
       "      <td>0.217382</td>\n",
       "      <td>0.129452</td>\n",
       "      <td>0.164133</td>\n",
       "      <td>0.446631</td>\n",
       "    </tr>\n",
       "    <tr>\n",
       "      <th>other_sales</th>\n",
       "      <td>-0.018231</td>\n",
       "      <td>0.800580</td>\n",
       "      <td>0.944273</td>\n",
       "      <td>0.217382</td>\n",
       "      <td>1.000000</td>\n",
       "      <td>0.303915</td>\n",
       "      <td>0.015248</td>\n",
       "      <td>0.915012</td>\n",
       "    </tr>\n",
       "    <tr>\n",
       "      <th>critic_score</th>\n",
       "      <td>0.096359</td>\n",
       "      <td>0.308113</td>\n",
       "      <td>0.310098</td>\n",
       "      <td>0.129452</td>\n",
       "      <td>0.303915</td>\n",
       "      <td>1.000000</td>\n",
       "      <td>0.534853</td>\n",
       "      <td>0.329977</td>\n",
       "    </tr>\n",
       "    <tr>\n",
       "      <th>user_score</th>\n",
       "      <td>-0.009793</td>\n",
       "      <td>0.014490</td>\n",
       "      <td>0.003727</td>\n",
       "      <td>0.164133</td>\n",
       "      <td>0.015248</td>\n",
       "      <td>0.534853</td>\n",
       "      <td>1.000000</td>\n",
       "      <td>0.031636</td>\n",
       "    </tr>\n",
       "    <tr>\n",
       "      <th>all_sales</th>\n",
       "      <td>-0.033917</td>\n",
       "      <td>0.927913</td>\n",
       "      <td>0.931263</td>\n",
       "      <td>0.446631</td>\n",
       "      <td>0.915012</td>\n",
       "      <td>0.329977</td>\n",
       "      <td>0.031636</td>\n",
       "      <td>1.000000</td>\n",
       "    </tr>\n",
       "  </tbody>\n",
       "</table>\n",
       "</div>"
      ],
      "text/plain": [
       "                 year_of_release  na_sales  eu_sales  jp_sales  other_sales  \\\n",
       "year_of_release         1.000000 -0.055772 -0.009561 -0.009525    -0.018231   \n",
       "na_sales               -0.055772  1.000000  0.779714  0.273743     0.800580   \n",
       "eu_sales               -0.009561  0.779714  1.000000  0.278540     0.944273   \n",
       "jp_sales               -0.009525  0.273743  0.278540  1.000000     0.217382   \n",
       "other_sales            -0.018231  0.800580  0.944273  0.217382     1.000000   \n",
       "critic_score            0.096359  0.308113  0.310098  0.129452     0.303915   \n",
       "user_score             -0.009793  0.014490  0.003727  0.164133     0.015248   \n",
       "all_sales              -0.033917  0.927913  0.931263  0.446631     0.915012   \n",
       "\n",
       "                 critic_score  user_score  all_sales  \n",
       "year_of_release      0.096359   -0.009793  -0.033917  \n",
       "na_sales             0.308113    0.014490   0.927913  \n",
       "eu_sales             0.310098    0.003727   0.931263  \n",
       "jp_sales             0.129452    0.164133   0.446631  \n",
       "other_sales          0.303915    0.015248   0.915012  \n",
       "critic_score         1.000000    0.534853   0.329977  \n",
       "user_score           0.534853    1.000000   0.031636  \n",
       "all_sales            0.329977    0.031636   1.000000  "
      ]
     },
     "execution_count": 46,
     "metadata": {},
     "output_type": "execute_result"
    }
   ],
   "source": [
    "actual_df.corr()"
   ]
  },
  {
   "cell_type": "markdown",
   "metadata": {},
   "source": [
    "Посмотрим на общее распределение игр по жанрам"
   ]
  },
  {
   "cell_type": "code",
   "execution_count": 47,
   "metadata": {},
   "outputs": [
    {
     "data": {
      "text/html": [
       "<div>\n",
       "<style scoped>\n",
       "    .dataframe tbody tr th:only-of-type {\n",
       "        vertical-align: middle;\n",
       "    }\n",
       "\n",
       "    .dataframe tbody tr th {\n",
       "        vertical-align: top;\n",
       "    }\n",
       "\n",
       "    .dataframe thead th {\n",
       "        text-align: right;\n",
       "    }\n",
       "</style>\n",
       "<table border=\"1\" class=\"dataframe\">\n",
       "  <thead>\n",
       "    <tr style=\"text-align: right;\">\n",
       "      <th></th>\n",
       "      <th>all_sales</th>\n",
       "    </tr>\n",
       "    <tr>\n",
       "      <th>genre</th>\n",
       "      <th></th>\n",
       "    </tr>\n",
       "  </thead>\n",
       "  <tbody>\n",
       "    <tr>\n",
       "      <th>Action</th>\n",
       "      <td>1744.17</td>\n",
       "    </tr>\n",
       "    <tr>\n",
       "      <th>Sports</th>\n",
       "      <td>1331.27</td>\n",
       "    </tr>\n",
       "    <tr>\n",
       "      <th>Shooter</th>\n",
       "      <td>1052.45</td>\n",
       "    </tr>\n",
       "    <tr>\n",
       "      <th>Role-Playing</th>\n",
       "      <td>934.56</td>\n",
       "    </tr>\n",
       "    <tr>\n",
       "      <th>Platform</th>\n",
       "      <td>827.77</td>\n",
       "    </tr>\n",
       "    <tr>\n",
       "      <th>Misc</th>\n",
       "      <td>802.51</td>\n",
       "    </tr>\n",
       "    <tr>\n",
       "      <th>Racing</th>\n",
       "      <td>728.67</td>\n",
       "    </tr>\n",
       "    <tr>\n",
       "      <th>Fighting</th>\n",
       "      <td>447.53</td>\n",
       "    </tr>\n",
       "    <tr>\n",
       "      <th>Simulation</th>\n",
       "      <td>389.97</td>\n",
       "    </tr>\n",
       "    <tr>\n",
       "      <th>Puzzle</th>\n",
       "      <td>242.57</td>\n",
       "    </tr>\n",
       "    <tr>\n",
       "      <th>Adventure</th>\n",
       "      <td>237.59</td>\n",
       "    </tr>\n",
       "    <tr>\n",
       "      <th>Strategy</th>\n",
       "      <td>174.23</td>\n",
       "    </tr>\n",
       "  </tbody>\n",
       "</table>\n",
       "</div>"
      ],
      "text/plain": [
       "              all_sales\n",
       "genre                  \n",
       "Action          1744.17\n",
       "Sports          1331.27\n",
       "Shooter         1052.45\n",
       "Role-Playing     934.56\n",
       "Platform         827.77\n",
       "Misc             802.51\n",
       "Racing           728.67\n",
       "Fighting         447.53\n",
       "Simulation       389.97\n",
       "Puzzle           242.57\n",
       "Adventure        237.59\n",
       "Strategy         174.23"
      ]
     },
     "execution_count": 47,
     "metadata": {},
     "output_type": "execute_result"
    }
   ],
   "source": [
    "df.pivot_table(index='genre', values='all_sales', aggfunc='sum').sort_values(by='all_sales', ascending=False)"
   ]
  },
  {
   "cell_type": "markdown",
   "metadata": {},
   "source": [
    "Самые прибыльные жанры - Action, Sports, Shooter, Role-Playing, менее прибыльные - Puzzle, Adventure и Strategy. Видим, что есть жанры, которые больше других приковывают внимание пользователей, тем самых дающие большие прибыли их производителям."
   ]
  },
  {
   "cell_type": "markdown",
   "metadata": {},
   "source": [
    "#### ВЫВОД"
   ]
  },
  {
   "cell_type": "markdown",
   "metadata": {},
   "source": [
    "Таким образом, в ходе исследовательского анализа данных сделаны следующие выводы.\n",
    "\n",
    "В первые годы нашей выборки игр выпускалось совсем немного, их популярность только начинала зарождаться, бум игровой индустрии приходится на 2005-2011 гг, далее игр выпускается меньше, но они держатся на показателе 500-600 игр в год. В среднем одна игровая платформа прибыльна примерно 5-7 лет, дальше продажи от нее затихают и на смену приходят другие. Соответсвенно для анализа 2017 года не имеет смысл анализировать данные по платформам, которые уже не доходны, будем анализировать актуальный период с 2011 года.\n",
    "\n",
    "По продажам с 2011 года лидируют PS3, X360, PS4, XOne. Из них продажи резко падают у PS3, X360 (это платформы 7-го поколения). Платформы PS4, XOne (8 поколение платформ) тоже падают, но уже не так стремительно, довольно плавно и еще дают по последним годам выборки максимальные выручки производителям игр. Остальные платформы не имеют таких ярких пиков продаж, но все же дают неплохую выручку, их графики более горизонтальные, стабильные. Это 3DS, PC, Wii, WiiU.\n",
    "\n",
    "Потенциально прибыльными в 2017 году можно считать PS4, XOne, 3DS. Менее прибыльными - PC, PSV, WiiU\n",
    "\n",
    "\n",
    "На продажи внутри платформы \"PS4\" отзывы пользователей не влияют. Корреляция между этими признаками отсутсвует. Между оценкой критиков и продажами корреляция есть, но не очень сильная. Так как есть много игр с высоким рейтингом, но имеющие маленькую выручку. Возможно, это игры не для широкого круга пользователей. Они заслуживают любовь критиков, но пользователей, покупающих такие игры в процентном соотношении мало. \n",
    "Что касается продажи игр на всех остальных платформах, корреляция между пользовательским рейтингом и продажами также отсутсвует, а корреляция между рейтингом критиков и продажами еще меньше.\n",
    "\n",
    "Самые прибыльные жанры - Action, Sports, Shooter, Role-Playing, менее прибыльные - Puzzle, Adventure и Strategy. Видим, что есть жанры, которые больше других приковывают внимание пользователей, тем самых дающие большие прибыли их производителям."
   ]
  },
  {
   "cell_type": "markdown",
   "metadata": {},
   "source": [
    "### Шаг 4. Составление портрета пользователя каждого региона"
   ]
  },
  {
   "cell_type": "markdown",
   "metadata": {},
   "source": [
    "**Определим для каждого региона (NA - Северная Америка, EU - Европа, JP - Япония) топ-5 самых популярных платформ.**"
   ]
  },
  {
   "cell_type": "code",
   "execution_count": 48,
   "metadata": {
    "scrolled": true
   },
   "outputs": [
    {
     "name": "stdout",
     "output_type": "stream",
     "text": [
      "Исследование na_sales\n"
     ]
    },
    {
     "data": {
      "text/html": [
       "<div>\n",
       "<style scoped>\n",
       "    .dataframe tbody tr th:only-of-type {\n",
       "        vertical-align: middle;\n",
       "    }\n",
       "\n",
       "    .dataframe tbody tr th {\n",
       "        vertical-align: top;\n",
       "    }\n",
       "\n",
       "    .dataframe thead th {\n",
       "        text-align: right;\n",
       "    }\n",
       "</style>\n",
       "<table border=\"1\" class=\"dataframe\">\n",
       "  <thead>\n",
       "    <tr style=\"text-align: right;\">\n",
       "      <th></th>\n",
       "      <th>na_sales</th>\n",
       "      <th>percent</th>\n",
       "    </tr>\n",
       "    <tr>\n",
       "      <th>platform</th>\n",
       "      <th></th>\n",
       "      <th></th>\n",
       "    </tr>\n",
       "  </thead>\n",
       "  <tbody>\n",
       "    <tr>\n",
       "      <th>X360</th>\n",
       "      <td>226.80</td>\n",
       "      <td>27.0</td>\n",
       "    </tr>\n",
       "    <tr>\n",
       "      <th>PS3</th>\n",
       "      <td>168.26</td>\n",
       "      <td>20.0</td>\n",
       "    </tr>\n",
       "    <tr>\n",
       "      <th>PS4</th>\n",
       "      <td>108.74</td>\n",
       "      <td>13.0</td>\n",
       "    </tr>\n",
       "    <tr>\n",
       "      <th>XOne</th>\n",
       "      <td>93.12</td>\n",
       "      <td>11.0</td>\n",
       "    </tr>\n",
       "    <tr>\n",
       "      <th>3DS</th>\n",
       "      <td>82.65</td>\n",
       "      <td>10.0</td>\n",
       "    </tr>\n",
       "  </tbody>\n",
       "</table>\n",
       "</div>"
      ],
      "text/plain": [
       "          na_sales  percent\n",
       "platform                   \n",
       "X360        226.80     27.0\n",
       "PS3         168.26     20.0\n",
       "PS4         108.74     13.0\n",
       "XOne         93.12     11.0\n",
       "3DS          82.65     10.0"
      ]
     },
     "metadata": {},
     "output_type": "display_data"
    },
    {
     "data": {
      "image/png": "[encoded data removed]",
      "text/plain": [
       "<Figure size 576x360 with 1 Axes>"
      ]
     },
     "metadata": {
      "needs_background": "light"
     },
     "output_type": "display_data"
    },
    {
     "name": "stdout",
     "output_type": "stream",
     "text": [
      "Исследование eu_sales\n"
     ]
    },
    {
     "data": {
      "text/html": [
       "<div>\n",
       "<style scoped>\n",
       "    .dataframe tbody tr th:only-of-type {\n",
       "        vertical-align: middle;\n",
       "    }\n",
       "\n",
       "    .dataframe tbody tr th {\n",
       "        vertical-align: top;\n",
       "    }\n",
       "\n",
       "    .dataframe thead th {\n",
       "        text-align: right;\n",
       "    }\n",
       "</style>\n",
       "<table border=\"1\" class=\"dataframe\">\n",
       "  <thead>\n",
       "    <tr style=\"text-align: right;\">\n",
       "      <th></th>\n",
       "      <th>eu_sales</th>\n",
       "      <th>percent</th>\n",
       "    </tr>\n",
       "    <tr>\n",
       "      <th>platform</th>\n",
       "      <th></th>\n",
       "      <th></th>\n",
       "    </tr>\n",
       "  </thead>\n",
       "  <tbody>\n",
       "    <tr>\n",
       "      <th>PS3</th>\n",
       "      <td>163.10</td>\n",
       "      <td>24.0</td>\n",
       "    </tr>\n",
       "    <tr>\n",
       "      <th>PS4</th>\n",
       "      <td>141.09</td>\n",
       "      <td>21.0</td>\n",
       "    </tr>\n",
       "    <tr>\n",
       "      <th>X360</th>\n",
       "      <td>117.10</td>\n",
       "      <td>17.0</td>\n",
       "    </tr>\n",
       "    <tr>\n",
       "      <th>3DS</th>\n",
       "      <td>61.27</td>\n",
       "      <td>9.0</td>\n",
       "    </tr>\n",
       "    <tr>\n",
       "      <th>PC</th>\n",
       "      <td>56.70</td>\n",
       "      <td>8.0</td>\n",
       "    </tr>\n",
       "  </tbody>\n",
       "</table>\n",
       "</div>"
      ],
      "text/plain": [
       "          eu_sales  percent\n",
       "platform                   \n",
       "PS3         163.10     24.0\n",
       "PS4         141.09     21.0\n",
       "X360        117.10     17.0\n",
       "3DS          61.27      9.0\n",
       "PC           56.70      8.0"
      ]
     },
     "metadata": {},
     "output_type": "display_data"
    },
    {
     "data": {
      "image/png": "[encoded data removed]",
      "text/plain": [
       "<Figure size 576x360 with 1 Axes>"
      ]
     },
     "metadata": {
      "needs_background": "light"
     },
     "output_type": "display_data"
    },
    {
     "name": "stdout",
     "output_type": "stream",
     "text": [
      "Исследование jp_sales\n"
     ]
    },
    {
     "data": {
      "text/html": [
       "<div>\n",
       "<style scoped>\n",
       "    .dataframe tbody tr th:only-of-type {\n",
       "        vertical-align: middle;\n",
       "    }\n",
       "\n",
       "    .dataframe tbody tr th {\n",
       "        vertical-align: top;\n",
       "    }\n",
       "\n",
       "    .dataframe thead th {\n",
       "        text-align: right;\n",
       "    }\n",
       "</style>\n",
       "<table border=\"1\" class=\"dataframe\">\n",
       "  <thead>\n",
       "    <tr style=\"text-align: right;\">\n",
       "      <th></th>\n",
       "      <th>jp_sales</th>\n",
       "      <th>percent</th>\n",
       "    </tr>\n",
       "    <tr>\n",
       "      <th>platform</th>\n",
       "      <th></th>\n",
       "      <th></th>\n",
       "    </tr>\n",
       "  </thead>\n",
       "  <tbody>\n",
       "    <tr>\n",
       "      <th>3DS</th>\n",
       "      <td>100.62</td>\n",
       "      <td>41.0</td>\n",
       "    </tr>\n",
       "    <tr>\n",
       "      <th>PS3</th>\n",
       "      <td>49.39</td>\n",
       "      <td>20.0</td>\n",
       "    </tr>\n",
       "    <tr>\n",
       "      <th>PSP</th>\n",
       "      <td>24.04</td>\n",
       "      <td>10.0</td>\n",
       "    </tr>\n",
       "    <tr>\n",
       "      <th>PSV</th>\n",
       "      <td>21.84</td>\n",
       "      <td>9.0</td>\n",
       "    </tr>\n",
       "    <tr>\n",
       "      <th>PS4</th>\n",
       "      <td>15.96</td>\n",
       "      <td>6.0</td>\n",
       "    </tr>\n",
       "  </tbody>\n",
       "</table>\n",
       "</div>"
      ],
      "text/plain": [
       "          jp_sales  percent\n",
       "platform                   \n",
       "3DS         100.62     41.0\n",
       "PS3          49.39     20.0\n",
       "PSP          24.04     10.0\n",
       "PSV          21.84      9.0\n",
       "PS4          15.96      6.0"
      ]
     },
     "metadata": {},
     "output_type": "display_data"
    },
    {
     "data": {
      "image/png": "[encoded data removed]",
      "text/plain": [
       "<Figure size 576x360 with 1 Axes>"
      ]
     },
     "metadata": {
      "needs_background": "light"
     },
     "output_type": "display_data"
    }
   ],
   "source": [
    "users_region_sales = ['na_sales', 'eu_sales', 'jp_sales']\n",
    "for region in users_region_sales:\n",
    "    print('Исследование', region)\n",
    "    table = actual_df.pivot_table(index='platform', values=region, aggfunc='sum') \\\n",
    "                     .sort_values(by=region, ascending=False) \\\n",
    "                     .head(5)\n",
    "    table['percent'] = round(table / actual_df[region].sum() * 100)\n",
    "    display(table)\n",
    "    table.plot(kind='bar', figsize=(8,5), title='Распределение продаж среди топ-5 популярных платформ')\n",
    "    plt.show()"
   ]
  },
  {
   "cell_type": "markdown",
   "metadata": {},
   "source": [
    "С 2011 по 2016 гг  в Северной Америке самыми прибыльными платформами являются X360 (приносит 27% прибыли), PS3 (20%), PS4 (13%), XOne (11) и 3DS (10%).\n",
    "В Европе - PS3 (24%), PS4 (21%), X360 (17%), 3DS (9%) и PC (8%).\n",
    "В Японии - 3DS (41%), PS3 (20%), PSP (10%), PSV (9%) и PS4 (6%).\n",
    "\n",
    "Доли отличаются существенно. Если сравнивать Северную америку и Европу, то в Европе намного меньшей популярностью пользуются платформы компании Microsoft 17% против 38% в Северной Америке (соответсвенно Sony более популярна в Европе, чем в Северной Америке). Также американцы не жалуют персональный компьютер для игр, в Европе 8% прибыли приходит от данной платформы.\n",
    "\n",
    "У японцев платформы компании Microsoft вообще не вошли в топ-5, они отдают предпочтение отечественным фирмам Sony и Nintendo."
   ]
  },
  {
   "cell_type": "markdown",
   "metadata": {},
   "source": [
    "**Теперь определим для каждого региона топ-5 самых популярных жанров.**"
   ]
  },
  {
   "cell_type": "code",
   "execution_count": 46,
   "metadata": {},
   "outputs": [
    {
     "name": "stdout",
     "output_type": "stream",
     "text": [
      "Исследование na_sales\n"
     ]
    },
    {
     "data": {
      "text/html": [
       "<div>\n",
       "<style scoped>\n",
       "    .dataframe tbody tr th:only-of-type {\n",
       "        vertical-align: middle;\n",
       "    }\n",
       "\n",
       "    .dataframe tbody tr th {\n",
       "        vertical-align: top;\n",
       "    }\n",
       "\n",
       "    .dataframe thead th {\n",
       "        text-align: right;\n",
       "    }\n",
       "</style>\n",
       "<table border=\"1\" class=\"dataframe\">\n",
       "  <thead>\n",
       "    <tr style=\"text-align: right;\">\n",
       "      <th></th>\n",
       "      <th>na_sales</th>\n",
       "      <th>percent</th>\n",
       "    </tr>\n",
       "    <tr>\n",
       "      <th>genre</th>\n",
       "      <th></th>\n",
       "      <th></th>\n",
       "    </tr>\n",
       "  </thead>\n",
       "  <tbody>\n",
       "    <tr>\n",
       "      <td>Action</td>\n",
       "      <td>230.92</td>\n",
       "      <td>28.0</td>\n",
       "    </tr>\n",
       "    <tr>\n",
       "      <td>Shooter</td>\n",
       "      <td>194.43</td>\n",
       "      <td>23.0</td>\n",
       "    </tr>\n",
       "    <tr>\n",
       "      <td>Sports</td>\n",
       "      <td>108.70</td>\n",
       "      <td>13.0</td>\n",
       "    </tr>\n",
       "    <tr>\n",
       "      <td>Role-Playing</td>\n",
       "      <td>83.78</td>\n",
       "      <td>10.0</td>\n",
       "    </tr>\n",
       "    <tr>\n",
       "      <td>Misc</td>\n",
       "      <td>69.69</td>\n",
       "      <td>8.0</td>\n",
       "    </tr>\n",
       "  </tbody>\n",
       "</table>\n",
       "</div>"
      ],
      "text/plain": [
       "              na_sales  percent\n",
       "genre                          \n",
       "Action          230.92     28.0\n",
       "Shooter         194.43     23.0\n",
       "Sports          108.70     13.0\n",
       "Role-Playing     83.78     10.0\n",
       "Misc             69.69      8.0"
      ]
     },
     "metadata": {},
     "output_type": "display_data"
    },
    {
     "data": {
      "image/png": "[encoded data removed]",
      "text/plain": [
       "<Figure size 576x360 with 1 Axes>"
      ]
     },
     "metadata": {
      "needs_background": "light"
     },
     "output_type": "display_data"
    },
    {
     "name": "stdout",
     "output_type": "stream",
     "text": [
      "Исследование eu_sales\n"
     ]
    },
    {
     "data": {
      "text/html": [
       "<div>\n",
       "<style scoped>\n",
       "    .dataframe tbody tr th:only-of-type {\n",
       "        vertical-align: middle;\n",
       "    }\n",
       "\n",
       "    .dataframe tbody tr th {\n",
       "        vertical-align: top;\n",
       "    }\n",
       "\n",
       "    .dataframe thead th {\n",
       "        text-align: right;\n",
       "    }\n",
       "</style>\n",
       "<table border=\"1\" class=\"dataframe\">\n",
       "  <thead>\n",
       "    <tr style=\"text-align: right;\">\n",
       "      <th></th>\n",
       "      <th>eu_sales</th>\n",
       "      <th>percent</th>\n",
       "    </tr>\n",
       "    <tr>\n",
       "      <th>genre</th>\n",
       "      <th></th>\n",
       "      <th></th>\n",
       "    </tr>\n",
       "  </thead>\n",
       "  <tbody>\n",
       "    <tr>\n",
       "      <td>Action</td>\n",
       "      <td>199.12</td>\n",
       "      <td>30.0</td>\n",
       "    </tr>\n",
       "    <tr>\n",
       "      <td>Shooter</td>\n",
       "      <td>148.02</td>\n",
       "      <td>22.0</td>\n",
       "    </tr>\n",
       "    <tr>\n",
       "      <td>Sports</td>\n",
       "      <td>88.48</td>\n",
       "      <td>13.0</td>\n",
       "    </tr>\n",
       "    <tr>\n",
       "      <td>Role-Playing</td>\n",
       "      <td>62.30</td>\n",
       "      <td>9.0</td>\n",
       "    </tr>\n",
       "    <tr>\n",
       "      <td>Racing</td>\n",
       "      <td>40.58</td>\n",
       "      <td>6.0</td>\n",
       "    </tr>\n",
       "  </tbody>\n",
       "</table>\n",
       "</div>"
      ],
      "text/plain": [
       "              eu_sales  percent\n",
       "genre                          \n",
       "Action          199.12     30.0\n",
       "Shooter         148.02     22.0\n",
       "Sports           88.48     13.0\n",
       "Role-Playing     62.30      9.0\n",
       "Racing           40.58      6.0"
      ]
     },
     "metadata": {},
     "output_type": "display_data"
    },
    {
     "data": {
      "image/png": "[encoded data removed]",
      "text/plain": [
       "<Figure size 576x360 with 1 Axes>"
      ]
     },
     "metadata": {
      "needs_background": "light"
     },
     "output_type": "display_data"
    },
    {
     "name": "stdout",
     "output_type": "stream",
     "text": [
      "Исследование jp_sales\n"
     ]
    },
    {
     "data": {
      "text/html": [
       "<div>\n",
       "<style scoped>\n",
       "    .dataframe tbody tr th:only-of-type {\n",
       "        vertical-align: middle;\n",
       "    }\n",
       "\n",
       "    .dataframe tbody tr th {\n",
       "        vertical-align: top;\n",
       "    }\n",
       "\n",
       "    .dataframe thead th {\n",
       "        text-align: right;\n",
       "    }\n",
       "</style>\n",
       "<table border=\"1\" class=\"dataframe\">\n",
       "  <thead>\n",
       "    <tr style=\"text-align: right;\">\n",
       "      <th></th>\n",
       "      <th>jp_sales</th>\n",
       "      <th>percent</th>\n",
       "    </tr>\n",
       "    <tr>\n",
       "      <th>genre</th>\n",
       "      <th></th>\n",
       "      <th></th>\n",
       "    </tr>\n",
       "  </thead>\n",
       "  <tbody>\n",
       "    <tr>\n",
       "      <td>Role-Playing</td>\n",
       "      <td>79.87</td>\n",
       "      <td>33.0</td>\n",
       "    </tr>\n",
       "    <tr>\n",
       "      <td>Action</td>\n",
       "      <td>63.62</td>\n",
       "      <td>26.0</td>\n",
       "    </tr>\n",
       "    <tr>\n",
       "      <td>Misc</td>\n",
       "      <td>17.60</td>\n",
       "      <td>7.0</td>\n",
       "    </tr>\n",
       "    <tr>\n",
       "      <td>Fighting</td>\n",
       "      <td>12.38</td>\n",
       "      <td>5.0</td>\n",
       "    </tr>\n",
       "    <tr>\n",
       "      <td>Platform</td>\n",
       "      <td>12.13</td>\n",
       "      <td>5.0</td>\n",
       "    </tr>\n",
       "  </tbody>\n",
       "</table>\n",
       "</div>"
      ],
      "text/plain": [
       "              jp_sales  percent\n",
       "genre                          \n",
       "Role-Playing     79.87     33.0\n",
       "Action           63.62     26.0\n",
       "Misc             17.60      7.0\n",
       "Fighting         12.38      5.0\n",
       "Platform         12.13      5.0"
      ]
     },
     "metadata": {},
     "output_type": "display_data"
    },
    {
     "data": {
      "image/png": "[encoded data removed]",
      "text/plain": [
       "<Figure size 576x360 with 1 Axes>"
      ]
     },
     "metadata": {
      "needs_background": "light"
     },
     "output_type": "display_data"
    }
   ],
   "source": [
    "for region in users_region_sales:\n",
    "    print('Исследование', region)\n",
    "    table = actual_df.pivot_table(index='genre', values=region, aggfunc='sum') \\\n",
    "                     .sort_values(by=region, ascending=False) \\\n",
    "                     .head(5)\n",
    "    table['percent'] = round(table / actual_df[region].sum() * 100)\n",
    "    display(table)\n",
    "    table.plot(kind='bar', figsize=(8,5), title='Распределение продаж среди топ-5 популярных жанров')\n",
    "    plt.show()"
   ]
  },
  {
   "cell_type": "markdown",
   "metadata": {},
   "source": [
    "Самые популярные жанры в Северной Америке - Action (экшен-игры, 28% пользователей их покупают), Shooter\t(стрелялки, 23%), Sports (спортивные, 13%), Role-Playing (ролевые, 10%) и Misc (игры не вошедшие в другие группы, 8%). В Европе популярными жанрами являются - Action (30%), Shooter (22%), Sports (13%), Role-Playing (9%), Racing (гонки, 6%). Как видим, в целом ситуация очень похожа и в процентном соотношении, и в самих жанрах, за исключением последних игр, европейцы предпочитают Racing вместо Misc.\n",
    "Что касается Японии, то здесь любимыми жанрами являются: Role-Playing (33%), Action (26%), Misc (7%), Fighting (борьба, 5%) и Platform (бродилки, 5%).\n",
    "В Японии вкусы отличаются сильно. Превалируют ролевые игры в отличии от Северной Америки и Европы. Экшен-игры занимают такую же сильную позицию, но спортивные игры и гонки совсем не популярны. Вместо них японцы предпочитают борьбу и бродилки.\n",
    "\n",
    "\n",
    "Таким образом, средний пользователь по всем трём странам отдаст предпочтение таким жанрам, как Action, Role-Playing, Shooter. Это самые прибыльные жанры."
   ]
  },
  {
   "cell_type": "markdown",
   "metadata": {},
   "source": [
    "**Влияет ли рейтинг ESRB на продажи в отдельном регионе?**"
   ]
  },
  {
   "cell_type": "code",
   "execution_count": 49,
   "metadata": {},
   "outputs": [
    {
     "name": "stdout",
     "output_type": "stream",
     "text": [
      "Исследование na_sales\n"
     ]
    },
    {
     "data": {
      "text/html": [
       "<div>\n",
       "<style scoped>\n",
       "    .dataframe tbody tr th:only-of-type {\n",
       "        vertical-align: middle;\n",
       "    }\n",
       "\n",
       "    .dataframe tbody tr th {\n",
       "        vertical-align: top;\n",
       "    }\n",
       "\n",
       "    .dataframe thead th {\n",
       "        text-align: right;\n",
       "    }\n",
       "</style>\n",
       "<table border=\"1\" class=\"dataframe\">\n",
       "  <thead>\n",
       "    <tr style=\"text-align: right;\">\n",
       "      <th></th>\n",
       "      <th>na_sales</th>\n",
       "      <th>percent</th>\n",
       "    </tr>\n",
       "    <tr>\n",
       "      <th>rating</th>\n",
       "      <th></th>\n",
       "      <th></th>\n",
       "    </tr>\n",
       "  </thead>\n",
       "  <tbody>\n",
       "    <tr>\n",
       "      <th>All</th>\n",
       "      <td>706.07</td>\n",
       "      <td>85.0</td>\n",
       "    </tr>\n",
       "    <tr>\n",
       "      <th>M</th>\n",
       "      <td>308.45</td>\n",
       "      <td>37.0</td>\n",
       "    </tr>\n",
       "    <tr>\n",
       "      <th>E</th>\n",
       "      <td>170.59</td>\n",
       "      <td>21.0</td>\n",
       "    </tr>\n",
       "    <tr>\n",
       "      <th>E10+</th>\n",
       "      <td>117.72</td>\n",
       "      <td>14.0</td>\n",
       "    </tr>\n",
       "    <tr>\n",
       "      <th>T</th>\n",
       "      <td>109.31</td>\n",
       "      <td>13.0</td>\n",
       "    </tr>\n",
       "  </tbody>\n",
       "</table>\n",
       "</div>"
      ],
      "text/plain": [
       "        na_sales  percent\n",
       "rating                   \n",
       "All       706.07     85.0\n",
       "M         308.45     37.0\n",
       "E         170.59     21.0\n",
       "E10+      117.72     14.0\n",
       "T         109.31     13.0"
      ]
     },
     "metadata": {},
     "output_type": "display_data"
    },
    {
     "data": {
      "image/png": "[encoded data removed]",
      "text/plain": [
       "<Figure size 576x360 with 1 Axes>"
      ]
     },
     "metadata": {
      "needs_background": "light"
     },
     "output_type": "display_data"
    },
    {
     "name": "stdout",
     "output_type": "stream",
     "text": [
      "Исследование eu_sales\n"
     ]
    },
    {
     "data": {
      "text/html": [
       "<div>\n",
       "<style scoped>\n",
       "    .dataframe tbody tr th:only-of-type {\n",
       "        vertical-align: middle;\n",
       "    }\n",
       "\n",
       "    .dataframe tbody tr th {\n",
       "        vertical-align: top;\n",
       "    }\n",
       "\n",
       "    .dataframe thead th {\n",
       "        text-align: right;\n",
       "    }\n",
       "</style>\n",
       "<table border=\"1\" class=\"dataframe\">\n",
       "  <thead>\n",
       "    <tr style=\"text-align: right;\">\n",
       "      <th></th>\n",
       "      <th>eu_sales</th>\n",
       "      <th>percent</th>\n",
       "    </tr>\n",
       "    <tr>\n",
       "      <th>rating</th>\n",
       "      <th></th>\n",
       "      <th></th>\n",
       "    </tr>\n",
       "  </thead>\n",
       "  <tbody>\n",
       "    <tr>\n",
       "      <th>All</th>\n",
       "      <td>553.15</td>\n",
       "      <td>83.0</td>\n",
       "    </tr>\n",
       "    <tr>\n",
       "      <th>M</th>\n",
       "      <td>250.26</td>\n",
       "      <td>37.0</td>\n",
       "    </tr>\n",
       "    <tr>\n",
       "      <th>E</th>\n",
       "      <td>141.73</td>\n",
       "      <td>21.0</td>\n",
       "    </tr>\n",
       "    <tr>\n",
       "      <th>T</th>\n",
       "      <td>83.16</td>\n",
       "      <td>12.0</td>\n",
       "    </tr>\n",
       "    <tr>\n",
       "      <th>E10+</th>\n",
       "      <td>78.00</td>\n",
       "      <td>12.0</td>\n",
       "    </tr>\n",
       "  </tbody>\n",
       "</table>\n",
       "</div>"
      ],
      "text/plain": [
       "        eu_sales  percent\n",
       "rating                   \n",
       "All       553.15     83.0\n",
       "M         250.26     37.0\n",
       "E         141.73     21.0\n",
       "T          83.16     12.0\n",
       "E10+       78.00     12.0"
      ]
     },
     "metadata": {},
     "output_type": "display_data"
    },
    {
     "data": {
      "image/png": "[encoded data removed]",
      "text/plain": [
       "<Figure size 576x360 with 1 Axes>"
      ]
     },
     "metadata": {
      "needs_background": "light"
     },
     "output_type": "display_data"
    },
    {
     "name": "stdout",
     "output_type": "stream",
     "text": [
      "Исследование jp_sales\n"
     ]
    },
    {
     "data": {
      "text/html": [
       "<div>\n",
       "<style scoped>\n",
       "    .dataframe tbody tr th:only-of-type {\n",
       "        vertical-align: middle;\n",
       "    }\n",
       "\n",
       "    .dataframe tbody tr th {\n",
       "        vertical-align: top;\n",
       "    }\n",
       "\n",
       "    .dataframe thead th {\n",
       "        text-align: right;\n",
       "    }\n",
       "</style>\n",
       "<table border=\"1\" class=\"dataframe\">\n",
       "  <thead>\n",
       "    <tr style=\"text-align: right;\">\n",
       "      <th></th>\n",
       "      <th>jp_sales</th>\n",
       "      <th>percent</th>\n",
       "    </tr>\n",
       "    <tr>\n",
       "      <th>rating</th>\n",
       "      <th></th>\n",
       "      <th></th>\n",
       "    </tr>\n",
       "  </thead>\n",
       "  <tbody>\n",
       "    <tr>\n",
       "      <th>All</th>\n",
       "      <td>107.44</td>\n",
       "      <td>44.0</td>\n",
       "    </tr>\n",
       "    <tr>\n",
       "      <th>E</th>\n",
       "      <td>36.68</td>\n",
       "      <td>15.0</td>\n",
       "    </tr>\n",
       "    <tr>\n",
       "      <th>T</th>\n",
       "      <td>33.39</td>\n",
       "      <td>14.0</td>\n",
       "    </tr>\n",
       "    <tr>\n",
       "      <th>M</th>\n",
       "      <td>26.14</td>\n",
       "      <td>11.0</td>\n",
       "    </tr>\n",
       "    <tr>\n",
       "      <th>E10+</th>\n",
       "      <td>11.23</td>\n",
       "      <td>5.0</td>\n",
       "    </tr>\n",
       "  </tbody>\n",
       "</table>\n",
       "</div>"
      ],
      "text/plain": [
       "        jp_sales  percent\n",
       "rating                   \n",
       "All       107.44     44.0\n",
       "E          36.68     15.0\n",
       "T          33.39     14.0\n",
       "M          26.14     11.0\n",
       "E10+       11.23      5.0"
      ]
     },
     "metadata": {},
     "output_type": "display_data"
    },
    {
     "data": {
      "image/png": "[encoded data removed]",
      "text/plain": [
       "<Figure size 576x360 with 1 Axes>"
      ]
     },
     "metadata": {
      "needs_background": "light"
     },
     "output_type": "display_data"
    }
   ],
   "source": [
    "for region in users_region_sales:\n",
    "    print('Исследование', region)\n",
    "    table = actual_df.pivot_table(index='rating', values=region, aggfunc='sum', margins=True) \\\n",
    "                     .sort_values(by=region, ascending=False)\n",
    "    table['percent'] = round(table / actual_df[region].sum() * 100)\n",
    "    display(table)\n",
    "    table.plot(kind='bar', figsize=(8,5), title='Распределение рейтинга ESRB')\n",
    "    plt.show()"
   ]
  },
  {
   "cell_type": "markdown",
   "metadata": {},
   "source": [
    "По графику визуально видно, что принципиального различия в вопросе рейтинга ESRB нет. Чаще всего покупают игры с рейтингом M и E (в сумме почти в 60% случаев), далее идут E10+ и T. Всего около 85% игр в Северной Америке и Европе имеют рейтинг ESRB. А вот Япония и здесь отличается. В сумме только 44% всех игр обладают рейтингом. Тут 2 предположения: либо в Японии есть своя огранизация, рейтингующая игры и поэтому японцы не маркируют игры американскими рейтингами, либо в Японии законодательство на этот счет не такое строгое и за рейтингами игр пристально правительство не следит.\n",
    "В Европе и США более популярны игры для взрослых, в Японии же основная аудитория - подростки."
   ]
  },
  {
   "cell_type": "markdown",
   "metadata": {},
   "source": [
    "#### ВЫВОД"
   ]
  },
  {
   "cell_type": "markdown",
   "metadata": {},
   "source": [
    "Таким образом:\n",
    "- Топ-5 популярных платформ и доли их пользователей отличаются существенно в каждом из рассмотренных регионов (Северная Америка, Европа и Япония). Если сравнивать Северную америку и Европу, то в Европе намного меньшей популярностью пользуются платформы компании Microsoft, чем в Северной Америке (соответсвенно Sony более популярна в Европе, чем в Северной Америке). Также американцы не жалуют персональный компьютер для игр, в Европе 8% прибыли приходит от данной платформы. У японцев платформы компании Microsoft вообще не вошли в топ-5, они отдают предпочтение отечественным фирмам Sony и Nintendo. То есть только в Америке платформы Microsoft наиболее популярны.\n",
    "- В целом ситуация в Северной Америке и Европе по популярным жанрам очень похожа и в процентном соотношении, и в самих наименованиях жанров. Топ-4 жанров - Action, Shooter, Sports, Role-Playing. 5-ый по популярности жанр в Северной Америке и Европе отличается: Misc и Racing сооветственно. Что касается Японии, то здесь любимыми жанрами являются: Role-Playing, Action, Misc, Fighting и Platform. Видим, что в Японии вкусы отличаются сильно. Превалируют ролевые игры в отличии от Северной Америки и Европы. Экшен-игры занимают такую же сильную позицию, но спортивные игры и гонки совсем не популярны. Вместо них японцы предпочитают борьбу и бродилки. Таким образом, средний пользователь по всем трём странам отдаст предпочтение таким жанрам, как Action, Role-Playing, Shooter. Это самые прибыльные жанры.\n",
    "- Что касается рейтинга ESRB, то в Северной Америке и Европе принципиального различия в этом вопросе нет. Чаще всего покупают игры с рейтингом M и E (в сумме почти в 60% случаев), далее идут E10+ и T. Всего около 85% игр в Северной Америке и Европе имеют рейтинг ESRB. А вот в Японии совсем иная ситуация. В сумме только 44% всех игр обладают рейтингом. Тут 2 предположения: либо в Японии есть своя огранизация, рейтингующая игры и поэтому японцы не маркируют игры американскими рейтингами, либо в Японии законодательство на этот счет не такое строгое и за рейтингами игр пристально правительство не следит."
   ]
  },
  {
   "cell_type": "markdown",
   "metadata": {},
   "source": [
    "### Шаг 5. Проверка гипотез"
   ]
  },
  {
   "cell_type": "markdown",
   "metadata": {},
   "source": [
    "***Гипотеза о платформах.***\n",
    "\n",
    "Нулевая гипотеза - средние пользовательские рейтинги платформ Xbox One и PC не различаются.\n",
    "Альтернативная гипотеза - в средних пользовательских рейтингах имеются различия.\n",
    "\n",
    "Нулевая гипотеза сформулирована со знаком равенства, то есть значения лежат там, где ожидаем их найти. Чтобы проверить гипотезу о равенстве среднего двух генеральных совокупностей по взятым из них выборкам, применим метод scipy.stats.ttest_ind, порог для p-value возьмем стандартный - 0.05"
   ]
  },
  {
   "cell_type": "markdown",
   "metadata": {},
   "source": [
    "Выделим 2 массива, соответсвующих пользовательским рейтингам платформ Xbox One и PC, удалим из них пропущенные значения, посчитаем дисперсию каждой выборки "
   ]
  },
  {
   "cell_type": "code",
   "execution_count": 50,
   "metadata": {},
   "outputs": [
    {
     "name": "stdout",
     "output_type": "stream",
     "text": [
      "Дисперсия выборки array1_platform = 1.91,        дисперсия выборки array2_platform = 2.60\n"
     ]
    }
   ],
   "source": [
    "alpha = 0.05\n",
    "array1_platform = actual_df.query('platform == \"XOne\"')['user_score'].dropna()\n",
    "array2_platform = actual_df.query('platform == \"PC\"')['user_score'].dropna()\n",
    "print('Дисперсия выборки array1_platform = {:.2f}, \\\n",
    "       дисперсия выборки array2_platform = {:.2f}'.format(array1_platform.var(), array2_platform.var()))"
   ]
  },
  {
   "cell_type": "code",
   "execution_count": 51,
   "metadata": {},
   "outputs": [
    {
     "data": {
      "text/plain": [
       "<matplotlib.axes._subplots.AxesSubplot at 0x177b5182760>"
      ]
     },
     "execution_count": 51,
     "metadata": {},
     "output_type": "execute_result"
    },
    {
     "data": {
      "image/png": "[encoded data removed]",
      "text/plain": [
       "<Figure size 432x288 with 1 Axes>"
      ]
     },
     "metadata": {
      "needs_background": "light"
     },
     "output_type": "display_data"
    }
   ],
   "source": [
    "data_platform = actual_df.query('platform == \"XOne\" or platform == \"PC\"')\n",
    "sns.boxplot(x='platform', y='user_score', data=data_platform)"
   ]
  },
  {
   "cell_type": "markdown",
   "metadata": {},
   "source": [
    "Дисперсии выборок различаются более, чем на 5%, следовательно, укажем это в параметре equal_var"
   ]
  },
  {
   "cell_type": "code",
   "execution_count": 52,
   "metadata": {},
   "outputs": [
    {
     "data": {
      "text/plain": [
       "1.3614578383562224"
      ]
     },
     "execution_count": 52,
     "metadata": {},
     "output_type": "execute_result"
    }
   ],
   "source": [
    "array2_platform.var() / array1_platform.var()"
   ]
  },
  {
   "cell_type": "code",
   "execution_count": 53,
   "metadata": {},
   "outputs": [
    {
     "name": "stdout",
     "output_type": "stream",
     "text": [
      "p-значение: 0.6130712247638477\n",
      "Не получилось отвергнуть нулевую гипотезу\n"
     ]
    }
   ],
   "source": [
    "results = st.ttest_ind(array1_platform, array2_platform, equal_var=False)\n",
    "print('p-значение:', results.pvalue)\n",
    "if (results.pvalue < alpha):\n",
    "    print(\"Отвергаем нулевую гипотезу\")\n",
    "else:\n",
    "    print(\"Не получилось отвергнуть нулевую гипотезу\") "
   ]
  },
  {
   "cell_type": "markdown",
   "metadata": {},
   "source": [
    "#### ВЫВОД"
   ]
  },
  {
   "cell_type": "markdown",
   "metadata": {},
   "source": [
    "Полученное значение p-value говорит о том, что хотя платформы Xbox One и PC различаются по средним пользовательским рейтингам, при соблюдении условий нулевой гипотезы вероятность получить такие и большие различия составляет в около 61%. У нас недостаточно оснований отклонить нулевую гипотезу. Наши данные согласуются с нулевой гипотезой.\n"
   ]
  },
  {
   "cell_type": "markdown",
   "metadata": {},
   "source": [
    "***Гипотеза о жанрах.***\n",
    "\n",
    "Нулевая гипотеза - средние пользовательские рейтинги жанров Action и Sports не различаются.\n",
    "Альтернативная гипотеза - средние пользовательские рейтинги жанров Action и Sports разные.\n",
    "\n",
    "Нулевая гипотеза сформулирована со знаком равенства, то есть значения лежат там, где ожидаем их найти. Чтобы проверить гипотезу о равенстве среднего двух генеральных совокупностей по взятым из них выборкам, применим метод scipy.stats.ttest_ind, порог для p-value возьмем стандартный - 0.05"
   ]
  },
  {
   "cell_type": "markdown",
   "metadata": {},
   "source": [
    "Аналогично, создадим 2 массива с необходимыми данными, содержащими пользовательские рейтинги жанров Action и Sports, посчитаем дисперсию, видим, что она сильно различается, укажем это при проведении стат.теста"
   ]
  },
  {
   "cell_type": "code",
   "execution_count": 54,
   "metadata": {},
   "outputs": [
    {
     "name": "stdout",
     "output_type": "stream",
     "text": [
      "Дисперсия выборки array1_genre = 1.81,       дисперсия выборки array2_genre = 2.88\n"
     ]
    }
   ],
   "source": [
    "alpha = 0.05\n",
    "array1_genre = actual_df.query('genre == \"Action\"')['user_score'].dropna()\n",
    "array2_genre = actual_df.query('genre == \"Sports\"')['user_score'].dropna()\n",
    "print('Дисперсия выборки array1_genre = {:.2f}, \\\n",
    "      дисперсия выборки array2_genre = {:.2f}'.format(array1_genre.var(), array2_genre.var()))"
   ]
  },
  {
   "cell_type": "code",
   "execution_count": 55,
   "metadata": {},
   "outputs": [
    {
     "data": {
      "text/plain": [
       "1.590896911881695"
      ]
     },
     "execution_count": 55,
     "metadata": {},
     "output_type": "execute_result"
    }
   ],
   "source": [
    "array2_genre.var() / array1_genre.var()"
   ]
  },
  {
   "cell_type": "code",
   "execution_count": 56,
   "metadata": {},
   "outputs": [
    {
     "data": {
      "text/plain": [
       "<matplotlib.axes._subplots.AxesSubplot at 0x177b3bdde80>"
      ]
     },
     "execution_count": 56,
     "metadata": {},
     "output_type": "execute_result"
    },
    {
     "data": {
      "image/png": "[encoded data removed]",
      "text/plain": [
       "<Figure size 432x288 with 1 Axes>"
      ]
     },
     "metadata": {
      "needs_background": "light"
     },
     "output_type": "display_data"
    }
   ],
   "source": [
    "data_genre = actual_df.query('genre == \"Action\" or genre == \"Sports\"')\n",
    "sns.boxplot(x='genre', y='user_score', data=data_genre)"
   ]
  },
  {
   "cell_type": "code",
   "execution_count": 57,
   "metadata": {},
   "outputs": [
    {
     "name": "stdout",
     "output_type": "stream",
     "text": [
      "p-значение: 8.285648549432565e-19\n",
      "Отвергаем нулевую гипотезу\n"
     ]
    }
   ],
   "source": [
    "results = st.ttest_ind(array1_genre, array2_genre, equal_var=False)\n",
    "print('p-значение:', results.pvalue)\n",
    "if (results.pvalue < alpha):\n",
    "    print(\"Отвергаем нулевую гипотезу\")\n",
    "else:\n",
    "    print(\"Не получилось отвергнуть нулевую гипотезу\") "
   ]
  },
  {
   "cell_type": "markdown",
   "metadata": {},
   "source": [
    "#### ВЫВОД"
   ]
  },
  {
   "cell_type": "markdown",
   "metadata": {},
   "source": [
    "Значение p-value очень близко к 0. То есть средние пользовательские рейтинги жанров Action и Sports различается в генеральной совокупности. И данные различия не случайны."
   ]
  },
  {
   "cell_type": "markdown",
   "metadata": {},
   "source": [
    "### Шаг 6. Общий вывод по проекту"
   ]
  },
  {
   "cell_type": "markdown",
   "metadata": {},
   "source": [
    "Таким образом, в ходе проекта сделаны следующие шаги.\n",
    "\n",
    "1. При первичном изучении данных увидели, что в нашем распоряжении данные о почти 17 тыс игр. Мы знаем платформу, для которой игра выпущена, год выпуска, жанр, где она и в каком количестве продана, оценку критиков и пользователей, рейтинг от организации ESRB. Данные содержат пропуски в столбцах: Year_of_Release, Critic_Score, User_Score, Rating. Не везде указан правильный тип данных. Названия столбцов нужно привести к нижнему регистру, чтобы было удобно к ним обращаться.\n",
    "\n",
    "\n",
    "2. В ходе предобработки проведено следующее:\n",
    "\n",
    "    - названия столбцов приведены к нижнему регистру;\n",
    "    - проанализированы пропуски в данных. Удалено 2 игры, у которых пропущены название и жанр. Пропущенные годы выпуска игр оставлены, так как их замена не корректна. Также много пропусков в столбцах Critic_Score, User_Score, Rating. Их заменять на что бы то ни было считаю не корректным, так как эти столбцы необходимы нам для дальнейшего анализа и замены в них сильно исказят наши выводы;\n",
    "    - заменены типы данных в столбцах year_of_release (на целочисленный тип, год не может быть вещественным), user_score. В столбце user_score обнаружены строчки со значением \"tbd\", это означает \"to be discussed\" (будет обсуждаться), то есть в данный момент рейтинг не известен - заменили их на nan. Типданных заменили на float;\n",
    "    - в столбеце rating неактуальные значения рейтинга заменены на существующие на текущий момент;\n",
    "    - данные проверены на логику и здравый смысл;\n",
    "    - создан столбец с суммарными продажами во всех регионах.   \n",
    "\n",
    "\n",
    "3. В ходе исследовательского анализа данных обнаружено:\n",
    "    - В первые годы нашей выборки игр выпускалось совсем немного, их популярность только начинала зарождаться, бум игровой индустрии приходится на 2005-2011 гг, далее игр выпускается меньше, но они держатся на показателе 500-600 игр в год. В среднем одна игровая платформа прибыльна примерно 5-7 лет, дальше продажи от нее затихают и на смену приходят другие. Соответсвенно для анализа 2017 года не имеет смысл анализировать данные по платформам, которые уже не доходны, будем анализировать актуальный период с 2011 года.\n",
    "    - По продажам с 2011 года лидируют PS3, X360, PS4, XOne. Из них продажи резко падают у PS3, X360 (это платформы 7-го поколения). Платформы PS4, XOne (8 поколение платформ) тоже падают, но уже не так стремительно, довольно плавно и еще дают по последним годам выборки максимальные выручки производителям игр. Остальные платформы не имеют таких ярких пиков продаж, но все же дают неплохую выручку, их графики более горизонтальные, стабильные. Это 3DS, PC, Wii, WiiU.\n",
    "    - Потенциально прибыльными в 2017 году можно считать PS4, XOne, 3DS. Менее прибыльными - PC, PSV, WiiU\n",
    "    - На продажи внутри платформ отзывы пользователей не влияют. Корреляция между этими признаками отсутсвует. Между оценкой критиков и продажами корреляция есть, но не очень сильная. Так как есть много игр с высоким рейтингом, но имеющие маленькую выручку. Возможно, это игры не для широкого круга пользователей. Они заслуживают любовь критиков, но пользователей, покупающих такие игры, в процентном соотношении мало. \n",
    "    - Самые прибыльные жанры - Action, Sports, Shooter, Role-Playing, менее прибыльные - Puzzle, Adventure и Strategy. Видим, что есть жанры, которые больше других приковывают внимание пользователей, тем самых дающие большие прибыли их производителям.\n",
    "\n",
    "\n",
    "4. Составлен портрет пользователя каждого региона (Северная Америка, Европа и Япония). Среднестатистический американец играет на платформах X360, PS3, PS4, XOne или 3DS, предпочитает жанры Action, Shooter, Sports, Role-Playing, Misc, выбирает возрастную категорию 17 лет и старше или все возраста. Среднестатистический европеец похож на американца, но он реже покупает игры на платформах компании Microsoft и иногда предпочитает играть на персональном компьютере. Жанры также схожи, только вместо Misc выбирает Racing. Среднестатистический японец сильно отличается от американца и европейца. Не играет на платформах Microsoft, предпочитает отечественные компании Sony и Nintendo, в жанрах превалируют ролевые игры, экшен-игры занимают такую же сильную позицию, но спортивные игры и гонки совсем не популярны. Вместо них японцы предпочитают борьбу и бродилки. Что касается рейтинга ESRB, в Японии в сумме только 44% всех игр обладают рейтингом (в Северной америке и Европе около 85%). Тут 2 предположения: либо в Японии есть своя огранизация, рейтингующая игры и поэтому японцы не маркируют игры американскими рейтингами, либо в Японии законодательство на этот счет не такое строгое и за рейтингами игр пристально правительство не следит.\n",
    "\n",
    "\n",
    "5. Проверены следующие гипотезы:\n",
    "    - Гипотеза о платформах. Нулевая гипотеза - средние пользовательские рейтинги платформ Xbox One и PC не различаются. Альтернативная гипотеза - в средних пользовательских рейтингах имеются различия. Нулевая гипотеза сформулирована со знаком равенства, то есть значения лежат там, где ожидаем их найти. Чтобы проверить гипотезу о равенстве среднего двух генеральных совокупностей по взятым из них выборкам, применим метод scipy.stats.ttest_ind, порог для p-value возьмем стандартный - 0.05. Полученное значение p-value (0.61) говорит о том, что хотя платформы Xbox One и PC различаются по средним пользовательским рейтингам, при соблюдении условий нулевой гипотезы вероятность получить такие и большие различия составляет в около 61%. У нас недостаточно оснований отклонить нулевую гипотезу. Наши данные согласуются с нулевой гипотезой.\n",
    "    - Гипотеза о жанрах. Нулевая гипотеза - средние пользовательские рейтинги жанров Action и Sports не различаются. Альтернативная гипотеза - средние пользовательские рейтинги жанров Action и Sports разные. Проверка гипотезы аналогичная. Значение p-value очень близко к 0. То есть средние пользовательские рейтинги жанров Action и Sports различается в генеральной совокупности. И данные различия не случайны."
   ]
  }
 ],
 "metadata": {
  "kernelspec": {
   "display_name": "Python 3",
   "language": "python",
   "name": "python3"
  },
  "language_info": {
   "codemirror_mode": {
    "name": "ipython",
    "version": 3
   },
   "file_extension": ".py",
   "mimetype": "text/x-python",
   "name": "python",
   "nbconvert_exporter": "python",
   "pygments_lexer": "ipython3",
   "version": "3.8.3"
  }
 },
 "nbformat": 4,
 "nbformat_minor": 4
}
