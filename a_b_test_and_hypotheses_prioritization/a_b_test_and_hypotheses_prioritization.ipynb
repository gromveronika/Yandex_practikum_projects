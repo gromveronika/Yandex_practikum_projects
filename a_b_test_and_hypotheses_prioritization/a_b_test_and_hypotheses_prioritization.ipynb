{
 "cells": [
  {
   "cell_type": "markdown",
   "metadata": {},
   "source": [
    "# А/В-тест и проверка гипотез по увеличению выручки интернет-магазина"
   ]
  },
  {
   "cell_type": "markdown",
   "metadata": {},
   "source": [
    "## Структура проекта:\n",
    "* Часть 1. [Приоритизация гипотез](#hypothesis)\n",
    "* Часть 2. [Анализ A/B-теста](#ab_testing)\n",
    "    * 2.1. [Предобработка данных](#preprocessing)\n",
    "    * 2.2. [Анализ А/В-теста](#ab_test)\n",
    "    * 2.3. [Расчет статистической значимости](#p_value)\n",
    "    * 3. [Общий вывод](#conclusion)"
   ]
  },
  {
   "cell_type": "code",
   "execution_count": 28,
   "metadata": {},
   "outputs": [],
   "source": [
    "import pandas as pd\n",
    "import numpy as np\n",
    "import matplotlib.pyplot as plt\n",
    "import datetime as dt\n",
    "from scipy import stats\n",
    "import seaborn as sns\n",
    "import warnings\n",
    "warnings.filterwarnings('ignore')\n",
    "#вывести полное название гипотез\n",
    "pd.set_option('display.max_columns', None)\n",
    "pd.options.display.max_colwidth = 150"
   ]
  },
  {
   "cell_type": "markdown",
   "metadata": {},
   "source": [
    "## Часть 1. Приоритизация гипотез.\n",
    "<a id=\"hypothesis\"></a>"
   ]
  },
  {
   "cell_type": "markdown",
   "metadata": {},
   "source": [
    "###  Описание данных\n",
    "- Hypothesis — краткое описание гипотезы;\n",
    "- Reach — охват пользователей по 10-балльной шкале;\n",
    "- Impact — влияние на пользователей по 10-балльной шкале;\n",
    "- Confidence — уверенность в гипотезе по 10-балльной шкале;\n",
    "- Efforts — затраты ресурсов на проверку гипотезы по 10-балльной шкале. Чем больше значение Efforts, тем дороже проверка гипотезы."
   ]
  },
  {
   "cell_type": "code",
   "execution_count": 29,
   "metadata": {},
   "outputs": [],
   "source": [
    "hypothesis = pd.read_csv('data/hypothesis.csv')"
   ]
  },
  {
   "cell_type": "code",
   "execution_count": 30,
   "metadata": {},
   "outputs": [
    {
     "data": {
      "text/html": [
       "<div>\n",
       "<style scoped>\n",
       "    .dataframe tbody tr th:only-of-type {\n",
       "        vertical-align: middle;\n",
       "    }\n",
       "\n",
       "    .dataframe tbody tr th {\n",
       "        vertical-align: top;\n",
       "    }\n",
       "\n",
       "    .dataframe thead th {\n",
       "        text-align: right;\n",
       "    }\n",
       "</style>\n",
       "<table border=\"1\" class=\"dataframe\">\n",
       "  <thead>\n",
       "    <tr style=\"text-align: right;\">\n",
       "      <th></th>\n",
       "      <th>Hypothesis</th>\n",
       "      <th>Reach</th>\n",
       "      <th>Impact</th>\n",
       "      <th>Confidence</th>\n",
       "      <th>Efforts</th>\n",
       "    </tr>\n",
       "  </thead>\n",
       "  <tbody>\n",
       "    <tr>\n",
       "      <th>0</th>\n",
       "      <td>Добавить два новых канала привлечения трафика, что позволит привлекать на 30% больше пользователей</td>\n",
       "      <td>3</td>\n",
       "      <td>10</td>\n",
       "      <td>8</td>\n",
       "      <td>6</td>\n",
       "    </tr>\n",
       "    <tr>\n",
       "      <th>1</th>\n",
       "      <td>Запустить собственную службу доставки, что сократит срок доставки заказов</td>\n",
       "      <td>2</td>\n",
       "      <td>5</td>\n",
       "      <td>4</td>\n",
       "      <td>10</td>\n",
       "    </tr>\n",
       "    <tr>\n",
       "      <th>2</th>\n",
       "      <td>Добавить блоки рекомендаций товаров на сайт интернет магазина, чтобы повысить конверсию и средний чек заказа</td>\n",
       "      <td>8</td>\n",
       "      <td>3</td>\n",
       "      <td>7</td>\n",
       "      <td>3</td>\n",
       "    </tr>\n",
       "    <tr>\n",
       "      <th>3</th>\n",
       "      <td>Изменить структура категорий, что увеличит конверсию, т.к. пользователи быстрее найдут нужный товар</td>\n",
       "      <td>8</td>\n",
       "      <td>3</td>\n",
       "      <td>3</td>\n",
       "      <td>8</td>\n",
       "    </tr>\n",
       "    <tr>\n",
       "      <th>4</th>\n",
       "      <td>Изменить цвет фона главной страницы, чтобы увеличить вовлеченность пользователей</td>\n",
       "      <td>3</td>\n",
       "      <td>1</td>\n",
       "      <td>1</td>\n",
       "      <td>1</td>\n",
       "    </tr>\n",
       "    <tr>\n",
       "      <th>5</th>\n",
       "      <td>Добавить страницу отзывов клиентов о магазине, что позволит увеличить количество заказов</td>\n",
       "      <td>3</td>\n",
       "      <td>2</td>\n",
       "      <td>2</td>\n",
       "      <td>3</td>\n",
       "    </tr>\n",
       "    <tr>\n",
       "      <th>6</th>\n",
       "      <td>Показать на главной странице баннеры с актуальными акциями и распродажами, чтобы увеличить конверсию</td>\n",
       "      <td>5</td>\n",
       "      <td>3</td>\n",
       "      <td>8</td>\n",
       "      <td>3</td>\n",
       "    </tr>\n",
       "    <tr>\n",
       "      <th>7</th>\n",
       "      <td>Добавить форму подписки на все основные страницы, чтобы собрать базу клиентов для email-рассылок</td>\n",
       "      <td>10</td>\n",
       "      <td>7</td>\n",
       "      <td>8</td>\n",
       "      <td>5</td>\n",
       "    </tr>\n",
       "    <tr>\n",
       "      <th>8</th>\n",
       "      <td>Запустить акцию, дающую скидку на товар в день рождения</td>\n",
       "      <td>1</td>\n",
       "      <td>9</td>\n",
       "      <td>9</td>\n",
       "      <td>5</td>\n",
       "    </tr>\n",
       "  </tbody>\n",
       "</table>\n",
       "</div>"
      ],
      "text/plain": [
       "                                                                                                     Hypothesis  \\\n",
       "0            Добавить два новых канала привлечения трафика, что позволит привлекать на 30% больше пользователей   \n",
       "1                                     Запустить собственную службу доставки, что сократит срок доставки заказов   \n",
       "2  Добавить блоки рекомендаций товаров на сайт интернет магазина, чтобы повысить конверсию и средний чек заказа   \n",
       "3           Изменить структура категорий, что увеличит конверсию, т.к. пользователи быстрее найдут нужный товар   \n",
       "4                              Изменить цвет фона главной страницы, чтобы увеличить вовлеченность пользователей   \n",
       "5                      Добавить страницу отзывов клиентов о магазине, что позволит увеличить количество заказов   \n",
       "6          Показать на главной странице баннеры с актуальными акциями и распродажами, чтобы увеличить конверсию   \n",
       "7              Добавить форму подписки на все основные страницы, чтобы собрать базу клиентов для email-рассылок   \n",
       "8                                                       Запустить акцию, дающую скидку на товар в день рождения   \n",
       "\n",
       "   Reach  Impact  Confidence  Efforts  \n",
       "0      3      10           8        6  \n",
       "1      2       5           4       10  \n",
       "2      8       3           7        3  \n",
       "3      8       3           3        8  \n",
       "4      3       1           1        1  \n",
       "5      3       2           2        3  \n",
       "6      5       3           8        3  \n",
       "7     10       7           8        5  \n",
       "8      1       9           9        5  "
      ]
     },
     "execution_count": 30,
     "metadata": {},
     "output_type": "execute_result"
    }
   ],
   "source": [
    "hypothesis"
   ]
  },
  {
   "cell_type": "code",
   "execution_count": 31,
   "metadata": {},
   "outputs": [
    {
     "name": "stdout",
     "output_type": "stream",
     "text": [
      "<class 'pandas.core.frame.DataFrame'>\n",
      "RangeIndex: 9 entries, 0 to 8\n",
      "Data columns (total 5 columns):\n",
      " #   Column      Non-Null Count  Dtype \n",
      "---  ------      --------------  ----- \n",
      " 0   Hypothesis  9 non-null      object\n",
      " 1   Reach       9 non-null      int64 \n",
      " 2   Impact      9 non-null      int64 \n",
      " 3   Confidence  9 non-null      int64 \n",
      " 4   Efforts     9 non-null      int64 \n",
      "dtypes: int64(4), object(1)\n",
      "memory usage: 488.0+ bytes\n"
     ]
    }
   ],
   "source": [
    "hypothesis.info()"
   ]
  },
  {
   "cell_type": "code",
   "execution_count": 32,
   "metadata": {},
   "outputs": [
    {
     "data": {
      "text/html": [
       "<div>\n",
       "<style scoped>\n",
       "    .dataframe tbody tr th:only-of-type {\n",
       "        vertical-align: middle;\n",
       "    }\n",
       "\n",
       "    .dataframe tbody tr th {\n",
       "        vertical-align: top;\n",
       "    }\n",
       "\n",
       "    .dataframe thead th {\n",
       "        text-align: right;\n",
       "    }\n",
       "</style>\n",
       "<table border=\"1\" class=\"dataframe\">\n",
       "  <thead>\n",
       "    <tr style=\"text-align: right;\">\n",
       "      <th></th>\n",
       "      <th>Reach</th>\n",
       "      <th>Impact</th>\n",
       "      <th>Confidence</th>\n",
       "      <th>Efforts</th>\n",
       "    </tr>\n",
       "  </thead>\n",
       "  <tbody>\n",
       "    <tr>\n",
       "      <th>count</th>\n",
       "      <td>9.000000</td>\n",
       "      <td>9.000000</td>\n",
       "      <td>9.000000</td>\n",
       "      <td>9.000000</td>\n",
       "    </tr>\n",
       "    <tr>\n",
       "      <th>mean</th>\n",
       "      <td>4.777778</td>\n",
       "      <td>4.777778</td>\n",
       "      <td>5.555556</td>\n",
       "      <td>4.888889</td>\n",
       "    </tr>\n",
       "    <tr>\n",
       "      <th>std</th>\n",
       "      <td>3.153481</td>\n",
       "      <td>3.192874</td>\n",
       "      <td>3.045944</td>\n",
       "      <td>2.803767</td>\n",
       "    </tr>\n",
       "    <tr>\n",
       "      <th>min</th>\n",
       "      <td>1.000000</td>\n",
       "      <td>1.000000</td>\n",
       "      <td>1.000000</td>\n",
       "      <td>1.000000</td>\n",
       "    </tr>\n",
       "    <tr>\n",
       "      <th>25%</th>\n",
       "      <td>3.000000</td>\n",
       "      <td>3.000000</td>\n",
       "      <td>3.000000</td>\n",
       "      <td>3.000000</td>\n",
       "    </tr>\n",
       "    <tr>\n",
       "      <th>50%</th>\n",
       "      <td>3.000000</td>\n",
       "      <td>3.000000</td>\n",
       "      <td>7.000000</td>\n",
       "      <td>5.000000</td>\n",
       "    </tr>\n",
       "    <tr>\n",
       "      <th>75%</th>\n",
       "      <td>8.000000</td>\n",
       "      <td>7.000000</td>\n",
       "      <td>8.000000</td>\n",
       "      <td>6.000000</td>\n",
       "    </tr>\n",
       "    <tr>\n",
       "      <th>max</th>\n",
       "      <td>10.000000</td>\n",
       "      <td>10.000000</td>\n",
       "      <td>9.000000</td>\n",
       "      <td>10.000000</td>\n",
       "    </tr>\n",
       "  </tbody>\n",
       "</table>\n",
       "</div>"
      ],
      "text/plain": [
       "           Reach     Impact  Confidence    Efforts\n",
       "count   9.000000   9.000000    9.000000   9.000000\n",
       "mean    4.777778   4.777778    5.555556   4.888889\n",
       "std     3.153481   3.192874    3.045944   2.803767\n",
       "min     1.000000   1.000000    1.000000   1.000000\n",
       "25%     3.000000   3.000000    3.000000   3.000000\n",
       "50%     3.000000   3.000000    7.000000   5.000000\n",
       "75%     8.000000   7.000000    8.000000   6.000000\n",
       "max    10.000000  10.000000    9.000000  10.000000"
      ]
     },
     "execution_count": 32,
     "metadata": {},
     "output_type": "execute_result"
    }
   ],
   "source": [
    "hypothesis.describe()"
   ]
  },
  {
   "cell_type": "code",
   "execution_count": 33,
   "metadata": {},
   "outputs": [],
   "source": [
    "hypothesis.columns = hypothesis.columns.str.lower()"
   ]
  },
  {
   "cell_type": "markdown",
   "metadata": {},
   "source": [
    "Видим 9 гипотез по увеличению выручки интернет-магазина, формат данных правильный, баллы распределены от 1 до 10 (в Confidence - до 9, видимо на 100% ни в одной гипотезе не уверены)"
   ]
  },
  {
   "cell_type": "markdown",
   "metadata": {},
   "source": [
    "**фреймворк ICE**"
   ]
  },
  {
   "cell_type": "code",
   "execution_count": 34,
   "metadata": {},
   "outputs": [
    {
     "data": {
      "text/html": [
       "<div>\n",
       "<style scoped>\n",
       "    .dataframe tbody tr th:only-of-type {\n",
       "        vertical-align: middle;\n",
       "    }\n",
       "\n",
       "    .dataframe tbody tr th {\n",
       "        vertical-align: top;\n",
       "    }\n",
       "\n",
       "    .dataframe thead th {\n",
       "        text-align: right;\n",
       "    }\n",
       "</style>\n",
       "<table border=\"1\" class=\"dataframe\">\n",
       "  <thead>\n",
       "    <tr style=\"text-align: right;\">\n",
       "      <th></th>\n",
       "      <th>hypothesis</th>\n",
       "      <th>ICE</th>\n",
       "    </tr>\n",
       "  </thead>\n",
       "  <tbody>\n",
       "    <tr>\n",
       "      <th>8</th>\n",
       "      <td>Запустить акцию, дающую скидку на товар в день рождения</td>\n",
       "      <td>16.2</td>\n",
       "    </tr>\n",
       "    <tr>\n",
       "      <th>0</th>\n",
       "      <td>Добавить два новых канала привлечения трафика, что позволит привлекать на 30% больше пользователей</td>\n",
       "      <td>13.3</td>\n",
       "    </tr>\n",
       "    <tr>\n",
       "      <th>7</th>\n",
       "      <td>Добавить форму подписки на все основные страницы, чтобы собрать базу клиентов для email-рассылок</td>\n",
       "      <td>11.2</td>\n",
       "    </tr>\n",
       "    <tr>\n",
       "      <th>6</th>\n",
       "      <td>Показать на главной странице баннеры с актуальными акциями и распродажами, чтобы увеличить конверсию</td>\n",
       "      <td>8.0</td>\n",
       "    </tr>\n",
       "    <tr>\n",
       "      <th>2</th>\n",
       "      <td>Добавить блоки рекомендаций товаров на сайт интернет магазина, чтобы повысить конверсию и средний чек заказа</td>\n",
       "      <td>7.0</td>\n",
       "    </tr>\n",
       "    <tr>\n",
       "      <th>1</th>\n",
       "      <td>Запустить собственную службу доставки, что сократит срок доставки заказов</td>\n",
       "      <td>2.0</td>\n",
       "    </tr>\n",
       "    <tr>\n",
       "      <th>5</th>\n",
       "      <td>Добавить страницу отзывов клиентов о магазине, что позволит увеличить количество заказов</td>\n",
       "      <td>1.3</td>\n",
       "    </tr>\n",
       "    <tr>\n",
       "      <th>3</th>\n",
       "      <td>Изменить структура категорий, что увеличит конверсию, т.к. пользователи быстрее найдут нужный товар</td>\n",
       "      <td>1.1</td>\n",
       "    </tr>\n",
       "    <tr>\n",
       "      <th>4</th>\n",
       "      <td>Изменить цвет фона главной страницы, чтобы увеличить вовлеченность пользователей</td>\n",
       "      <td>1.0</td>\n",
       "    </tr>\n",
       "  </tbody>\n",
       "</table>\n",
       "</div>"
      ],
      "text/plain": [
       "                                                                                                     hypothesis  \\\n",
       "8                                                       Запустить акцию, дающую скидку на товар в день рождения   \n",
       "0            Добавить два новых канала привлечения трафика, что позволит привлекать на 30% больше пользователей   \n",
       "7              Добавить форму подписки на все основные страницы, чтобы собрать базу клиентов для email-рассылок   \n",
       "6          Показать на главной странице баннеры с актуальными акциями и распродажами, чтобы увеличить конверсию   \n",
       "2  Добавить блоки рекомендаций товаров на сайт интернет магазина, чтобы повысить конверсию и средний чек заказа   \n",
       "1                                     Запустить собственную службу доставки, что сократит срок доставки заказов   \n",
       "5                      Добавить страницу отзывов клиентов о магазине, что позволит увеличить количество заказов   \n",
       "3           Изменить структура категорий, что увеличит конверсию, т.к. пользователи быстрее найдут нужный товар   \n",
       "4                              Изменить цвет фона главной страницы, чтобы увеличить вовлеченность пользователей   \n",
       "\n",
       "    ICE  \n",
       "8  16.2  \n",
       "0  13.3  \n",
       "7  11.2  \n",
       "6   8.0  \n",
       "2   7.0  \n",
       "1   2.0  \n",
       "5   1.3  \n",
       "3   1.1  \n",
       "4   1.0  "
      ]
     },
     "execution_count": 34,
     "metadata": {},
     "output_type": "execute_result"
    }
   ],
   "source": [
    "hypothesis['ICE'] = round(hypothesis['impact'] * hypothesis['confidence'] / hypothesis['efforts'], 1)\n",
    "hypothesis[['hypothesis', 'ICE']].sort_values(by='ICE', ascending=False)"
   ]
  },
  {
   "cell_type": "markdown",
   "metadata": {},
   "source": [
    "Наиболее перспективные гипотезы по ICE:\n",
    "\n",
    "\n",
    "- Запустить акцию, дающую скидку на товар в день рождения;\n",
    "- Добавить два новых канала привлечения трафика, что позволит привлекать на 30% больше пользователей;\n",
    "- Добавить форму подписки на все основные страницы, чтобы собрать базу клиентов для email-рассылок;\n",
    "- Показать на главной странице баннеры с актуальными акциями и распродажами, чтобы увеличить конверсию;\n",
    "- Добавить блоки рекомендаций товаров на сайт интернет магазина, чтобы повысить конверсию и средний чек заказа.\n",
    "\n",
    "Посмотрим, изменится ли ситуация после использования фреймворка RICE"
   ]
  },
  {
   "cell_type": "markdown",
   "metadata": {},
   "source": [
    "**фреймворк RICE**"
   ]
  },
  {
   "cell_type": "code",
   "execution_count": 35,
   "metadata": {},
   "outputs": [],
   "source": [
    "# функция для выделения цветом максимального значения в столбце\n",
    "def highlight_max(s):\n",
    "    is_max = s == s.max()\n",
    "    return ['background-color: yellow' if v else '' for v in is_max]"
   ]
  },
  {
   "cell_type": "code",
   "execution_count": 36,
   "metadata": {
    "scrolled": true
   },
   "outputs": [
    {
     "data": {
      "text/html": [
       "<style  type=\"text/css\" >\n",
       "    #T_37394ee1_595a_11eb_910e_6c6a773148c6row0_col1 {\n",
       "            background-color:  yellow;\n",
       "        }    #T_37394ee1_595a_11eb_910e_6c6a773148c6row4_col2 {\n",
       "            background-color:  yellow;\n",
       "        }</style><table id=\"T_37394ee1_595a_11eb_910e_6c6a773148c6\" ><thead>    <tr>        <th class=\"blank level0\" ></th>        <th class=\"col_heading level0 col0\" >hypothesis</th>        <th class=\"col_heading level0 col1\" >RICE</th>        <th class=\"col_heading level0 col2\" >ICE</th>    </tr></thead><tbody>\n",
       "                <tr>\n",
       "                        <th id=\"T_37394ee1_595a_11eb_910e_6c6a773148c6level0_row0\" class=\"row_heading level0 row0\" >7</th>\n",
       "                        <td id=\"T_37394ee1_595a_11eb_910e_6c6a773148c6row0_col0\" class=\"data row0 col0\" >Добавить форму подписки на все основные страницы, чтобы собрать базу клиентов для email-рассылок</td>\n",
       "                        <td id=\"T_37394ee1_595a_11eb_910e_6c6a773148c6row0_col1\" class=\"data row0 col1\" >112.000000</td>\n",
       "                        <td id=\"T_37394ee1_595a_11eb_910e_6c6a773148c6row0_col2\" class=\"data row0 col2\" >11.200000</td>\n",
       "            </tr>\n",
       "            <tr>\n",
       "                        <th id=\"T_37394ee1_595a_11eb_910e_6c6a773148c6level0_row1\" class=\"row_heading level0 row1\" >2</th>\n",
       "                        <td id=\"T_37394ee1_595a_11eb_910e_6c6a773148c6row1_col0\" class=\"data row1 col0\" >Добавить блоки рекомендаций товаров на сайт интернет магазина, чтобы повысить конверсию и средний чек заказа</td>\n",
       "                        <td id=\"T_37394ee1_595a_11eb_910e_6c6a773148c6row1_col1\" class=\"data row1 col1\" >56.000000</td>\n",
       "                        <td id=\"T_37394ee1_595a_11eb_910e_6c6a773148c6row1_col2\" class=\"data row1 col2\" >7.000000</td>\n",
       "            </tr>\n",
       "            <tr>\n",
       "                        <th id=\"T_37394ee1_595a_11eb_910e_6c6a773148c6level0_row2\" class=\"row_heading level0 row2\" >0</th>\n",
       "                        <td id=\"T_37394ee1_595a_11eb_910e_6c6a773148c6row2_col0\" class=\"data row2 col0\" >Добавить два новых канала привлечения трафика, что позволит привлекать на 30% больше пользователей</td>\n",
       "                        <td id=\"T_37394ee1_595a_11eb_910e_6c6a773148c6row2_col1\" class=\"data row2 col1\" >40.000000</td>\n",
       "                        <td id=\"T_37394ee1_595a_11eb_910e_6c6a773148c6row2_col2\" class=\"data row2 col2\" >13.300000</td>\n",
       "            </tr>\n",
       "            <tr>\n",
       "                        <th id=\"T_37394ee1_595a_11eb_910e_6c6a773148c6level0_row3\" class=\"row_heading level0 row3\" >6</th>\n",
       "                        <td id=\"T_37394ee1_595a_11eb_910e_6c6a773148c6row3_col0\" class=\"data row3 col0\" >Показать на главной странице баннеры с актуальными акциями и распродажами, чтобы увеличить конверсию</td>\n",
       "                        <td id=\"T_37394ee1_595a_11eb_910e_6c6a773148c6row3_col1\" class=\"data row3 col1\" >40.000000</td>\n",
       "                        <td id=\"T_37394ee1_595a_11eb_910e_6c6a773148c6row3_col2\" class=\"data row3 col2\" >8.000000</td>\n",
       "            </tr>\n",
       "            <tr>\n",
       "                        <th id=\"T_37394ee1_595a_11eb_910e_6c6a773148c6level0_row4\" class=\"row_heading level0 row4\" >8</th>\n",
       "                        <td id=\"T_37394ee1_595a_11eb_910e_6c6a773148c6row4_col0\" class=\"data row4 col0\" >Запустить акцию, дающую скидку на товар в день рождения</td>\n",
       "                        <td id=\"T_37394ee1_595a_11eb_910e_6c6a773148c6row4_col1\" class=\"data row4 col1\" >16.200000</td>\n",
       "                        <td id=\"T_37394ee1_595a_11eb_910e_6c6a773148c6row4_col2\" class=\"data row4 col2\" >16.200000</td>\n",
       "            </tr>\n",
       "            <tr>\n",
       "                        <th id=\"T_37394ee1_595a_11eb_910e_6c6a773148c6level0_row5\" class=\"row_heading level0 row5\" >3</th>\n",
       "                        <td id=\"T_37394ee1_595a_11eb_910e_6c6a773148c6row5_col0\" class=\"data row5 col0\" >Изменить структура категорий, что увеличит конверсию, т.к. пользователи быстрее найдут нужный товар</td>\n",
       "                        <td id=\"T_37394ee1_595a_11eb_910e_6c6a773148c6row5_col1\" class=\"data row5 col1\" >9.000000</td>\n",
       "                        <td id=\"T_37394ee1_595a_11eb_910e_6c6a773148c6row5_col2\" class=\"data row5 col2\" >1.100000</td>\n",
       "            </tr>\n",
       "            <tr>\n",
       "                        <th id=\"T_37394ee1_595a_11eb_910e_6c6a773148c6level0_row6\" class=\"row_heading level0 row6\" >1</th>\n",
       "                        <td id=\"T_37394ee1_595a_11eb_910e_6c6a773148c6row6_col0\" class=\"data row6 col0\" >Запустить собственную службу доставки, что сократит срок доставки заказов</td>\n",
       "                        <td id=\"T_37394ee1_595a_11eb_910e_6c6a773148c6row6_col1\" class=\"data row6 col1\" >4.000000</td>\n",
       "                        <td id=\"T_37394ee1_595a_11eb_910e_6c6a773148c6row6_col2\" class=\"data row6 col2\" >2.000000</td>\n",
       "            </tr>\n",
       "            <tr>\n",
       "                        <th id=\"T_37394ee1_595a_11eb_910e_6c6a773148c6level0_row7\" class=\"row_heading level0 row7\" >5</th>\n",
       "                        <td id=\"T_37394ee1_595a_11eb_910e_6c6a773148c6row7_col0\" class=\"data row7 col0\" >Добавить страницу отзывов клиентов о магазине, что позволит увеличить количество заказов</td>\n",
       "                        <td id=\"T_37394ee1_595a_11eb_910e_6c6a773148c6row7_col1\" class=\"data row7 col1\" >4.000000</td>\n",
       "                        <td id=\"T_37394ee1_595a_11eb_910e_6c6a773148c6row7_col2\" class=\"data row7 col2\" >1.300000</td>\n",
       "            </tr>\n",
       "            <tr>\n",
       "                        <th id=\"T_37394ee1_595a_11eb_910e_6c6a773148c6level0_row8\" class=\"row_heading level0 row8\" >4</th>\n",
       "                        <td id=\"T_37394ee1_595a_11eb_910e_6c6a773148c6row8_col0\" class=\"data row8 col0\" >Изменить цвет фона главной страницы, чтобы увеличить вовлеченность пользователей</td>\n",
       "                        <td id=\"T_37394ee1_595a_11eb_910e_6c6a773148c6row8_col1\" class=\"data row8 col1\" >3.000000</td>\n",
       "                        <td id=\"T_37394ee1_595a_11eb_910e_6c6a773148c6row8_col2\" class=\"data row8 col2\" >1.000000</td>\n",
       "            </tr>\n",
       "    </tbody></table>"
      ],
      "text/plain": [
       "<pandas.io.formats.style.Styler at 0x1fbe6bedac0>"
      ]
     },
     "execution_count": 36,
     "metadata": {},
     "output_type": "execute_result"
    }
   ],
   "source": [
    "hypothesis['RICE'] = hypothesis['reach'] * hypothesis['impact'] * hypothesis['confidence'] / hypothesis['efforts']\n",
    "hypothesis_prioritization = hypothesis[['hypothesis', 'RICE', 'ICE']].sort_values(by=['RICE', 'ICE'], ascending=False)\n",
    "hypothesis_prioritization.style.apply(highlight_max, subset=pd.IndexSlice[:, ['RICE', 'ICE']])"
   ]
  },
  {
   "cell_type": "markdown",
   "metadata": {},
   "source": [
    "Здесь ситуация изменилась, самые перспективные гипотезы: \n",
    "- Добавить форму подписки на все основные страницы, чтобы собрать базу клиентов для email-рассылок;\n",
    "- Добавить блоки рекомендаций товаров на сайт интернет магазина, чтобы повысить конверсию и средний чек заказа;\n",
    "- Добавить два новых канала привлечения трафика, что позволит привлекать на 30% больше пользователей;\n",
    "- Показать на главной странице баннеры с актуальными акциями и распродажами, чтобы увеличить конверсию;\n",
    "- Запустить акцию, дающую скидку на товар в день рождения.\n",
    "\n",
    "\n",
    "\n",
    "Гипотеза *о акции, дающую скидку на товар в день рождения*, недорогая, сильно затронет пользователей, мы в ней уверены, но охват пользователй оказался небольшим. Поэтому она стала не самой интересной для увеличения выручки. Зато гипотеза *о добавлении блоков рекомендаций товаров* имеет широкий охват, поэтому оказалась более перспективной, чем казалась на перый взгляд."
   ]
  },
  {
   "cell_type": "markdown",
   "metadata": {},
   "source": [
    "## Часть 2. Анализ A/B-теста\n",
    "<a id=\"ab_testing\"></a>"
   ]
  },
  {
   "cell_type": "markdown",
   "metadata": {},
   "source": [
    "###  Описание данных\n",
    "**Таблица orders:**\n",
    "- transactionId — идентификатор заказа;\n",
    "- visitorId — идентификатор пользователя, совершившего заказ;\n",
    "- date — дата, когда был совершён заказ;\n",
    "- revenue — выручка заказа;\n",
    "- group — группа A/B-теста, в которую попал заказ.\n",
    "\n",
    "\n",
    "**Таблица visitors:**\n",
    "- date — дата;\n",
    "- group — группа A/B-теста;\n",
    "- visitors — количество пользователей в указанную дату в указанной группе A/B-теста"
   ]
  },
  {
   "cell_type": "markdown",
   "metadata": {},
   "source": [
    "## 2.1. Предобработка данных\n",
    "<a id=\"preprocessing\"></a>"
   ]
  },
  {
   "cell_type": "code",
   "execution_count": 37,
   "metadata": {},
   "outputs": [],
   "source": [
    "orders = pd.read_csv('data/orders.csv')\n",
    "visitors = pd.read_csv('data/visitors.csv')"
   ]
  },
  {
   "cell_type": "code",
   "execution_count": 38,
   "metadata": {},
   "outputs": [
    {
     "data": {
      "text/html": [
       "<div>\n",
       "<style scoped>\n",
       "    .dataframe tbody tr th:only-of-type {\n",
       "        vertical-align: middle;\n",
       "    }\n",
       "\n",
       "    .dataframe tbody tr th {\n",
       "        vertical-align: top;\n",
       "    }\n",
       "\n",
       "    .dataframe thead th {\n",
       "        text-align: right;\n",
       "    }\n",
       "</style>\n",
       "<table border=\"1\" class=\"dataframe\">\n",
       "  <thead>\n",
       "    <tr style=\"text-align: right;\">\n",
       "      <th></th>\n",
       "      <th>transactionId</th>\n",
       "      <th>visitorId</th>\n",
       "      <th>date</th>\n",
       "      <th>revenue</th>\n",
       "      <th>group</th>\n",
       "    </tr>\n",
       "  </thead>\n",
       "  <tbody>\n",
       "    <tr>\n",
       "      <th>0</th>\n",
       "      <td>3667963787</td>\n",
       "      <td>3312258926</td>\n",
       "      <td>2019-08-15</td>\n",
       "      <td>1650</td>\n",
       "      <td>B</td>\n",
       "    </tr>\n",
       "    <tr>\n",
       "      <th>1</th>\n",
       "      <td>2804400009</td>\n",
       "      <td>3642806036</td>\n",
       "      <td>2019-08-15</td>\n",
       "      <td>730</td>\n",
       "      <td>B</td>\n",
       "    </tr>\n",
       "    <tr>\n",
       "      <th>2</th>\n",
       "      <td>2961555356</td>\n",
       "      <td>4069496402</td>\n",
       "      <td>2019-08-15</td>\n",
       "      <td>400</td>\n",
       "      <td>A</td>\n",
       "    </tr>\n",
       "    <tr>\n",
       "      <th>3</th>\n",
       "      <td>3797467345</td>\n",
       "      <td>1196621759</td>\n",
       "      <td>2019-08-15</td>\n",
       "      <td>9759</td>\n",
       "      <td>B</td>\n",
       "    </tr>\n",
       "    <tr>\n",
       "      <th>4</th>\n",
       "      <td>2282983706</td>\n",
       "      <td>2322279887</td>\n",
       "      <td>2019-08-15</td>\n",
       "      <td>2308</td>\n",
       "      <td>B</td>\n",
       "    </tr>\n",
       "  </tbody>\n",
       "</table>\n",
       "</div>"
      ],
      "text/plain": [
       "   transactionId   visitorId        date  revenue group\n",
       "0     3667963787  3312258926  2019-08-15     1650     B\n",
       "1     2804400009  3642806036  2019-08-15      730     B\n",
       "2     2961555356  4069496402  2019-08-15      400     A\n",
       "3     3797467345  1196621759  2019-08-15     9759     B\n",
       "4     2282983706  2322279887  2019-08-15     2308     B"
      ]
     },
     "execution_count": 38,
     "metadata": {},
     "output_type": "execute_result"
    }
   ],
   "source": [
    "orders.head()"
   ]
  },
  {
   "cell_type": "code",
   "execution_count": 39,
   "metadata": {},
   "outputs": [
    {
     "name": "stdout",
     "output_type": "stream",
     "text": [
      "<class 'pandas.core.frame.DataFrame'>\n",
      "RangeIndex: 1197 entries, 0 to 1196\n",
      "Data columns (total 5 columns):\n",
      " #   Column         Non-Null Count  Dtype \n",
      "---  ------         --------------  ----- \n",
      " 0   transactionId  1197 non-null   int64 \n",
      " 1   visitorId      1197 non-null   int64 \n",
      " 2   date           1197 non-null   object\n",
      " 3   revenue        1197 non-null   int64 \n",
      " 4   group          1197 non-null   object\n",
      "dtypes: int64(3), object(2)\n",
      "memory usage: 46.9+ KB\n"
     ]
    }
   ],
   "source": [
    "orders.info()"
   ]
  },
  {
   "cell_type": "code",
   "execution_count": 40,
   "metadata": {},
   "outputs": [
    {
     "data": {
      "text/html": [
       "<div>\n",
       "<style scoped>\n",
       "    .dataframe tbody tr th:only-of-type {\n",
       "        vertical-align: middle;\n",
       "    }\n",
       "\n",
       "    .dataframe tbody tr th {\n",
       "        vertical-align: top;\n",
       "    }\n",
       "\n",
       "    .dataframe thead th {\n",
       "        text-align: right;\n",
       "    }\n",
       "</style>\n",
       "<table border=\"1\" class=\"dataframe\">\n",
       "  <thead>\n",
       "    <tr style=\"text-align: right;\">\n",
       "      <th></th>\n",
       "      <th>date</th>\n",
       "      <th>group</th>\n",
       "      <th>visitors</th>\n",
       "    </tr>\n",
       "  </thead>\n",
       "  <tbody>\n",
       "    <tr>\n",
       "      <th>0</th>\n",
       "      <td>2019-08-01</td>\n",
       "      <td>A</td>\n",
       "      <td>719</td>\n",
       "    </tr>\n",
       "    <tr>\n",
       "      <th>1</th>\n",
       "      <td>2019-08-02</td>\n",
       "      <td>A</td>\n",
       "      <td>619</td>\n",
       "    </tr>\n",
       "    <tr>\n",
       "      <th>2</th>\n",
       "      <td>2019-08-03</td>\n",
       "      <td>A</td>\n",
       "      <td>507</td>\n",
       "    </tr>\n",
       "    <tr>\n",
       "      <th>3</th>\n",
       "      <td>2019-08-04</td>\n",
       "      <td>A</td>\n",
       "      <td>717</td>\n",
       "    </tr>\n",
       "    <tr>\n",
       "      <th>4</th>\n",
       "      <td>2019-08-05</td>\n",
       "      <td>A</td>\n",
       "      <td>756</td>\n",
       "    </tr>\n",
       "  </tbody>\n",
       "</table>\n",
       "</div>"
      ],
      "text/plain": [
       "         date group  visitors\n",
       "0  2019-08-01     A       719\n",
       "1  2019-08-02     A       619\n",
       "2  2019-08-03     A       507\n",
       "3  2019-08-04     A       717\n",
       "4  2019-08-05     A       756"
      ]
     },
     "execution_count": 40,
     "metadata": {},
     "output_type": "execute_result"
    }
   ],
   "source": [
    "visitors.head()"
   ]
  },
  {
   "cell_type": "code",
   "execution_count": 41,
   "metadata": {},
   "outputs": [
    {
     "name": "stdout",
     "output_type": "stream",
     "text": [
      "<class 'pandas.core.frame.DataFrame'>\n",
      "RangeIndex: 62 entries, 0 to 61\n",
      "Data columns (total 3 columns):\n",
      " #   Column    Non-Null Count  Dtype \n",
      "---  ------    --------------  ----- \n",
      " 0   date      62 non-null     object\n",
      " 1   group     62 non-null     object\n",
      " 2   visitors  62 non-null     int64 \n",
      "dtypes: int64(1), object(2)\n",
      "memory usage: 1.6+ KB\n"
     ]
    }
   ],
   "source": [
    "visitors.info()"
   ]
  },
  {
   "cell_type": "code",
   "execution_count": 42,
   "metadata": {},
   "outputs": [],
   "source": [
    "visitors['date'] = pd.to_datetime(visitors['date'], format='%Y-%m-%d')\n",
    "orders['date'] = pd.to_datetime(orders['date'], format='%Y-%m-%d')"
   ]
  },
  {
   "cell_type": "code",
   "execution_count": 43,
   "metadata": {},
   "outputs": [
    {
     "data": {
      "text/plain": [
       "count                    1197\n",
       "unique                     31\n",
       "top       2019-08-05 00:00:00\n",
       "freq                       48\n",
       "first     2019-08-01 00:00:00\n",
       "last      2019-08-31 00:00:00\n",
       "Name: date, dtype: object"
      ]
     },
     "execution_count": 43,
     "metadata": {},
     "output_type": "execute_result"
    }
   ],
   "source": [
    "orders['date'].describe()"
   ]
  },
  {
   "cell_type": "code",
   "execution_count": 44,
   "metadata": {},
   "outputs": [
    {
     "data": {
      "text/plain": [
       "count                      62\n",
       "unique                     31\n",
       "top       2019-08-02 00:00:00\n",
       "freq                        2\n",
       "first     2019-08-01 00:00:00\n",
       "last      2019-08-31 00:00:00\n",
       "Name: date, dtype: object"
      ]
     },
     "execution_count": 44,
     "metadata": {},
     "output_type": "execute_result"
    }
   ],
   "source": [
    "visitors['date'].describe()"
   ]
  },
  {
   "cell_type": "markdown",
   "metadata": {},
   "source": [
    "Заменили формат дат на корректные, данные в обеих таблицах представлены за аналогичные промежутки времени - с 1 августа 2019г. по 31 августа 2019г. \n",
    "\n",
    "Проверим, сколько пользователей в группах А и В"
   ]
  },
  {
   "cell_type": "code",
   "execution_count": 45,
   "metadata": {},
   "outputs": [
    {
     "data": {
      "text/html": [
       "<div>\n",
       "<style scoped>\n",
       "    .dataframe tbody tr th:only-of-type {\n",
       "        vertical-align: middle;\n",
       "    }\n",
       "\n",
       "    .dataframe tbody tr th {\n",
       "        vertical-align: top;\n",
       "    }\n",
       "\n",
       "    .dataframe thead th {\n",
       "        text-align: right;\n",
       "    }\n",
       "</style>\n",
       "<table border=\"1\" class=\"dataframe\">\n",
       "  <thead>\n",
       "    <tr style=\"text-align: right;\">\n",
       "      <th></th>\n",
       "      <th>transactionId</th>\n",
       "      <th>visitorId</th>\n",
       "      <th>date</th>\n",
       "      <th>revenue</th>\n",
       "      <th>group</th>\n",
       "    </tr>\n",
       "    <tr>\n",
       "      <th>group</th>\n",
       "      <th></th>\n",
       "      <th></th>\n",
       "      <th></th>\n",
       "      <th></th>\n",
       "      <th></th>\n",
       "    </tr>\n",
       "  </thead>\n",
       "  <tbody>\n",
       "    <tr>\n",
       "      <th>A</th>\n",
       "      <td>557</td>\n",
       "      <td>503</td>\n",
       "      <td>31</td>\n",
       "      <td>419</td>\n",
       "      <td>1</td>\n",
       "    </tr>\n",
       "    <tr>\n",
       "      <th>B</th>\n",
       "      <td>640</td>\n",
       "      <td>586</td>\n",
       "      <td>31</td>\n",
       "      <td>450</td>\n",
       "      <td>1</td>\n",
       "    </tr>\n",
       "  </tbody>\n",
       "</table>\n",
       "</div>"
      ],
      "text/plain": [
       "       transactionId  visitorId  date  revenue  group\n",
       "group                                                \n",
       "A                557        503    31      419      1\n",
       "B                640        586    31      450      1"
      ]
     },
     "execution_count": 45,
     "metadata": {},
     "output_type": "execute_result"
    }
   ],
   "source": [
    "orders.groupby('group').nunique()"
   ]
  },
  {
   "cell_type": "markdown",
   "metadata": {},
   "source": [
    "Видим, что численность групп различается 503 пользователя в группе А и 586 - в Б. Численность группы Б на 16 % выше. В нашем случае метриками будут являться относительные значения, доли, поэтому такая большая разница не проблематична. Но стоит проверить, есть ли пользователи, которые попали в обе группы сразу."
   ]
  },
  {
   "cell_type": "code",
   "execution_count": 46,
   "metadata": {},
   "outputs": [
    {
     "data": {
      "text/plain": [
       "visitorId\n",
       "5114589          [B]\n",
       "6958315          [B]\n",
       "8300375       [B, A]\n",
       "11685486         [A]\n",
       "39475350         [B]\n",
       "               ...  \n",
       "4266935830    [A, B]\n",
       "4278982564       [A]\n",
       "4279090005       [B]\n",
       "4281247801       [B]\n",
       "4283872382       [B]\n",
       "Name: group, Length: 1031, dtype: object"
      ]
     },
     "execution_count": 46,
     "metadata": {},
     "output_type": "execute_result"
    }
   ],
   "source": [
    "orders.groupby('visitorId')['group'].unique()"
   ]
  },
  {
   "cell_type": "markdown",
   "metadata": {},
   "source": [
    "Такие пользователи есть, посчитаем сколько их"
   ]
  },
  {
   "cell_type": "code",
   "execution_count": 47,
   "metadata": {},
   "outputs": [
    {
     "data": {
      "text/plain": [
       "58"
      ]
     },
     "execution_count": 47,
     "metadata": {},
     "output_type": "execute_result"
    }
   ],
   "source": [
    "users_in_group = orders.groupby('visitorId')['group'].nunique()\n",
    "(users_in_group > 1).sum()"
   ]
  },
  {
   "cell_type": "code",
   "execution_count": 48,
   "metadata": {},
   "outputs": [
    {
     "data": {
      "text/plain": [
       "0.05625606207565471"
      ]
     },
     "execution_count": 48,
     "metadata": {},
     "output_type": "execute_result"
    }
   ],
   "source": [
    "(users_in_group > 1).sum()/users_in_group.shape[0]"
   ]
  },
  {
   "cell_type": "markdown",
   "metadata": {},
   "source": [
    "Это немного, но некорректно считать метрики с учетом того, что есть такие пользователи. Так как их всего 5% можно их удалить"
   ]
  },
  {
   "cell_type": "code",
   "execution_count": 49,
   "metadata": {},
   "outputs": [
    {
     "data": {
      "text/plain": [
       "Int64Index([   8300375,  199603092,  232979603,  237748145,  276558944,\n",
       "             351125977,  393266494,  457167155,  471551937,  477780734,\n",
       "             818047933,  963407295, 1230306981, 1294878855, 1316129916,\n",
       "            1333886533, 1404934699, 1602967004, 1614305549, 1648269707,\n",
       "            1668030113, 1738359350, 1801183820, 1959144690, 2038680547,\n",
       "            2044997962, 2378935119, 2458001652, 2579882178, 2587333274,\n",
       "            2600415354, 2654030115, 2686716486, 2712142231, 2716752286,\n",
       "            2780786433, 2927087541, 2949041841, 2954449915, 3062433592,\n",
       "            3202540741, 3234906277, 3656415546, 3717692402, 3766097110,\n",
       "            3803269165, 3891541246, 3941795274, 3951559397, 3957174400,\n",
       "            3963646447, 3972127743, 3984495233, 4069496402, 4120364173,\n",
       "            4186807279, 4256040402, 4266935830],\n",
       "           dtype='int64', name='visitorId')"
      ]
     },
     "execution_count": 49,
     "metadata": {},
     "output_type": "execute_result"
    }
   ],
   "source": [
    "users_in_both_group = users_in_group[users_in_group > 1].index\n",
    "users_in_both_group"
   ]
  },
  {
   "cell_type": "code",
   "execution_count": 50,
   "metadata": {},
   "outputs": [
    {
     "data": {
      "text/plain": [
       "973"
      ]
     },
     "execution_count": 50,
     "metadata": {},
     "output_type": "execute_result"
    }
   ],
   "source": [
    "orders = orders[np.logical_not(orders['visitorId'].isin(users_in_both_group))]\n",
    "\n",
    "# проверим количество уникальных пользователей после удаления, все сходится\n",
    "orders[np.logical_not(orders['visitorId'].isin(users_in_both_group))]['visitorId'].nunique()"
   ]
  },
  {
   "cell_type": "markdown",
   "metadata": {},
   "source": [
    "**ВЫВОД**"
   ]
  },
  {
   "cell_type": "markdown",
   "metadata": {},
   "source": [
    "Пропусков в данных не обнаружено. Формат дат изменен на корректный, границы дат сходятся в обоих таблицах. Численность групп различается: 503 пользователя в группе А и 586 - в Б. Численность группы Б на 16 % выше. В нашем случае метриками будут являться относительные значения, доли, поэтому такая большая разница не проблематична. Но при проверке нашлись пользователи, которые относятся сразу к обеим группам (5% пользователей). Эти пользователи удалены из датасета, так как с ними проверять результаты А/В теста некорректно."
   ]
  },
  {
   "cell_type": "markdown",
   "metadata": {},
   "source": [
    "## 2.2. Анализ А/В-теста\n",
    "<a id=\"ab_test\"></a>"
   ]
  },
  {
   "cell_type": "markdown",
   "metadata": {},
   "source": [
    "**График кумулятивной выручки по группам**"
   ]
  },
  {
   "cell_type": "code",
   "execution_count": 51,
   "metadata": {},
   "outputs": [
    {
     "data": {
      "text/html": [
       "<div>\n",
       "<style scoped>\n",
       "    .dataframe tbody tr th:only-of-type {\n",
       "        vertical-align: middle;\n",
       "    }\n",
       "\n",
       "    .dataframe tbody tr th {\n",
       "        vertical-align: top;\n",
       "    }\n",
       "\n",
       "    .dataframe thead th {\n",
       "        text-align: right;\n",
       "    }\n",
       "</style>\n",
       "<table border=\"1\" class=\"dataframe\">\n",
       "  <thead>\n",
       "    <tr style=\"text-align: right;\">\n",
       "      <th></th>\n",
       "      <th>date</th>\n",
       "      <th>group</th>\n",
       "      <th>orders</th>\n",
       "      <th>buyers</th>\n",
       "      <th>revenue</th>\n",
       "      <th>visitors</th>\n",
       "    </tr>\n",
       "  </thead>\n",
       "  <tbody>\n",
       "    <tr>\n",
       "      <th>0</th>\n",
       "      <td>2019-08-01</td>\n",
       "      <td>A</td>\n",
       "      <td>23</td>\n",
       "      <td>19</td>\n",
       "      <td>142779</td>\n",
       "      <td>719</td>\n",
       "    </tr>\n",
       "    <tr>\n",
       "      <th>1</th>\n",
       "      <td>2019-08-01</td>\n",
       "      <td>B</td>\n",
       "      <td>17</td>\n",
       "      <td>17</td>\n",
       "      <td>59758</td>\n",
       "      <td>713</td>\n",
       "    </tr>\n",
       "    <tr>\n",
       "      <th>2</th>\n",
       "      <td>2019-08-02</td>\n",
       "      <td>A</td>\n",
       "      <td>42</td>\n",
       "      <td>36</td>\n",
       "      <td>234381</td>\n",
       "      <td>1338</td>\n",
       "    </tr>\n",
       "    <tr>\n",
       "      <th>3</th>\n",
       "      <td>2019-08-02</td>\n",
       "      <td>B</td>\n",
       "      <td>40</td>\n",
       "      <td>39</td>\n",
       "      <td>221801</td>\n",
       "      <td>1294</td>\n",
       "    </tr>\n",
       "    <tr>\n",
       "      <th>4</th>\n",
       "      <td>2019-08-03</td>\n",
       "      <td>A</td>\n",
       "      <td>66</td>\n",
       "      <td>60</td>\n",
       "      <td>346854</td>\n",
       "      <td>1845</td>\n",
       "    </tr>\n",
       "    <tr>\n",
       "      <th>...</th>\n",
       "      <td>...</td>\n",
       "      <td>...</td>\n",
       "      <td>...</td>\n",
       "      <td>...</td>\n",
       "      <td>...</td>\n",
       "      <td>...</td>\n",
       "    </tr>\n",
       "    <tr>\n",
       "      <th>57</th>\n",
       "      <td>2019-08-29</td>\n",
       "      <td>B</td>\n",
       "      <td>510</td>\n",
       "      <td>490</td>\n",
       "      <td>4746610</td>\n",
       "      <td>17708</td>\n",
       "    </tr>\n",
       "    <tr>\n",
       "      <th>58</th>\n",
       "      <td>2019-08-30</td>\n",
       "      <td>A</td>\n",
       "      <td>460</td>\n",
       "      <td>437</td>\n",
       "      <td>3311413</td>\n",
       "      <td>18037</td>\n",
       "    </tr>\n",
       "    <tr>\n",
       "      <th>59</th>\n",
       "      <td>2019-08-30</td>\n",
       "      <td>B</td>\n",
       "      <td>531</td>\n",
       "      <td>511</td>\n",
       "      <td>4955833</td>\n",
       "      <td>18198</td>\n",
       "    </tr>\n",
       "    <tr>\n",
       "      <th>60</th>\n",
       "      <td>2019-08-31</td>\n",
       "      <td>A</td>\n",
       "      <td>468</td>\n",
       "      <td>445</td>\n",
       "      <td>3364656</td>\n",
       "      <td>18736</td>\n",
       "    </tr>\n",
       "    <tr>\n",
       "      <th>61</th>\n",
       "      <td>2019-08-31</td>\n",
       "      <td>B</td>\n",
       "      <td>548</td>\n",
       "      <td>528</td>\n",
       "      <td>5068972</td>\n",
       "      <td>18916</td>\n",
       "    </tr>\n",
       "  </tbody>\n",
       "</table>\n",
       "<p>62 rows × 6 columns</p>\n",
       "</div>"
      ],
      "text/plain": [
       "         date group  orders  buyers  revenue  visitors\n",
       "0  2019-08-01     A      23      19   142779       719\n",
       "1  2019-08-01     B      17      17    59758       713\n",
       "2  2019-08-02     A      42      36   234381      1338\n",
       "3  2019-08-02     B      40      39   221801      1294\n",
       "4  2019-08-03     A      66      60   346854      1845\n",
       "..        ...   ...     ...     ...      ...       ...\n",
       "57 2019-08-29     B     510     490  4746610     17708\n",
       "58 2019-08-30     A     460     437  3311413     18037\n",
       "59 2019-08-30     B     531     511  4955833     18198\n",
       "60 2019-08-31     A     468     445  3364656     18736\n",
       "61 2019-08-31     B     548     528  5068972     18916\n",
       "\n",
       "[62 rows x 6 columns]"
      ]
     },
     "execution_count": 51,
     "metadata": {},
     "output_type": "execute_result"
    }
   ],
   "source": [
    "# создадим массив с уникальной парой значений дата - группа\n",
    "data_group = orders[['date', 'group']].drop_duplicates()\n",
    "\n",
    "# создадим аггрегированные таблицы с накопленной по дням информацией о заказах, пользователях, выручки\n",
    "orders_aggregated = data_group.apply(lambda x: orders[np.logical_and(orders['date'] <= x['date'], \n",
    "                                                                     orders['group'] == x['group'])]\n",
    "                                                      .agg({'date': 'max', \n",
    "                                                            'group': 'max', \n",
    "                                                            'transactionId': pd.Series.nunique,\n",
    "                                                            'visitorId': pd.Series.nunique,\n",
    "                                                            'revenue': 'sum'}), axis=1)\\\n",
    "                               .sort_values(by=['date', 'group'])\n",
    "                                                      \n",
    "visitors_aggregated = data_group.apply(lambda x: visitors[np.logical_and(visitors['date'] <= x['date'], \n",
    "                                                                         visitors['group'] == x['group'])]\n",
    "                                                          .agg({'date': 'max', \n",
    "                                                                'group': 'max', \n",
    "                                                                'visitors': 'sum'}), axis=1)\\\n",
    "                                .sort_values(by=['date', 'group'])\n",
    "\n",
    "# объединим обе таблицы в одну\n",
    "data_cumulative = pd.merge(orders_aggregated, visitors_aggregated, on=['date', 'group'])\n",
    "data_cumulative.columns = ['date', 'group', 'orders', 'buyers', 'revenue', 'visitors']\n",
    "data_cumulative"
   ]
  },
  {
   "cell_type": "code",
   "execution_count": 52,
   "metadata": {},
   "outputs": [
    {
     "data": {
      "text/html": [
       "<div>\n",
       "<style scoped>\n",
       "    .dataframe tbody tr th:only-of-type {\n",
       "        vertical-align: middle;\n",
       "    }\n",
       "\n",
       "    .dataframe tbody tr th {\n",
       "        vertical-align: top;\n",
       "    }\n",
       "\n",
       "    .dataframe thead th {\n",
       "        text-align: right;\n",
       "    }\n",
       "</style>\n",
       "<table border=\"1\" class=\"dataframe\">\n",
       "  <thead>\n",
       "    <tr style=\"text-align: right;\">\n",
       "      <th></th>\n",
       "      <th>date</th>\n",
       "      <th>revenue</th>\n",
       "      <th>orders</th>\n",
       "      <th>visitors</th>\n",
       "    </tr>\n",
       "  </thead>\n",
       "  <tbody>\n",
       "    <tr>\n",
       "      <th>0</th>\n",
       "      <td>2019-08-01</td>\n",
       "      <td>142779</td>\n",
       "      <td>23</td>\n",
       "      <td>719</td>\n",
       "    </tr>\n",
       "    <tr>\n",
       "      <th>2</th>\n",
       "      <td>2019-08-02</td>\n",
       "      <td>234381</td>\n",
       "      <td>42</td>\n",
       "      <td>1338</td>\n",
       "    </tr>\n",
       "    <tr>\n",
       "      <th>4</th>\n",
       "      <td>2019-08-03</td>\n",
       "      <td>346854</td>\n",
       "      <td>66</td>\n",
       "      <td>1845</td>\n",
       "    </tr>\n",
       "    <tr>\n",
       "      <th>6</th>\n",
       "      <td>2019-08-04</td>\n",
       "      <td>388030</td>\n",
       "      <td>77</td>\n",
       "      <td>2562</td>\n",
       "    </tr>\n",
       "    <tr>\n",
       "      <th>8</th>\n",
       "      <td>2019-08-05</td>\n",
       "      <td>474413</td>\n",
       "      <td>99</td>\n",
       "      <td>3318</td>\n",
       "    </tr>\n",
       "  </tbody>\n",
       "</table>\n",
       "</div>"
      ],
      "text/plain": [
       "        date  revenue  orders  visitors\n",
       "0 2019-08-01   142779      23       719\n",
       "2 2019-08-02   234381      42      1338\n",
       "4 2019-08-03   346854      66      1845\n",
       "6 2019-08-04   388030      77      2562\n",
       "8 2019-08-05   474413      99      3318"
      ]
     },
     "execution_count": 52,
     "metadata": {},
     "output_type": "execute_result"
    }
   ],
   "source": [
    "# сделаем отдельные таблицы для каждой группы с нужными нам для графиков столбцами\n",
    "data_cumulative_A = data_cumulative[data_cumulative['group'] == 'A'][['date','revenue', 'orders', 'visitors']]\n",
    "data_cumulative_B = data_cumulative[data_cumulative['group'] == 'B'][['date','revenue', 'orders', 'visitors']]\n",
    "data_cumulative_A.head()"
   ]
  },
  {
   "cell_type": "code",
   "execution_count": 58,
   "metadata": {},
   "outputs": [
    {
     "data": {
      "image/png": "[encoded data removed]",
      "text/plain": [
       "<Figure size 720x504 with 1 Axes>"
      ]
     },
     "metadata": {
      "needs_background": "light"
     },
     "output_type": "display_data"
    }
   ],
   "source": [
    "# построим график кумулятивной выручки по дням в каждой группе\n",
    "plt.figure(figsize=(10,7))\n",
    "plt.title('Изменение кумулятивной выручки по группам А и В')\n",
    "plt.xlabel('Дата')\n",
    "plt.ylabel('Кумулятивная выручка, у.е.')\n",
    "plt.plot(data_cumulative_A['date'], \n",
    "         data_cumulative_A['revenue'], \n",
    "         label='A')\n",
    "plt.plot(data_cumulative_B['date'], \n",
    "         data_cumulative_B['revenue'], \n",
    "         label='B')\n",
    "plt.legend();"
   ]
  },
  {
   "cell_type": "markdown",
   "metadata": {},
   "source": [
    "Выручка обеих групп растет на протяжении всего теста. Первые 5 дней теста выручка обеих групп соприкасается, далее - у группы В видим преимущество, есть резкий скачок роста в середине исследуемого месяца, это может быть признаком выбросов (очень дорогих заказов), либо резким увеличением числа заказов. Данные анамалии увидим в проекте ниже."
   ]
  },
  {
   "cell_type": "markdown",
   "metadata": {},
   "source": [
    "**График кумулятивного среднего чека по группам**"
   ]
  },
  {
   "cell_type": "code",
   "execution_count": 59,
   "metadata": {},
   "outputs": [
    {
     "data": {
      "image/png": "[encoded data removed]",
      "text/plain": [
       "<Figure size 720x504 with 1 Axes>"
      ]
     },
     "metadata": {
      "needs_background": "light"
     },
     "output_type": "display_data"
    }
   ],
   "source": [
    "# чтобы узнать кумулятивный средний чек, разделим выручку на число заказов\n",
    "plt.figure(figsize=(10,7))\n",
    "plt.title('Изменение кумулятивного среднего чека по группам А и В')\n",
    "plt.xlabel('Дата')\n",
    "plt.ylabel('Средний чек, у.е.')\n",
    "plt.plot(data_cumulative_A['date'], \n",
    "         data_cumulative_A['revenue'] / \n",
    "         data_cumulative_A['orders'], \n",
    "         label='A')\n",
    "plt.plot(data_cumulative_B['date'], \n",
    "         data_cumulative_B['revenue'] / \n",
    "         data_cumulative_B['orders'], \n",
    "         label='B')\n",
    "plt.legend();"
   ]
  },
  {
   "cell_type": "markdown",
   "metadata": {},
   "source": [
    "Снова видим сильный всплеск у группы В в середине месяца, похоже, что средний чек в последние пару дней стабилизировался, но было бы неплохо немного увеличить длительность тестирования, чтобы в этом убедиться. Средний чек группы В визуально кажется значительно больше."
   ]
  },
  {
   "cell_type": "markdown",
   "metadata": {},
   "source": [
    "**График относительного изменения кумулятивного среднего чека группы B к группе A**"
   ]
  },
  {
   "cell_type": "code",
   "execution_count": 60,
   "metadata": {},
   "outputs": [
    {
     "data": {
      "image/png": "[encoded data removed]",
      "text/plain": [
       "<Figure size 720x504 with 1 Axes>"
      ]
     },
     "metadata": {
      "needs_background": "light"
     },
     "output_type": "display_data"
    }
   ],
   "source": [
    "# соединим таблицы с группами в одну \n",
    "data_cumulative_merged = data_cumulative_A.merge(data_cumulative_B, on='date', suffixes=['A', 'B'])\n",
    "\n",
    "plt.figure(figsize=(10,7))\n",
    "plt.title('Относительный прирост среднего чека группы B к группе A')\n",
    "plt.xlabel('Дата')\n",
    "plt.ylabel('прирост')\n",
    "plt.plot(data_cumulative_merged['date'], \n",
    "         (data_cumulative_merged['revenueB'] / \n",
    "         data_cumulative_merged['ordersB']) / \n",
    "         (data_cumulative_merged['revenueA'] / \n",
    "         data_cumulative_merged['ordersA'])-1)\n",
    "plt.axhline(y=0, color='black', linestyle='--');"
   ]
  },
  {
   "cell_type": "markdown",
   "metadata": {},
   "source": [
    "Все тот же всплеск, в начале скачет график, в конце после всплеска снижается и возможно выходит на стабильный уровень. Но данных опять же не хватает для уверенности. "
   ]
  },
  {
   "cell_type": "markdown",
   "metadata": {},
   "source": [
    "**График кумулятивной конверсии по группам**"
   ]
  },
  {
   "cell_type": "code",
   "execution_count": 61,
   "metadata": {},
   "outputs": [
    {
     "data": {
      "text/plain": [
       "(737272.0, 737302.0, 0.0, 0.06)"
      ]
     },
     "execution_count": 61,
     "metadata": {},
     "output_type": "execute_result"
    },
    {
     "data": {
      "image/png": "[encoded data removed]",
      "text/plain": [
       "<Figure size 720x504 with 1 Axes>"
      ]
     },
     "metadata": {
      "needs_background": "light"
     },
     "output_type": "display_data"
    }
   ],
   "source": [
    "# посчитаем конверсию\n",
    "\n",
    "data_cumulative['conversion'] = data_cumulative['orders'] / data_cumulative['visitors']\n",
    "data_cumulative_conversion_A = data_cumulative[data_cumulative['group'] == 'A']\n",
    "data_cumulative_conversion_B = data_cumulative[data_cumulative['group'] == 'B']\n",
    "\n",
    "\n",
    "# построим графики\n",
    "\n",
    "plt.figure(figsize=(10,7))\n",
    "plt.title('Изменение кумулятивной конверсии по группам А и В')\n",
    "plt.xlabel('Дата')\n",
    "plt.ylabel('Кумулятивная конверсия')\n",
    "plt.plot(data_cumulative_conversion_A['date'], data_cumulative_conversion_A['conversion'], label='A')\n",
    "plt.plot(data_cumulative_conversion_B['date'], data_cumulative_conversion_B['conversion'], label='B')\n",
    "plt.legend();\n",
    "# зададим масштаб осей, чтобы из-за сильного приближения не было видно сильных скачков\n",
    "plt.axis([data_cumulative_conversion_A['date'].min(), \n",
    "          data_cumulative_conversion_A['date'].max(), \n",
    "          0, \n",
    "          0.06])"
   ]
  },
  {
   "cell_type": "markdown",
   "metadata": {},
   "source": [
    "Видим, что сначала конверсия группы В была ниже, но через дней 5 после начала теста поползла вверх и выровнялась там, конверсия группы А снизилась и также заняла стабильное положение"
   ]
  },
  {
   "cell_type": "markdown",
   "metadata": {},
   "source": [
    "**График относительного изменения кумулятивной конверсии группы B к группе A**"
   ]
  },
  {
   "cell_type": "code",
   "execution_count": 62,
   "metadata": {},
   "outputs": [
    {
     "data": {
      "text/html": [
       "<div>\n",
       "<style scoped>\n",
       "    .dataframe tbody tr th:only-of-type {\n",
       "        vertical-align: middle;\n",
       "    }\n",
       "\n",
       "    .dataframe tbody tr th {\n",
       "        vertical-align: top;\n",
       "    }\n",
       "\n",
       "    .dataframe thead th {\n",
       "        text-align: right;\n",
       "    }\n",
       "</style>\n",
       "<table border=\"1\" class=\"dataframe\">\n",
       "  <thead>\n",
       "    <tr style=\"text-align: right;\">\n",
       "      <th></th>\n",
       "      <th>date</th>\n",
       "      <th>group</th>\n",
       "      <th>orders</th>\n",
       "      <th>buyers</th>\n",
       "      <th>revenue</th>\n",
       "      <th>visitors</th>\n",
       "      <th>conversion</th>\n",
       "    </tr>\n",
       "  </thead>\n",
       "  <tbody>\n",
       "    <tr>\n",
       "      <th>0</th>\n",
       "      <td>2019-08-01</td>\n",
       "      <td>A</td>\n",
       "      <td>23</td>\n",
       "      <td>19</td>\n",
       "      <td>142779</td>\n",
       "      <td>719</td>\n",
       "      <td>0.031989</td>\n",
       "    </tr>\n",
       "    <tr>\n",
       "      <th>2</th>\n",
       "      <td>2019-08-02</td>\n",
       "      <td>A</td>\n",
       "      <td>42</td>\n",
       "      <td>36</td>\n",
       "      <td>234381</td>\n",
       "      <td>1338</td>\n",
       "      <td>0.031390</td>\n",
       "    </tr>\n",
       "    <tr>\n",
       "      <th>4</th>\n",
       "      <td>2019-08-03</td>\n",
       "      <td>A</td>\n",
       "      <td>66</td>\n",
       "      <td>60</td>\n",
       "      <td>346854</td>\n",
       "      <td>1845</td>\n",
       "      <td>0.035772</td>\n",
       "    </tr>\n",
       "    <tr>\n",
       "      <th>6</th>\n",
       "      <td>2019-08-04</td>\n",
       "      <td>A</td>\n",
       "      <td>77</td>\n",
       "      <td>71</td>\n",
       "      <td>388030</td>\n",
       "      <td>2562</td>\n",
       "      <td>0.030055</td>\n",
       "    </tr>\n",
       "    <tr>\n",
       "      <th>8</th>\n",
       "      <td>2019-08-05</td>\n",
       "      <td>A</td>\n",
       "      <td>99</td>\n",
       "      <td>92</td>\n",
       "      <td>474413</td>\n",
       "      <td>3318</td>\n",
       "      <td>0.029837</td>\n",
       "    </tr>\n",
       "  </tbody>\n",
       "</table>\n",
       "</div>"
      ],
      "text/plain": [
       "        date group  orders  buyers  revenue  visitors  conversion\n",
       "0 2019-08-01     A      23      19   142779       719    0.031989\n",
       "2 2019-08-02     A      42      36   234381      1338    0.031390\n",
       "4 2019-08-03     A      66      60   346854      1845    0.035772\n",
       "6 2019-08-04     A      77      71   388030      2562    0.030055\n",
       "8 2019-08-05     A      99      92   474413      3318    0.029837"
      ]
     },
     "execution_count": 62,
     "metadata": {},
     "output_type": "execute_result"
    }
   ],
   "source": [
    "data_cumulative_conversion_A.head()"
   ]
  },
  {
   "cell_type": "code",
   "execution_count": 63,
   "metadata": {},
   "outputs": [
    {
     "data": {
      "image/png": "[encoded data removed]",
      "text/plain": [
       "<Figure size 720x504 with 1 Axes>"
      ]
     },
     "metadata": {
      "needs_background": "light"
     },
     "output_type": "display_data"
    }
   ],
   "source": [
    "data_cumulative_conversion_merge = data_cumulative_conversion_A[['date', 'conversion']]\\\n",
    "        .merge(data_cumulative_conversion_B[['date', 'conversion']], on='date', suffixes=['A', 'B'])\n",
    "\n",
    "\n",
    "plt.figure(figsize=(10,7))\n",
    "plt.title('Относительный прирост конверсии группы B к группе A')\n",
    "plt.xlabel('Дата')\n",
    "plt.ylabel('Прирост')\n",
    "plt.plot(data_cumulative_conversion_merge['date'], \n",
    "         data_cumulative_conversion_merge['conversionB'] / \n",
    "         data_cumulative_conversion_merge['conversionA']-1)\n",
    "plt.axhline(y=0.1, color='black', linestyle='--')\n",
    "plt.axis([data_cumulative_conversion_A['date'].min(), \n",
    "          data_cumulative_conversion_A['date'].max(), \n",
    "          -0.4, \n",
    "          0.4]);"
   ]
  },
  {
   "cell_type": "markdown",
   "metadata": {},
   "source": [
    "Видим, что в начале теста есть скачки, затем группа В растет, затем немного снижается прирост в конверсии и, возможно, что стабилизируется. Но опять же было бы неплохо увидеть продолжение графика"
   ]
  },
  {
   "cell_type": "markdown",
   "metadata": {},
   "source": [
    "**Точечный график количества заказов по пользователям**"
   ]
  },
  {
   "cell_type": "code",
   "execution_count": 64,
   "metadata": {},
   "outputs": [
    {
     "data": {
      "text/html": [
       "<div>\n",
       "<style scoped>\n",
       "    .dataframe tbody tr th:only-of-type {\n",
       "        vertical-align: middle;\n",
       "    }\n",
       "\n",
       "    .dataframe tbody tr th {\n",
       "        vertical-align: top;\n",
       "    }\n",
       "\n",
       "    .dataframe thead th {\n",
       "        text-align: right;\n",
       "    }\n",
       "</style>\n",
       "<table border=\"1\" class=\"dataframe\">\n",
       "  <thead>\n",
       "    <tr style=\"text-align: right;\">\n",
       "      <th></th>\n",
       "      <th>visitorId</th>\n",
       "      <th>transactionId</th>\n",
       "    </tr>\n",
       "  </thead>\n",
       "  <tbody>\n",
       "    <tr>\n",
       "      <th>908</th>\n",
       "      <td>3967698036</td>\n",
       "      <td>3</td>\n",
       "    </tr>\n",
       "    <tr>\n",
       "      <th>55</th>\n",
       "      <td>249864742</td>\n",
       "      <td>3</td>\n",
       "    </tr>\n",
       "    <tr>\n",
       "      <th>478</th>\n",
       "      <td>2108163459</td>\n",
       "      <td>3</td>\n",
       "    </tr>\n",
       "    <tr>\n",
       "      <th>687</th>\n",
       "      <td>2988190573</td>\n",
       "      <td>3</td>\n",
       "    </tr>\n",
       "    <tr>\n",
       "      <th>890</th>\n",
       "      <td>3908431265</td>\n",
       "      <td>3</td>\n",
       "    </tr>\n",
       "    <tr>\n",
       "      <th>...</th>\n",
       "      <td>...</td>\n",
       "      <td>...</td>\n",
       "    </tr>\n",
       "    <tr>\n",
       "      <th>331</th>\n",
       "      <td>1438226485</td>\n",
       "      <td>1</td>\n",
       "    </tr>\n",
       "    <tr>\n",
       "      <th>332</th>\n",
       "      <td>1452540367</td>\n",
       "      <td>1</td>\n",
       "    </tr>\n",
       "    <tr>\n",
       "      <th>333</th>\n",
       "      <td>1455323168</td>\n",
       "      <td>1</td>\n",
       "    </tr>\n",
       "    <tr>\n",
       "      <th>334</th>\n",
       "      <td>1455861274</td>\n",
       "      <td>1</td>\n",
       "    </tr>\n",
       "    <tr>\n",
       "      <th>972</th>\n",
       "      <td>4283872382</td>\n",
       "      <td>1</td>\n",
       "    </tr>\n",
       "  </tbody>\n",
       "</table>\n",
       "<p>973 rows × 2 columns</p>\n",
       "</div>"
      ],
      "text/plain": [
       "      visitorId  transactionId\n",
       "908  3967698036              3\n",
       "55    249864742              3\n",
       "478  2108163459              3\n",
       "687  2988190573              3\n",
       "890  3908431265              3\n",
       "..          ...            ...\n",
       "331  1438226485              1\n",
       "332  1452540367              1\n",
       "333  1455323168              1\n",
       "334  1455861274              1\n",
       "972  4283872382              1\n",
       "\n",
       "[973 rows x 2 columns]"
      ]
     },
     "execution_count": 64,
     "metadata": {},
     "output_type": "execute_result"
    }
   ],
   "source": [
    "orders_by_visitor = orders.groupby('visitorId', as_index=False).agg({'transactionId': pd.Series.nunique})\n",
    "orders_by_visitor.sort_values(by='transactionId', ascending=False)"
   ]
  },
  {
   "cell_type": "code",
   "execution_count": 65,
   "metadata": {},
   "outputs": [
    {
     "data": {
      "image/png": "[encoded data removed]",
      "text/plain": [
       "<Figure size 720x504 with 1 Axes>"
      ]
     },
     "metadata": {
      "needs_background": "light"
     },
     "output_type": "display_data"
    }
   ],
   "source": [
    "plt.figure(figsize=(10,7))\n",
    "plt.title('Гистограмма количества заказов по пользователям')\n",
    "plt.xlabel('Количество заказов, шт.')\n",
    "plt.ylabel('Частота')\n",
    "plt.xticks(np.arange(1, 4, 1))\n",
    "plt.hist(orders_by_visitor['transactionId'], bins=3);"
   ]
  },
  {
   "cell_type": "code",
   "execution_count": 66,
   "metadata": {},
   "outputs": [
    {
     "data": {
      "image/png": "[encoded data removed]",
      "text/plain": [
       "<Figure size 720x504 with 1 Axes>"
      ]
     },
     "metadata": {
      "needs_background": "light"
     },
     "output_type": "display_data"
    }
   ],
   "source": [
    "plt.figure(figsize=(10,7))\n",
    "plt.title('Точечный график количества заказов по пользователям')\n",
    "plt.xlabel('Пользователи')\n",
    "plt.ylabel('Количество заказов, шт.')\n",
    "plt.yticks(np.arange(1, 4, 1))\n",
    "plt.scatter(orders_by_visitor['visitorId'], orders_by_visitor['transactionId']);"
   ]
  },
  {
   "cell_type": "markdown",
   "metadata": {},
   "source": [
    "Большинство пользователей совершают 1 заказ, 2 заказа уже реже, 3 - совсем редко"
   ]
  },
  {
   "cell_type": "markdown",
   "metadata": {},
   "source": [
    "**95-й и 99-й перцентили количества заказов на пользователя**"
   ]
  },
  {
   "cell_type": "code",
   "execution_count": 67,
   "metadata": {},
   "outputs": [
    {
     "data": {
      "text/plain": [
       "array([1., 2.])"
      ]
     },
     "execution_count": 67,
     "metadata": {},
     "output_type": "execute_result"
    }
   ],
   "source": [
    "np.percentile(orders_by_visitor['transactionId'], [95, 99])"
   ]
  },
  {
   "cell_type": "markdown",
   "metadata": {},
   "source": [
    "Границей для аномальных пользователей будем считать более 2-ух заказов, их совершает всего 1% пользователей"
   ]
  },
  {
   "cell_type": "markdown",
   "metadata": {},
   "source": [
    "**Точечный график стоимостей заказов**"
   ]
  },
  {
   "cell_type": "code",
   "execution_count": 68,
   "metadata": {},
   "outputs": [
    {
     "data": {
      "image/png": "[encoded data removed]",
      "text/plain": [
       "<Figure size 720x504 with 1 Axes>"
      ]
     },
     "metadata": {
      "needs_background": "light"
     },
     "output_type": "display_data"
    }
   ],
   "source": [
    "plt.figure(figsize=(10,7))\n",
    "plt.title('Точечный график стоимостей заказов')\n",
    "plt.xlabel('Пользователи')\n",
    "plt.ylabel('Стоимость заказов, у.е.')\n",
    "plt.scatter(orders['visitorId'], orders['revenue']);"
   ]
  },
  {
   "cell_type": "markdown",
   "metadata": {},
   "source": [
    "Видим, что выбивающихся заказов немного, но один из них очень сильно выбивается из общей картины и портит средние значения и видимо, делает замеченные на графиках всплески. С учетом медианного значения в 3 тыс, этот заказ на сумму 1,3 млн"
   ]
  },
  {
   "cell_type": "code",
   "execution_count": 69,
   "metadata": {},
   "outputs": [
    {
     "data": {
      "text/plain": [
       "(2955.0, 8300.814960629921)"
      ]
     },
     "execution_count": 69,
     "metadata": {},
     "output_type": "execute_result"
    }
   ],
   "source": [
    "orders['revenue'].median(), orders['revenue'].mean()"
   ]
  },
  {
   "cell_type": "code",
   "execution_count": 70,
   "metadata": {},
   "outputs": [
    {
     "data": {
      "text/plain": [
       "425     1294500\n",
       "1196     202740\n",
       "1136      92550\n",
       "744       86620\n",
       "743       67990\n",
       "1103      66350\n",
       "1099      65710\n",
       "949       60450\n",
       "940       58550\n",
       "131       53904\n",
       "Name: revenue, dtype: int64"
      ]
     },
     "execution_count": 70,
     "metadata": {},
     "output_type": "execute_result"
    }
   ],
   "source": [
    "orders['revenue'].sort_values(ascending=False).head(10)"
   ]
  },
  {
   "cell_type": "markdown",
   "metadata": {},
   "source": [
    "**95-й и 99-й перцентили стоимости заказов**"
   ]
  },
  {
   "cell_type": "code",
   "execution_count": 71,
   "metadata": {},
   "outputs": [
    {
     "data": {
      "text/plain": [
       "array([26785., 34792., 42353., 53904.])"
      ]
     },
     "execution_count": 71,
     "metadata": {},
     "output_type": "execute_result"
    }
   ],
   "source": [
    "np.percentile(orders['revenue'], [95, 97, 98, 99])"
   ]
  },
  {
   "cell_type": "markdown",
   "metadata": {},
   "source": [
    "Выберем границу для аномальных заказов в 40000, их совершает всего 2-3% пользователей"
   ]
  },
  {
   "cell_type": "markdown",
   "metadata": {},
   "source": [
    "## 2.3. Расчет статистической значимости\n",
    "<a id=\"p_value\"></a>"
   ]
  },
  {
   "cell_type": "markdown",
   "metadata": {},
   "source": [
    "**Статистическая значимость различий в конверсии между группами по «сырым» данным**"
   ]
  },
  {
   "cell_type": "markdown",
   "metadata": {},
   "source": [
    "У нас есть датафрейм data_cumulative_merged, содержащий информацию о кумулятивных метриках по датам и группам (выручка, число заказов, число посетителей сайта). Для расчетов нам также понадобятся не кумулятивные столбцы с выручкой, заказами и посетителями сайта. Посчитаем и добавим к имеющимся данным."
   ]
  },
  {
   "cell_type": "code",
   "execution_count": 72,
   "metadata": {},
   "outputs": [
    {
     "data": {
      "text/html": [
       "<div>\n",
       "<style scoped>\n",
       "    .dataframe tbody tr th:only-of-type {\n",
       "        vertical-align: middle;\n",
       "    }\n",
       "\n",
       "    .dataframe tbody tr th {\n",
       "        vertical-align: top;\n",
       "    }\n",
       "\n",
       "    .dataframe thead th {\n",
       "        text-align: right;\n",
       "    }\n",
       "</style>\n",
       "<table border=\"1\" class=\"dataframe\">\n",
       "  <thead>\n",
       "    <tr style=\"text-align: right;\">\n",
       "      <th></th>\n",
       "      <th>date</th>\n",
       "      <th>revenueA</th>\n",
       "      <th>ordersA</th>\n",
       "      <th>visitorsA</th>\n",
       "      <th>revenueB</th>\n",
       "      <th>ordersB</th>\n",
       "      <th>visitorsB</th>\n",
       "    </tr>\n",
       "  </thead>\n",
       "  <tbody>\n",
       "    <tr>\n",
       "      <th>0</th>\n",
       "      <td>2019-08-01</td>\n",
       "      <td>142779</td>\n",
       "      <td>23</td>\n",
       "      <td>719</td>\n",
       "      <td>59758</td>\n",
       "      <td>17</td>\n",
       "      <td>713</td>\n",
       "    </tr>\n",
       "    <tr>\n",
       "      <th>1</th>\n",
       "      <td>2019-08-02</td>\n",
       "      <td>234381</td>\n",
       "      <td>42</td>\n",
       "      <td>1338</td>\n",
       "      <td>221801</td>\n",
       "      <td>40</td>\n",
       "      <td>1294</td>\n",
       "    </tr>\n",
       "    <tr>\n",
       "      <th>2</th>\n",
       "      <td>2019-08-03</td>\n",
       "      <td>346854</td>\n",
       "      <td>66</td>\n",
       "      <td>1845</td>\n",
       "      <td>288850</td>\n",
       "      <td>54</td>\n",
       "      <td>1803</td>\n",
       "    </tr>\n",
       "    <tr>\n",
       "      <th>3</th>\n",
       "      <td>2019-08-04</td>\n",
       "      <td>388030</td>\n",
       "      <td>77</td>\n",
       "      <td>2562</td>\n",
       "      <td>385740</td>\n",
       "      <td>68</td>\n",
       "      <td>2573</td>\n",
       "    </tr>\n",
       "    <tr>\n",
       "      <th>4</th>\n",
       "      <td>2019-08-05</td>\n",
       "      <td>474413</td>\n",
       "      <td>99</td>\n",
       "      <td>3318</td>\n",
       "      <td>475648</td>\n",
       "      <td>89</td>\n",
       "      <td>3280</td>\n",
       "    </tr>\n",
       "  </tbody>\n",
       "</table>\n",
       "</div>"
      ],
      "text/plain": [
       "        date  revenueA  ordersA  visitorsA  revenueB  ordersB  visitorsB\n",
       "0 2019-08-01    142779       23        719     59758       17        713\n",
       "1 2019-08-02    234381       42       1338    221801       40       1294\n",
       "2 2019-08-03    346854       66       1845    288850       54       1803\n",
       "3 2019-08-04    388030       77       2562    385740       68       2573\n",
       "4 2019-08-05    474413       99       3318    475648       89       3280"
      ]
     },
     "execution_count": 72,
     "metadata": {},
     "output_type": "execute_result"
    }
   ],
   "source": [
    "data_cumulative_merged.head()"
   ]
  },
  {
   "cell_type": "code",
   "execution_count": 73,
   "metadata": {},
   "outputs": [],
   "source": [
    "data_cumulative_merged.columns = ['date', 'revenue_cumA', 'orders_cumA', 'visitors_cumA', \n",
    "                                  'revenue_cumB', 'orders_cumB', 'visitors_cumB']"
   ]
  },
  {
   "cell_type": "code",
   "execution_count": 74,
   "metadata": {},
   "outputs": [
    {
     "data": {
      "text/html": [
       "<div>\n",
       "<style scoped>\n",
       "    .dataframe tbody tr th:only-of-type {\n",
       "        vertical-align: middle;\n",
       "    }\n",
       "\n",
       "    .dataframe tbody tr th {\n",
       "        vertical-align: top;\n",
       "    }\n",
       "\n",
       "    .dataframe thead th {\n",
       "        text-align: right;\n",
       "    }\n",
       "</style>\n",
       "<table border=\"1\" class=\"dataframe\">\n",
       "  <thead>\n",
       "    <tr style=\"text-align: right;\">\n",
       "      <th></th>\n",
       "      <th>date</th>\n",
       "      <th>group</th>\n",
       "      <th>visitors</th>\n",
       "    </tr>\n",
       "  </thead>\n",
       "  <tbody>\n",
       "    <tr>\n",
       "      <th>0</th>\n",
       "      <td>2019-08-01</td>\n",
       "      <td>A</td>\n",
       "      <td>719</td>\n",
       "    </tr>\n",
       "    <tr>\n",
       "      <th>1</th>\n",
       "      <td>2019-08-02</td>\n",
       "      <td>A</td>\n",
       "      <td>619</td>\n",
       "    </tr>\n",
       "    <tr>\n",
       "      <th>2</th>\n",
       "      <td>2019-08-03</td>\n",
       "      <td>A</td>\n",
       "      <td>507</td>\n",
       "    </tr>\n",
       "    <tr>\n",
       "      <th>3</th>\n",
       "      <td>2019-08-04</td>\n",
       "      <td>A</td>\n",
       "      <td>717</td>\n",
       "    </tr>\n",
       "    <tr>\n",
       "      <th>4</th>\n",
       "      <td>2019-08-05</td>\n",
       "      <td>A</td>\n",
       "      <td>756</td>\n",
       "    </tr>\n",
       "  </tbody>\n",
       "</table>\n",
       "</div>"
      ],
      "text/plain": [
       "        date group  visitors\n",
       "0 2019-08-01     A       719\n",
       "1 2019-08-02     A       619\n",
       "2 2019-08-03     A       507\n",
       "3 2019-08-04     A       717\n",
       "4 2019-08-05     A       756"
      ]
     },
     "execution_count": 74,
     "metadata": {},
     "output_type": "execute_result"
    }
   ],
   "source": [
    "visitors.head()"
   ]
  },
  {
   "cell_type": "code",
   "execution_count": 75,
   "metadata": {},
   "outputs": [],
   "source": [
    "# посчитаем заказы и выручку за каждый день по каждой группе\n",
    "orders_per_dayA = orders[orders['group']=='A'].groupby('date', as_index=False)\\\n",
    "                                              .agg({'transactionId': pd.Series.nunique, \n",
    "                                                    'revenue': 'sum'})\n",
    "orders_per_dayA.columns = ['date', 'orders_per_dayA', 'revenue_per_dayA']\n",
    "\n",
    "orders_per_dayB = orders[orders['group']=='B'].groupby('date', as_index=False)\\\n",
    "                                              .agg({'transactionId': pd.Series.nunique, \n",
    "                                                    'revenue': 'sum'})\n",
    "orders_per_dayB.columns = ['date', 'orders_per_dayB', 'revenue_per_dayB']\n",
    "\n",
    "# посчитаем количество посетителей за каждый день по каждой группе\n",
    "visitors_per_dayA = visitors[visitors['group']=='A'].groupby('date', as_index=False)\\\n",
    "                                              .agg({'visitors': 'sum'})\n",
    "visitors_per_dayA.columns = ['date', 'visitors_per_dayA']\n",
    "\n",
    "visitors_per_dayB = visitors[visitors['group']=='B'].groupby('date', as_index=False)\\\n",
    "                                              .agg({'visitors': 'sum'})\n",
    "visitors_per_dayB.columns = ['date', 'visitors_per_dayB']"
   ]
  },
  {
   "cell_type": "code",
   "execution_count": 76,
   "metadata": {},
   "outputs": [
    {
     "data": {
      "text/html": [
       "<div>\n",
       "<style scoped>\n",
       "    .dataframe tbody tr th:only-of-type {\n",
       "        vertical-align: middle;\n",
       "    }\n",
       "\n",
       "    .dataframe tbody tr th {\n",
       "        vertical-align: top;\n",
       "    }\n",
       "\n",
       "    .dataframe thead th {\n",
       "        text-align: right;\n",
       "    }\n",
       "</style>\n",
       "<table border=\"1\" class=\"dataframe\">\n",
       "  <thead>\n",
       "    <tr style=\"text-align: right;\">\n",
       "      <th></th>\n",
       "      <th>date</th>\n",
       "      <th>revenue_cumA</th>\n",
       "      <th>orders_cumA</th>\n",
       "      <th>visitors_cumA</th>\n",
       "      <th>revenue_cumB</th>\n",
       "      <th>orders_cumB</th>\n",
       "      <th>visitors_cumB</th>\n",
       "      <th>orders_per_dayA</th>\n",
       "      <th>revenue_per_dayA</th>\n",
       "      <th>orders_per_dayB</th>\n",
       "      <th>revenue_per_dayB</th>\n",
       "      <th>visitors_per_dayA</th>\n",
       "      <th>visitors_per_dayB</th>\n",
       "    </tr>\n",
       "  </thead>\n",
       "  <tbody>\n",
       "    <tr>\n",
       "      <th>0</th>\n",
       "      <td>2019-08-01</td>\n",
       "      <td>142779</td>\n",
       "      <td>23</td>\n",
       "      <td>719</td>\n",
       "      <td>59758</td>\n",
       "      <td>17</td>\n",
       "      <td>713</td>\n",
       "      <td>23</td>\n",
       "      <td>142779</td>\n",
       "      <td>17</td>\n",
       "      <td>59758</td>\n",
       "      <td>719</td>\n",
       "      <td>713</td>\n",
       "    </tr>\n",
       "    <tr>\n",
       "      <th>1</th>\n",
       "      <td>2019-08-02</td>\n",
       "      <td>234381</td>\n",
       "      <td>42</td>\n",
       "      <td>1338</td>\n",
       "      <td>221801</td>\n",
       "      <td>40</td>\n",
       "      <td>1294</td>\n",
       "      <td>19</td>\n",
       "      <td>91602</td>\n",
       "      <td>23</td>\n",
       "      <td>162043</td>\n",
       "      <td>619</td>\n",
       "      <td>581</td>\n",
       "    </tr>\n",
       "    <tr>\n",
       "      <th>2</th>\n",
       "      <td>2019-08-03</td>\n",
       "      <td>346854</td>\n",
       "      <td>66</td>\n",
       "      <td>1845</td>\n",
       "      <td>288850</td>\n",
       "      <td>54</td>\n",
       "      <td>1803</td>\n",
       "      <td>24</td>\n",
       "      <td>112473</td>\n",
       "      <td>14</td>\n",
       "      <td>67049</td>\n",
       "      <td>507</td>\n",
       "      <td>509</td>\n",
       "    </tr>\n",
       "    <tr>\n",
       "      <th>3</th>\n",
       "      <td>2019-08-04</td>\n",
       "      <td>388030</td>\n",
       "      <td>77</td>\n",
       "      <td>2562</td>\n",
       "      <td>385740</td>\n",
       "      <td>68</td>\n",
       "      <td>2573</td>\n",
       "      <td>11</td>\n",
       "      <td>41176</td>\n",
       "      <td>14</td>\n",
       "      <td>96890</td>\n",
       "      <td>717</td>\n",
       "      <td>770</td>\n",
       "    </tr>\n",
       "    <tr>\n",
       "      <th>4</th>\n",
       "      <td>2019-08-05</td>\n",
       "      <td>474413</td>\n",
       "      <td>99</td>\n",
       "      <td>3318</td>\n",
       "      <td>475648</td>\n",
       "      <td>89</td>\n",
       "      <td>3280</td>\n",
       "      <td>22</td>\n",
       "      <td>86383</td>\n",
       "      <td>21</td>\n",
       "      <td>89908</td>\n",
       "      <td>756</td>\n",
       "      <td>707</td>\n",
       "    </tr>\n",
       "  </tbody>\n",
       "</table>\n",
       "</div>"
      ],
      "text/plain": [
       "        date  revenue_cumA  orders_cumA  visitors_cumA  revenue_cumB  \\\n",
       "0 2019-08-01        142779           23            719         59758   \n",
       "1 2019-08-02        234381           42           1338        221801   \n",
       "2 2019-08-03        346854           66           1845        288850   \n",
       "3 2019-08-04        388030           77           2562        385740   \n",
       "4 2019-08-05        474413           99           3318        475648   \n",
       "\n",
       "   orders_cumB  visitors_cumB  orders_per_dayA  revenue_per_dayA  \\\n",
       "0           17            713               23            142779   \n",
       "1           40           1294               19             91602   \n",
       "2           54           1803               24            112473   \n",
       "3           68           2573               11             41176   \n",
       "4           89           3280               22             86383   \n",
       "\n",
       "   orders_per_dayB  revenue_per_dayB  visitors_per_dayA  visitors_per_dayB  \n",
       "0               17             59758                719                713  \n",
       "1               23            162043                619                581  \n",
       "2               14             67049                507                509  \n",
       "3               14             96890                717                770  \n",
       "4               21             89908                756                707  "
      ]
     },
     "execution_count": 76,
     "metadata": {},
     "output_type": "execute_result"
    }
   ],
   "source": [
    "# соединим все столбцы в один датафрейм\n",
    "data_for_test = data_cumulative_merged.merge(orders_per_dayA, on='date')\\\n",
    "                                      .merge(orders_per_dayB, on='date')\\\n",
    "                                      .merge(visitors_per_dayA, on='date')\\\n",
    "                                      .merge(visitors_per_dayB, on='date')\n",
    "                                         \n",
    "data_for_test.head()"
   ]
  },
  {
   "cell_type": "code",
   "execution_count": 77,
   "metadata": {},
   "outputs": [
    {
     "data": {
      "text/plain": [
       "((31, 7), (31, 13))"
      ]
     },
     "execution_count": 77,
     "metadata": {},
     "output_type": "execute_result"
    }
   ],
   "source": [
    "data_cumulative_merged.shape, data_for_test.shape"
   ]
  },
  {
   "cell_type": "code",
   "execution_count": 78,
   "metadata": {},
   "outputs": [
    {
     "name": "stdout",
     "output_type": "stream",
     "text": [
      "0\n",
      "0\n",
      "0\n",
      "0\n",
      "0\n",
      "0\n"
     ]
    }
   ],
   "source": [
    "# проверим, сходится ли с посчитанными ранее данными\n",
    "print(orders_per_dayA['revenue_per_dayA'].cumsum().sum() - data_for_test['revenue_cumA'].sum())\n",
    "print(orders_per_dayB['revenue_per_dayB'].cumsum().sum() - data_for_test['revenue_cumB'].sum())\n",
    "print(orders_per_dayA['orders_per_dayA'].cumsum().sum() - data_for_test['orders_cumA'].sum())\n",
    "print(orders_per_dayB['orders_per_dayB'].cumsum().sum() - data_for_test['orders_cumB'].sum())\n",
    "print(visitors_per_dayA['visitors_per_dayA'].cumsum().sum() - data_for_test['visitors_cumA'].sum())\n",
    "print(visitors_per_dayB['visitors_per_dayB'].cumsum().sum() - data_for_test['visitors_cumB'].sum())"
   ]
  },
  {
   "cell_type": "code",
   "execution_count": 79,
   "metadata": {},
   "outputs": [],
   "source": [
    "# создадим переменные, в которых укажем число заказов для пользователей\n",
    "\n",
    "orders_per_userA = orders[orders['group']=='A'].groupby('visitorId', as_index=False)\\\n",
    "                                               .agg({'transactionId': pd.Series.nunique})\n",
    "orders_per_userA.columns = ['userId', 'orders']\n",
    "\n",
    "orders_per_userB = orders[orders['group']=='B'].groupby('visitorId', as_index=False)\\\n",
    "                                               .agg({'transactionId': pd.Series.nunique})\n",
    "orders_per_userB.columns = ['userId', 'orders']\n",
    "\n",
    "# создадим переменные, где у пользователей без заказов проставим 0\n",
    "sampleA = pd.concat([orders_per_userA['orders'], \n",
    "                     pd.Series(0, \n",
    "                               index=np.arange(data_for_test['visitors_per_dayA'].sum() \n",
    "                                               - len(orders_per_userA['orders'])), \n",
    "                               name='orders')], \n",
    "                    axis=0)\n",
    "\n",
    "sampleB = pd.concat([orders_per_userB['orders'], \n",
    "                     pd.Series(0, \n",
    "                               index=np.arange(data_for_test['visitors_per_dayB'].sum() \n",
    "                                               - len(orders_per_userB['orders'])), \n",
    "                               name='orders')], \n",
    "                    axis=0)"
   ]
  },
  {
   "cell_type": "markdown",
   "metadata": {},
   "source": [
    "Нулевая гипотеза - группа А и группа В в конверсии не различаются. \n",
    "Альтернативная гипотеза - в конверсии групп А и В имеются различия."
   ]
  },
  {
   "cell_type": "code",
   "execution_count": 81,
   "metadata": {},
   "outputs": [
    {
     "data": {
      "image/png": "[encoded data removed]",
      "text/plain": [
       "<Figure size 720x504 with 1 Axes>"
      ]
     },
     "metadata": {
      "needs_background": "light"
     },
     "output_type": "display_data"
    }
   ],
   "source": [
    "plt.figure(figsize=(10,7))\n",
    "plt.title('Конверсия групп А и В')\n",
    "sns.boxplot(x='group', y='conversion', data=data_cumulative).set(xlabel='Группа',\n",
    "                                                                 ylabel='Конверсия');"
   ]
  },
  {
   "cell_type": "markdown",
   "metadata": {},
   "source": [
    "Визуально кажется, что конверсии различаются, проверим по тесту Уилкоксона-Манна-Уитни"
   ]
  },
  {
   "cell_type": "code",
   "execution_count": 82,
   "metadata": {},
   "outputs": [
    {
     "name": "stdout",
     "output_type": "stream",
     "text": [
      "p-значение: 0.011018084110014691\n",
      "Отвергаем нулевую гипотезу\n",
      "Относительный прирост конверсии группы B к группе A 0.1597977924896936\n"
     ]
    }
   ],
   "source": [
    "# посчитаем стат значимость различий в конверсии между группами\n",
    "alpha = 0.05\n",
    "results = stats.mannwhitneyu(sampleA, sampleB, alternative = 'two-sided')\n",
    "print('p-значение:', results[1])\n",
    "if (results[1] < alpha):\n",
    "    print(\"Отвергаем нулевую гипотезу\")\n",
    "else:\n",
    "    print(\"Не получилось отвергнуть нулевую гипотезу\") \n",
    "\n",
    "\n",
    "print('Относительный прирост конверсии группы B к группе A', sampleB.mean() / sampleA.mean()-1)"
   ]
  },
  {
   "cell_type": "markdown",
   "metadata": {},
   "source": [
    "**Вывод** Значение p-value близко к 0. То есть конверсия между группами различается в генеральной совокупности. И данные различия не случайны."
   ]
  },
  {
   "cell_type": "markdown",
   "metadata": {},
   "source": [
    "**Статистическая значимость различий в среднем чеке заказа между группами по «сырым» данным**"
   ]
  },
  {
   "cell_type": "markdown",
   "metadata": {},
   "source": [
    "Нулевая гипотеза - средний чек в группах А и Б не различаются. \n",
    "Альтернативная гипотеза - в среднем чеке групп А и Б имеются различия."
   ]
  },
  {
   "cell_type": "code",
   "execution_count": 83,
   "metadata": {},
   "outputs": [
    {
     "data": {
      "image/png": "[encoded data removed]",
      "text/plain": [
       "<Figure size 720x504 with 1 Axes>"
      ]
     },
     "metadata": {
      "needs_background": "light"
     },
     "output_type": "display_data"
    }
   ],
   "source": [
    "plt.figure(figsize=(10,7))\n",
    "plt.title('Средний чек групп А и В')\n",
    "plt.ylim(0, 30000)\n",
    "sns.boxplot(x='group', y='revenue', data=orders).set(xlabel='Группа',\n",
    "                                                     ylabel='Средний чек, у.е.');"
   ]
  },
  {
   "cell_type": "markdown",
   "metadata": {},
   "source": [
    "Визуально различий в среднем чеке нет"
   ]
  },
  {
   "cell_type": "code",
   "execution_count": 84,
   "metadata": {},
   "outputs": [
    {
     "name": "stdout",
     "output_type": "stream",
     "text": [
      "p-значение: 0.8294908998149533\n",
      "Не получилось отвергнуть нулевую гипотезу\n",
      "Относительный прирост среднего чека группы B к группе A 0.28660287636871096\n"
     ]
    }
   ],
   "source": [
    "results = stats.mannwhitneyu(orders[orders['group'] == 'A']['revenue'], \n",
    "                             orders[orders['group'] == 'B']['revenue'], \n",
    "                             alternative = 'two-sided')\n",
    "print('p-значение:', results[1])\n",
    "if (results[1] < alpha):\n",
    "    print(\"Отвергаем нулевую гипотезу\")\n",
    "else:\n",
    "    print(\"Не получилось отвергнуть нулевую гипотезу\") \n",
    "\n",
    "\n",
    "print('Относительный прирост среднего чека группы B к группе A', \\\n",
    "      orders[orders['group'] == 'B']['revenue'].mean() / \n",
    "      orders[orders['group'] == 'A']['revenue'].mean() - 1)"
   ]
  },
  {
   "cell_type": "markdown",
   "metadata": {},
   "source": [
    "Полученное значение p-value говорит о том, что хотя Группы А и Б различаются по средним чекам, при соблюдении условий нулевой гипотезы вероятность получить такие и большие различия составляет в около 83%. У нас недостаточно оснований отклонить нулевую гипотезу. Наши данные согласуются с нулевой гипотезой."
   ]
  },
  {
   "cell_type": "markdown",
   "metadata": {},
   "source": [
    "**Статистическая значимость различий в конверсии между группами по «очищенным» данным**"
   ]
  },
  {
   "cell_type": "markdown",
   "metadata": {},
   "source": [
    "Примем пользователей, совершивших больше 2-ёх заказов или купивших на сумму более 40000, за аномальных"
   ]
  },
  {
   "cell_type": "code",
   "execution_count": 85,
   "metadata": {},
   "outputs": [
    {
     "data": {
      "text/plain": [
       "(30,)"
      ]
     },
     "execution_count": 85,
     "metadata": {},
     "output_type": "execute_result"
    }
   ],
   "source": [
    "# создадим таблицы с пользователями, совершившими более 3 заказов \n",
    "# и с пользователями, совершившими заказы на сумму более 40000\n",
    "\n",
    "users_with_many_orders = pd.concat([orders_per_userA[orders_per_userA['orders'] > 2],\n",
    "                                    orders_per_userA[orders_per_userB['orders'] > 2]], \n",
    "                                   axis=0)['userId']\n",
    "users_with_expensive_orders = orders[orders['revenue'] > 40000]['visitorId']\n",
    "\n",
    "\n",
    "# объединим этих пользователей и удалим дубликаты\n",
    "\n",
    "abnormal_users = pd.concat([users_with_many_orders, \n",
    "                            users_with_expensive_orders], \n",
    "                           axis=0)\\\n",
    "                    .drop_duplicates()\\\n",
    "                    .sort_values()\n",
    "abnormal_users.shape"
   ]
  },
  {
   "cell_type": "markdown",
   "metadata": {},
   "source": [
    "30 пользователей аномальные, их мало и можно удалить и посчитать стат значимость без них"
   ]
  },
  {
   "cell_type": "code",
   "execution_count": 86,
   "metadata": {},
   "outputs": [],
   "source": [
    "sampleAFiltered = pd.concat([orders_per_userA\n",
    "                        [np.logical_not(orders_per_userA['userId'].isin(abnormal_users))]['orders'],\n",
    "                        pd.Series(0, \n",
    "                                  index=np.arange(data_for_test['visitors_per_dayA'].sum()\n",
    "                                                  - len(orders_per_userA['orders'])),\n",
    "                                  name='orders')],\n",
    "                            axis=0)\n",
    "sampleBFiltered = pd.concat([orders_per_userB\n",
    "                        [np.logical_not(orders_per_userB['userId'].isin(abnormal_users))]['orders'],\n",
    "                        pd.Series(0, \n",
    "                                  index=np.arange(data_for_test['visitors_per_dayB'].sum()\n",
    "                                                  - len(orders_per_userB['orders'])),\n",
    "                                  name='orders')],\n",
    "                            axis=0)"
   ]
  },
  {
   "cell_type": "markdown",
   "metadata": {},
   "source": [
    "Нулевая гипотеза - группа А и группа В после удаления аномальных пользователей в конверсии  не различаются. \n",
    "Альтернативная гипотеза - в конверсии групп А и В после удаления аномальных пользователей имеются различия."
   ]
  },
  {
   "cell_type": "code",
   "execution_count": 87,
   "metadata": {},
   "outputs": [
    {
     "name": "stdout",
     "output_type": "stream",
     "text": [
      "p-значение: 0.002911844602754345\n",
      "Отвергаем нулевую гипотезу\n",
      "Относительный прирост конверсии группы B к группе A 0.2236845680668731\n"
     ]
    }
   ],
   "source": [
    "# посчитаем стат значимость в конверсии по очищенным данным\n",
    "results = stats.mannwhitneyu(sampleAFiltered, sampleBFiltered, alternative = 'two-sided')\n",
    "print('p-значение:', results[1])\n",
    "if (results[1] < alpha):\n",
    "    print(\"Отвергаем нулевую гипотезу\")\n",
    "else:\n",
    "    print(\"Не получилось отвергнуть нулевую гипотезу\") \n",
    "\n",
    "\n",
    "print('Относительный прирост конверсии группы B к группе A', sampleBFiltered.mean() / sampleAFiltered.mean()-1)"
   ]
  },
  {
   "cell_type": "markdown",
   "metadata": {},
   "source": [
    "Статистическая значимость стала еще меньше при удалении аномальных пользователей. Относительный прирост конверсии группы B к группе A увеличился до 22.4%. Различия в конверсии не случайны, после удаления аномальных пользователей уверенность в этом повышается"
   ]
  },
  {
   "cell_type": "markdown",
   "metadata": {},
   "source": [
    "**Статистическая значимость различий в среднем чеке заказа между группами по «очищенным» данным**"
   ]
  },
  {
   "cell_type": "markdown",
   "metadata": {},
   "source": [
    "Нулевая гипотеза - после удаления из данных аномальных пользователей средний чек в группах А и Б не различается. \n",
    "Альтернативная гипотеза - после удаления из данных аномальных пользователей в среднем чеке групп А и Б имеются различия."
   ]
  },
  {
   "cell_type": "code",
   "execution_count": 88,
   "metadata": {},
   "outputs": [
    {
     "name": "stdout",
     "output_type": "stream",
     "text": [
      "p-значение: 0.8788308087677699\n",
      "Не получилось отвергнуть нулевую гипотезу\n",
      "Относительный прирост среднего чека группы B к группе A 0.0608396168621963\n"
     ]
    }
   ],
   "source": [
    "results = stats.mannwhitneyu(orders[np.logical_and(orders['group'] == 'A', \n",
    "                                                   np.logical_not(orders['visitorId']\n",
    "                                                            .isin(abnormal_users)))]['revenue'],\n",
    "                             orders[np.logical_and(orders['group'] == 'B', \n",
    "                                                   np.logical_not(orders['visitorId']\n",
    "                                                            .isin(abnormal_users)))]['revenue'],\n",
    "                            alternative = 'two-sided')\n",
    "print('p-значение:', results[1])\n",
    "if (results[1] < alpha):\n",
    "    print(\"Отвергаем нулевую гипотезу\")\n",
    "else:\n",
    "    print(\"Не получилось отвергнуть нулевую гипотезу\") \n",
    "\n",
    "\n",
    "print('Относительный прирост среднего чека группы B к группе A', \\\n",
    "      orders[np.logical_and(orders['group'] == 'B', \n",
    "                            np.logical_not(orders['visitorId']\n",
    "                                 .isin(abnormal_users)))]['revenue'].mean() / \n",
    "      orders[np.logical_and(orders['group'] == 'A', \n",
    "                            np.logical_not(orders['visitorId']\n",
    "                                .isin(abnormal_users)))]['revenue'].mean() - 1)"
   ]
  },
  {
   "cell_type": "markdown",
   "metadata": {},
   "source": [
    "Разница между сегментами сократилась с 29% до 6%, P-value немного повысился. Выводы прежние: у нас недостаточно оснований отклонить нулевую гипотезу. Наши данные согласуются с нулевой гипотезой, особенно после удаления аномальных значений, которые влияли на относительный прирост."
   ]
  },
  {
   "cell_type": "markdown",
   "metadata": {},
   "source": [
    "## 3. Общий вывод\n",
    "<a id=\"conclusion\"></a>"
   ]
  },
  {
   "cell_type": "markdown",
   "metadata": {},
   "source": [
    "Итак, в ходе проекта, проделанно следующее:\n",
    "\n",
    "**В Части 1** по приотизации гипотез выявлены следующие перспективные гипотезы по фреймворку RICE:\n",
    "- Добавить форму подписки на все основные страницы, чтобы собрать базу клиентов для email-рассылок;\n",
    "- Добавить блоки рекомендаций товаров на сайт интернет магазина, чтобы повысить конверсию и средний чек заказа;\n",
    "- Добавить два новых канала привлечения трафика, что позволит привлекать на 30% больше пользователей;\n",
    "- Показать на главной странице баннеры с актуальными акциями и распродажами, чтобы увеличить конверсию;\n",
    "- Запустить акцию, дающую скидку на товар в день рождения.\n",
    "\n",
    "Фреймворк ICE показывал нам другие перспективы, но так как охват был не учтен, самая перспективная гипотеза по ICE (о акции, дающую скидку на товар в день рождения) откатилась на 5 место по RICE. Зато гипотеза *о добавлении блоков рекомендаций товаров* имеет широкий охват, поэтому оказалась более перспективной, чем казалась на первый взгляд по ICE.\n",
    "\n",
    "\n",
    "**В Части 2** по анализу А/В-тестов:\n",
    "1. Проведена предобработка данных, в ходе которой форматы дат приведены к правильному типу. Данные проверены на корректность: обнаружены пользователи, относящиеся к обеим группам теста. Их всего 58 человек (5%), в связи с этим было решено удалить их из датасэта и продолжить анализ результатов А/В-теста. Также обнаружено, что численность групп различается: группа Б на 16 % больше группы А. В нашем случае метриками будут являться относительные значения, доли, поэтому такая большая разница не проблематична.\n",
    "\n",
    "2. Проведен анализ результатов А/В-теста. Можно выделить значимые моменты:\n",
    "\n",
    "- В ходе анализа кумулятивной выручки и среднего чека по группам, увидели, что группа В прибыльнее. Также заметили всплески на графиках, которые свидетельствуют об аномальных значениях.\n",
    "- Относительный прирост кумулятивного среднего чека группы B к группе A скачет на протяжении первой половины теста, затем имеет всплеск и начинает выравниваться. Здесь нам предположений строить не удается, так как мешают выбросы и для стабилизации данного прироста, возможно, понадобится больше времени. Прирост по конверсии положительный, также скачет, и вероятно, выравнивается в конце теста.\n",
    "- При построении точечных графиков количества заказов по пользователям и стоимости заказов и расчета 95 и 99 персентилей, были выявлены пороги для аномальных значений. Пользователей, совершившие более 2-ух заказов и заказывающие на сумму более 40000 будем считать аномальными.\n",
    "- Обнаружена статистическая значимость в различии конверсии между группами и по \"сырым\" данным, и по очищенным. После очистки данных от аномальных пользователей, статистическая значимость стала еще меньше, а относительный прирост конверсии группы B к группе A увеличился до 22.4%.\n",
    "- Статистическая значимость в различии по среднему чеку не обнаружена. После очистки данных разница между группами по среднему чеку сократилась с 29% до 6%, что удостоверило нас в отсутсвии статистически значимых различий."
   ]
  },
  {
   "cell_type": "markdown",
   "metadata": {},
   "source": [
    "**В связи с этим, считаю правильным остановить тест, зафиксировать победу группы В. Так как конверсия выросла довольно сильно (на 22.4%)** "
   ]
  }
 ],
 "metadata": {
  "kernelspec": {
   "display_name": "Python 3",
   "language": "python",
   "name": "python3"
  },
  "language_info": {
   "codemirror_mode": {
    "name": "ipython",
    "version": 3
   },
   "file_extension": ".py",
   "mimetype": "text/x-python",
   "name": "python",
   "nbconvert_exporter": "python",
   "pygments_lexer": "ipython3",
   "version": "3.8.3"
  }
 },
 "nbformat": 4,
 "nbformat_minor": 4
}
